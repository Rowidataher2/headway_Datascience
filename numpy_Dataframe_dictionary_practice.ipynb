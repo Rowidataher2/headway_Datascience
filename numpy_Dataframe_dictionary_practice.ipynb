{
 "cells": [
  {
   "cell_type": "markdown",
   "id": "3b84bb83",
   "metadata": {},
   "source": [
    "# Numpy"
   ]
  },
  {
   "cell_type": "code",
   "execution_count": 1,
   "id": "4b013865",
   "metadata": {},
   "outputs": [
    {
     "name": "stdout",
     "output_type": "stream",
     "text": [
      "Requirement already satisfied: numpy in c:\\users\\rowida\\anaconda3\\anacondaa\\lib\\site-packages (1.23.5)\n"
     ]
    }
   ],
   "source": [
    "!pip install numpy\n"
   ]
  },
  {
   "cell_type": "code",
   "execution_count": 2,
   "id": "9c3218d8",
   "metadata": {},
   "outputs": [],
   "source": [
    "import numpy as np"
   ]
  },
  {
   "cell_type": "code",
   "execution_count": 3,
   "id": "6935c15f",
   "metadata": {},
   "outputs": [
    {
     "name": "stdout",
     "output_type": "stream",
     "text": [
      "[1 2 3 4]\n",
      "\n",
      "[[1 2]\n",
      " [3 4]]\n",
      "\n",
      "[[[ 1  2  3]\n",
      "  [ 4  5  6]]\n",
      "\n",
      " [[ 7  8  9]\n",
      "  [10 11 12]]]\n",
      "\n",
      "[1 2 3 4]\n",
      "\n",
      "<class 'numpy.ndarray'>\n",
      "\n",
      "[[[[2 3 4]]]]\n",
      "\n",
      "4\n",
      "\n",
      "(2, 2)\n",
      "\n",
      "12\n",
      "\n",
      "9\n",
      "\n",
      "8\n",
      "\n",
      "int64\n",
      "\n",
      "32\n",
      "\n",
      "[[1]\n",
      " [3]]\n",
      "\n",
      "[ 0  1  2  3  4 50 60 70 80 90]\n",
      "\n",
      "[ 1  4 12]\n",
      "\n",
      "[-44   1 -55   3   4]\n",
      "\n"
     ]
    }
   ],
   "source": [
    "\n",
    "# Creating a 1D array from a list\n",
    "arr = np.array([1, 2, 3, 4])\n",
    "print(arr)\n",
    "print(\"\")\n",
    "\n",
    "# Creating a 2D array from a list of lists\n",
    "arr_2d = np.array([[1, 2], [3, 4]])\n",
    "print(arr_2d)\n",
    "print(\"\")\n",
    "\n",
    "# Creating a 3D array from a list of lists\n",
    "arr_3d=np.array([[[1, 2, 3], [4, 5, 6]],\n",
    "                 [[7, 8, 9], [10, 11, 12]]])\n",
    "print(arr_3d)\n",
    "print(\"\")\n",
    "\n",
    "\n",
    "# Create a NumPy array from a tuple\n",
    "tuple_data =np.array((1, 2, 3, 4))\n",
    "print(tuple_data)\n",
    "print(\"\")\n",
    "\n",
    "#the array object of numpy is ndarray\n",
    "print(type(arr_3d))\n",
    "print(\"\")\n",
    "\n",
    "#specify the dimension using ndim\n",
    "a=[2,3,4]\n",
    "arr4=np.array(a,ndmin=4)\n",
    "print(arr4)\n",
    "print(\"\")\n",
    "\n",
    "#specify the dimension using ndim\n",
    "print(arr4.ndim)\n",
    "print(\"\")\n",
    "\n",
    "#get the shape of array\n",
    "print(arr_2d.shape)\n",
    "print(\"\")\n",
    "\n",
    "#get the total elements of array\n",
    "print(arr_3d.size)\n",
    "print(\"\")\n",
    "\n",
    "#Access Array Elements\n",
    "print(arr_3d[1,0,2])\n",
    "print(\"\")\n",
    "\n",
    "#get item size in bytes\n",
    "print(arr.itemsize)\n",
    "print(\"\")\n",
    "\n",
    "#dtype attribute >>Data-type of the array’s elements.\n",
    "print(arr.dtype)\n",
    "print(\"\")\n",
    "\n",
    "#get total number of bytes consumed by array\n",
    "print(arr.nbytes)\n",
    "print(\"\")\n",
    "\n",
    "#slicing\n",
    "print(arr_2d[0:2,0:1]) #row one&two with column 1\n",
    "print(\"\")\n",
    "\n",
    "#array condition returns elements from x when condition true and from y when it is false\n",
    "newarr = np.array([0, 1, 2, 3, 4, 5, 6, 7, 8, 9])\n",
    "print(np.where(newarr<5,newarr,10*newarr))\n",
    "print(\"\")\n",
    "\n",
    "#get elements from the array by indices.,will flatten the array first to 1D\n",
    "print(np.take(arr_3d,[0,3,11]))\n",
    "print(\"\")\n",
    "\n",
    "#Place values in specific indices\n",
    "a = np.arange(5)\n",
    "np.put(a, [0, 2], [-44, -55])\n",
    "print(a)\n",
    "print(\"\")\n",
    "\n"
   ]
  },
  {
   "cell_type": "code",
   "execution_count": 4,
   "id": "035e6b1e",
   "metadata": {},
   "outputs": [
    {
     "name": "stdout",
     "output_type": "stream",
     "text": [
      "copy [0 1 2 3 4 5 6 7 8 9]\n",
      "original[  0   1   2   3   4   5   6   7   8 222]\n"
     ]
    }
   ],
   "source": [
    "#copy  array ,The copy NOT be affected by the changes made to the original array.\n",
    "a1=np.arange(10)\n",
    "a2=a1.copy()\n",
    "a1[9]=222\n",
    "print(f\"copy {a2}\")\n",
    "print(f\"original{a1}\")\n"
   ]
  },
  {
   "cell_type": "code",
   "execution_count": 5,
   "id": "8bcaf248",
   "metadata": {},
   "outputs": [
    {
     "name": "stdout",
     "output_type": "stream",
     "text": [
      "view [  0   1   2   3   4   5   6   7   8 222]\n",
      "original[  0   1   2   3   4   5   6   7   8 222]\n"
     ]
    }
   ],
   "source": [
    "#viewing array ,he view SHOULD be affected by the changes made to the original array.\n",
    "b1=np.arange(10)\n",
    "b2=b1.view()\n",
    "b1[9]=222\n",
    "print(f\"view {b2}\")\n",
    "print(f\"original{b1}\")"
   ]
  },
  {
   "cell_type": "code",
   "execution_count": 6,
   "id": "00483ff9",
   "metadata": {},
   "outputs": [
    {
     "name": "stdout",
     "output_type": "stream",
     "text": [
      "[ 0  2  4  6  8 10 12 14]\n"
     ]
    }
   ],
   "source": [
    "#Create an array with evenly spaced values within a given range\n",
    "aa=np.arange(0,15,2)\n",
    "print(aa)"
   ]
  },
  {
   "cell_type": "code",
   "execution_count": 7,
   "id": "1e543229",
   "metadata": {},
   "outputs": [
    {
     "name": "stdout",
     "output_type": "stream",
     "text": [
      "[[0. 0. 0.]\n",
      " [0. 0. 0.]]\n",
      "\n",
      "[[4 4 4]\n",
      " [4 4 4]]\n",
      "\n",
      "[[0.24182252 0.578667   0.85886994]\n",
      " [0.69597071 0.70379164 0.31489343]\n",
      " [0.51520688 0.65965578 0.86163136]]\n",
      "\n",
      "[ 1.    3.25  5.5   7.75 10.  ]\n",
      "\n",
      "[[1. 0. 0. 0. 0.]\n",
      " [0. 1. 0. 0. 0.]\n",
      " [0. 0. 1. 0. 0.]\n",
      " [0. 0. 0. 1. 0.]\n",
      " [0. 0. 0. 0. 1.]]\n",
      "\n",
      "[[5 4 2]\n",
      " [6 2 4]\n",
      " [9 7 4]]\n",
      "\n",
      "[[0 0 0]\n",
      " [0 0 0]\n",
      " [0 0 0]]\n",
      "\n",
      "[[1 1 1]\n",
      " [1 1 1]\n",
      " [1 1 1]]\n"
     ]
    }
   ],
   "source": [
    " #Create an empty array(uninitialized).  deafult dtype is float\n",
    "empty_arr=np.empty((2,3), dtype=float)\n",
    "print(empty_arr)\n",
    "print(\"\")\n",
    "\n",
    "#Create an array filled with a constant value(fill value). \n",
    "full_arr=np.full((2,3), 4)  \n",
    "print(full_arr)\n",
    "print(\"\")\n",
    "\n",
    "\n",
    "#Generate an array of random values between 0 and 1.\n",
    "random_arr=np.random.rand(3,3)\n",
    "print(random_arr)\n",
    "print(\"\")\n",
    "\n",
    "#Create an array of evenly spaced numbers.#stop is included if endpoint=True otherwise it is excluded(endpoint=False)\n",
    "ln_arr=np.linspace(1, 10, 5,endpoint=True) \n",
    "print(ln_arr)\n",
    "print(\"\")\n",
    "\n",
    "#Return a 2-D array with ones on the diagonal and zeros(identity matrix)  #N:number of rows in the output  \n",
    "eye_arr=np.eye(5)\n",
    "print(eye_arr)\n",
    "print(\"\")\n",
    "\n",
    "#Create an array of random integers from low(included)to high(excluded). #size is the shape of the output.\n",
    "#random.randint(low, high, size)\n",
    "randint_arr=np.random.randint(2, 10, (3,3)) \n",
    "print(randint_arr)\n",
    "print(\"\")\n",
    "\n",
    "\n",
    "#Create an array of zeros with shape and type of input. #shape is int or tuple & dtype is optional(default float).\n",
    "zero_Arr=np.zeros((3,3),dtype=int)\n",
    "print(zero_Arr)\n",
    "print(\"\")\n",
    "\n",
    "#Create an array of ones with shape and type of input. #shape is int or tuple & dtype is optional(default float).\n",
    "ones_Arr=np.ones((3,3),dtype=int)\n",
    "print(ones_Arr)\n",
    "\n",
    "\n",
    "\n",
    "\n"
   ]
  },
  {
   "cell_type": "markdown",
   "id": "15cb6149",
   "metadata": {},
   "source": [
    "#  \tStatistical Operations:"
   ]
  },
  {
   "cell_type": "code",
   "execution_count": 8,
   "id": "a79ff044",
   "metadata": {},
   "outputs": [
    {
     "name": "stdout",
     "output_type": "stream",
     "text": [
      "sum:45\n",
      "mean:4.5\n",
      "median:4.5\n",
      "standard deviation:2.8722813232690143\n",
      "variance:8.25\n",
      "minimum value:0\n",
      "maximum value:9\n",
      "Cumulative sum :[ 0  1  3  6 10 15 21 28 36 45]\n",
      "Cumulative product:[0 0 0 0 0 0 0 0 0 0]\n"
     ]
    }
   ],
   "source": [
    "\n",
    "Arr=np.arange(10)\n",
    "print(f\"sum:{np.sum(Arr)}\")\n",
    "print(f\"mean:{np.mean(Arr)}\")\n",
    "print(f\"median:{np.median(Arr)}\")\n",
    "print(f\"standard deviation:{np.std(Arr)}\")\n",
    "print(f\"variance:{np.var(Arr)}\")\n",
    "print(f\"minimum value:{np.min(Arr)}\")\n",
    "print(f\"maximum value:{np.max(Arr)}\")\n",
    "print(f\"Cumulative sum :{np.cumsum(Arr)}\")\n",
    "print(f\"Cumulative product:{np.cumprod(Arr)}\")"
   ]
  },
  {
   "cell_type": "markdown",
   "id": "11818f2a",
   "metadata": {},
   "source": [
    "#  \t Math Functions"
   ]
  },
  {
   "cell_type": "code",
   "execution_count": 9,
   "id": "4e6d2348",
   "metadata": {},
   "outputs": [
    {
     "name": "stdout",
     "output_type": "stream",
     "text": [
      "addition:[13 25 37 49]\n",
      "Subtraction:[ 7 15 23 31]\n",
      "Multiplication:[ 30 100 210 360]\n",
      "Division:[3.33333333 4.         4.28571429 4.44444444]\n",
      "array1 power array2:[           1000         3200000     21870000000 262144000000000]\n",
      "Square root of array1:[3.16227766 4.47213595 5.47722558 6.32455532]\n",
      "element-wise modulus:[1 0 2 4]\n",
      "Exponentiation of array2:[  20.08553692  148.4131591  1096.63315843 8103.08392758]\n",
      "logarithm of array:[  20.08553692  148.4131591  1096.63315843 8103.08392758]\n",
      "Dot product:700\n",
      "Absolute values:[1 2 3 4]\n",
      "Greater array:[ True  True  True  True]\n",
      "smaller array:[False False False False]\n",
      "Sine of angles1:[ 0.0000000e+00  1.0000000e+00  1.2246468e-16 -1.0000000e+00]\n",
      "cosine of angles2:[8.66025404e-01 7.07106781e-01 5.00000000e-01 6.12323400e-17]\n",
      "Tangent of angles1:[8.66025404e-01 7.07106781e-01 5.00000000e-01 6.12323400e-17]\n"
     ]
    }
   ],
   "source": [
    "array1 = np.array([10, 20, 30, 40])\n",
    "array2 = np.array([3, 5, 7, 9])\n",
    "\n",
    "add_arr=np.add(array1, array2) \n",
    "print(f\"addition:{add_arr}\")\n",
    "\n",
    "sub_arr=np.subtract(array1, array2) \n",
    "print(f\"Subtraction:{sub_arr}\")\n",
    "\n",
    "mult_arr=np.multiply(array1, array2) \n",
    "print(f\"Multiplication:{mult_arr}\")\n",
    "\n",
    "divide_arr=np.divide(array1, array2)\n",
    "print(f\"Division:{divide_arr}\")\n",
    "\n",
    "power_arr=np.power(array1, array2)\n",
    "print(f\"array1 power array2:{power_arr}\")\n",
    "\n",
    "sqrt_arr=np.sqrt(array1)\n",
    "print(f\"Square root of array1:{sqrt_arr}\")\n",
    "\n",
    "Modulus_Arr=np.mod(array1, array2)\n",
    "print(f\"element-wise modulus:{Modulus_Arr}\")\n",
    "\n",
    "exp_Arr=np.exp(array2)\n",
    "print(f\"Exponentiation of array2:{exp_Arr}\")\n",
    "\n",
    "array = np.array([1, 2.718, 10])\n",
    "log_Arr=np.log(array)\n",
    "print(f\"logarithm of array:{exp_Arr}\")\n",
    "\n",
    "\n",
    "dot_arr=np.dot(array1, array2)\n",
    "print(f\"Dot product:{dot_arr}\")\n",
    "\n",
    "\n",
    "arr_abs=np.array([-1,-2,-3,-4])\n",
    "abs_Arr=np.abs(arr_abs) \n",
    "print(f\"Absolute values:{abs_Arr}\")\n",
    "\n",
    "grater_arr=np.greater(array1,array2)\n",
    "print(f\"Greater array:{grater_arr}\")\n",
    "\n",
    "\n",
    "less_Arr=np.less(array1,array2)\n",
    "print(f\"smaller array:{less_Arr}\")\n",
    "\n",
    "\n",
    "\n",
    "#Trigonometric Functions on Arrays\n",
    "angles1 = np.array([0, np.pi/2, np.pi, 3*np.pi/2])\n",
    "angles2 = np.array([np.pi/6, np.pi/4, np.pi/3, np.pi/2])\n",
    "\n",
    "sin_arr=np.sin(angles1)\n",
    "print(f\"Sine of angles1:{sin_arr}\")\n",
    "\n",
    "\n",
    "cos_arr=np.cos(angles2)\n",
    "print(f\"cosine of angles2:{cos_arr}\")\n",
    "\n",
    "\n",
    "tan_arr= np.tan(angles1)\n",
    "print(f\"Tangent of angles1:{cos_arr}\")\n"
   ]
  },
  {
   "cell_type": "markdown",
   "id": "ae287812",
   "metadata": {},
   "source": [
    "#  \tArray Reshaping and Transposition: "
   ]
  },
  {
   "cell_type": "code",
   "execution_count": 10,
   "id": "cb4baf1c",
   "metadata": {},
   "outputs": [
    {
     "name": "stdout",
     "output_type": "stream",
     "text": [
      "[[1 2 3]\n",
      " [4 5 6]]\n",
      "\n",
      "[1 2 3 4 5 6 7 8]\n",
      "\n",
      "[[[1 5]\n",
      "  [3 7]]\n",
      "\n",
      " [[2 6]\n",
      "  [4 8]]]\n",
      "\n",
      "[[[1 3]\n",
      "  [5 7]]\n",
      "\n",
      " [[2 4]\n",
      "  [6 8]]]\n",
      "\n",
      "[[1]\n",
      " [2]\n",
      " [3]\n",
      " [4]\n",
      " [5]\n",
      " [6]]\n"
     ]
    }
   ],
   "source": [
    "arr= np.array([1, 2, 3, 4, 5, 6])\n",
    "arr_3d=np.array([[[1, 2], [3, 4]],\n",
    "                   [[5, 6], [7, 8]]])\n",
    "\n",
    "reshaped_arr = arr.reshape((2, 3))\n",
    "print(reshaped_arr)\n",
    "print(\"\")\n",
    "\n",
    "flatten_Array=np.ravel(arr_3d)\n",
    "print(flatten_Array)#1D\n",
    "print(\"\")\n",
    "\n",
    "transposed_Array=arr_3d.T #swap axies\n",
    "print(transposed_Array)\n",
    "print(\"\")\n",
    "\n",
    "transpose_Arr=arr_3d.transpose((2, 0, 1))\n",
    "print(transpose_Arr)\n",
    "print(\"\")\n",
    "\n",
    "expand_Arr=np.expand_dims(arr, axis=1) #Expand the shape of an array by Adding an axis to an array. #axis=0 expand rows , =1 expand columns\n",
    "print(expand_Arr)"
   ]
  },
  {
   "cell_type": "markdown",
   "id": "bd6414ff",
   "metadata": {},
   "source": [
    "#  \tArray Concatenation and Splitting:"
   ]
  },
  {
   "cell_type": "code",
   "execution_count": 11,
   "id": "4e7cb402",
   "metadata": {},
   "outputs": [
    {
     "name": "stdout",
     "output_type": "stream",
     "text": [
      "[[1 2]\n",
      " [3 4]\n",
      " [5 6]\n",
      " [7 8]]\n",
      "\n",
      "[[1 2]\n",
      " [3 4]\n",
      " [5 6]\n",
      " [7 8]]\n",
      "\n",
      "[[1 2 5 6]\n",
      " [3 4 7 8]]\n",
      "\n",
      "[[[1 5]\n",
      "  [2 6]]\n",
      "\n",
      " [[3 7]\n",
      "  [4 8]]]\n",
      "\n",
      "[array([[1, 2]]), array([[3, 4]])]\n",
      "\n",
      "[array([[1, 2]]), array([[3, 4]])]\n",
      "\n",
      "[[1 2]\n",
      " [3 4]]\n"
     ]
    }
   ],
   "source": [
    "arr1 = np.array([[1, 2], [3, 4]])\n",
    "arr2 = np.array([[5, 6], [7, 8]])\n",
    "\n",
    "\n",
    "concat_Arr=np.concatenate((arr1,arr2), axis=0)\n",
    "print(concat_Arr)\n",
    "print(\"\")\n",
    "\n",
    "vstack_Arr=np.vstack((arr1, arr2)) #Stack arrays vertically (row-wise)\n",
    "print(vstack_Arr)\n",
    "print(\"\")\n",
    "\n",
    "hstack_Arr=np.hstack((arr1, arr2)) #Stack arrays horizontally (column-wise).\n",
    "print(hstack_Arr)\n",
    "print(\"\")\n",
    "\n",
    "dstack_Arr=np.dstack((arr1, arr2)) #Stack arrays along the depth (third) axis.\n",
    "print(dstack_Arr)\n",
    "print(\"\")\n",
    "\n",
    "splited_arr=np.split(arr1,2, axis=0)#Split an array into multiple sub-arrays.\n",
    "print(splited_arr)\n",
    "print(\"\")\n",
    "\n",
    "splited_array=np.array_split(arr1,2, axis=0) #plit array into sub-arrays of specific sizes\n",
    "print(splited_array)\n",
    "print(\"\")\n",
    "\n",
    "stack_Arr=np.stack(arr1 ,axis=0)  #Stack arrays along a new axis.\n",
    "print(stack_Arr)"
   ]
  },
  {
   "cell_type": "markdown",
   "id": "84d575ca",
   "metadata": {},
   "source": [
    "#                        Pandas DataFrame: Viewing Data"
   ]
  },
  {
   "cell_type": "code",
   "execution_count": 12,
   "id": "8161e4cd",
   "metadata": {},
   "outputs": [
    {
     "name": "stdout",
     "output_type": "stream",
     "text": [
      "      Name  Age         City\n",
      "0    Alice   25     New York\n",
      "1      Bob   30  Los Angeles\n",
      "2  Charlie   35      Chicago\n",
      "\n",
      "    Name  Age         City\n",
      "0  Alice   25     New York\n",
      "1    Bob   30  Los Angeles\n",
      "\n",
      "      Name  Age     City\n",
      "2  Charlie   35  Chicago\n",
      "\n",
      "<class 'pandas.core.frame.DataFrame'>\n",
      "RangeIndex: 3 entries, 0 to 2\n",
      "Data columns (total 3 columns):\n",
      " #   Column  Non-Null Count  Dtype \n",
      "---  ------  --------------  ----- \n",
      " 0   Name    3 non-null      object\n",
      " 1   Age     3 non-null      int64 \n",
      " 2   City    3 non-null      object\n",
      "dtypes: int64(1), object(2)\n",
      "memory usage: 204.0+ bytes\n",
      "None\n",
      "\n",
      "        Age\n",
      "count   3.0\n",
      "mean   30.0\n",
      "std     5.0\n",
      "min    25.0\n",
      "25%    27.5\n",
      "50%    30.0\n",
      "75%    32.5\n",
      "max    35.0\n",
      "\n",
      "(3, 3)\n",
      "\n",
      "Index(['Name', 'Age', 'City'], dtype='object')\n",
      "\n",
      "RangeIndex(start=0, stop=3, step=1)\n"
     ]
    }
   ],
   "source": [
    "\n",
    "import pandas as pd\n",
    "#create dataframe of dictionary\n",
    "data = {'Name': ['Alice', 'Bob', 'Charlie'],\n",
    "        'Age': [25, 30, 35],\n",
    "        'City': ['New York', 'Los Angeles', 'Chicago']\n",
    "        }\n",
    "df = pd.DataFrame(data)\n",
    "print(df)\n",
    "print(\"\")\n",
    "\n",
    "#View the first n rows of the DataFrame ,default 5 rows\n",
    "print(df.head(2))\n",
    "print(\"\")\n",
    "\n",
    "print(df.tail(1)) # View the last n rows of the DataFrame (default is 5).\n",
    "print(\"\")\n",
    "\n",
    "print(df.info()) #Get a summary of the DataFrame, including column types and non-null values.\n",
    "print(\"\")\n",
    "\n",
    "print(df.describe()) #Generate descriptive statistics of numeric columns.\n",
    "print(\"\")\n",
    "\n",
    "print(df.shape) #Returns a tuple representing the number of rows and columns.\n",
    "print(\"\")\n",
    "\n",
    "print(df.columns) #List the column labels of the DataFrame.\n",
    "print(\"\")\n",
    "\n",
    "print(df.index) #Get the row labels (indices) of the DataFrame.\n"
   ]
  },
  {
   "cell_type": "markdown",
   "id": "5c24766f",
   "metadata": {},
   "source": [
    "# \tSelecting Data: "
   ]
  },
  {
   "cell_type": "code",
   "execution_count": 13,
   "id": "25e2b3ed",
   "metadata": {},
   "outputs": [
    {
     "name": "stdout",
     "output_type": "stream",
     "text": [
      "0    25\n",
      "1    30\n",
      "2    35\n",
      "Name: Age, dtype: int64\n",
      "\n",
      "   Age     Name\n",
      "0   25    Alice\n",
      "1   30      Bob\n",
      "2   35  Charlie\n",
      "\n",
      "Name    Charlie\n",
      "Age          35\n",
      "City    Chicago\n",
      "Name: 2, dtype: object\n",
      "\n",
      "Name       Alice\n",
      "Age           25\n",
      "City    New York\n",
      "Name: 0, dtype: object\n",
      "\n",
      "0    False\n",
      "1    False\n",
      "2     True\n",
      "Name: Age, dtype: bool\n"
     ]
    }
   ],
   "source": [
    "\n",
    "print(df['Age']) #select Single column \n",
    "print(\"\")\n",
    "\n",
    "print(df[['Age', 'Name']]) #select Multiple columns\n",
    "print(\"\")\n",
    "\n",
    "print(df.iloc[2]) #select First row by index \n",
    "print(\"\")\n",
    "\n",
    "print(df.loc[0]) #select First row by index label\n",
    "print(\"\")\n",
    "\n",
    "print(df['Age']==35) #Conditional selection\n",
    "\n"
   ]
  },
  {
   "cell_type": "markdown",
   "id": "9d85db12",
   "metadata": {},
   "source": [
    "# \tModifying Data:"
   ]
  },
  {
   "cell_type": "code",
   "execution_count": 14,
   "id": "1de2523f",
   "metadata": {},
   "outputs": [
    {
     "name": "stdout",
     "output_type": "stream",
     "text": [
      "      Name  Age         City country\n",
      "0    Alice   25     New York   Egypt\n",
      "1      Bob   30  Los Angeles     ksa\n",
      "2  Charlie   35      Chicago     usa\n",
      "\n",
      "  FirstName  Age         City country\n",
      "0     Alice   25     New York   Egypt\n",
      "1       Bob   30  Los Angeles     ksa\n",
      "2   Charlie   35      Chicago     usa\n",
      "\n",
      "  FirstName         City country\n",
      "0     Alice     New York   Egypt\n",
      "1       Bob  Los Angeles     ksa\n",
      "2   Charlie      Chicago     usa\n",
      "\n",
      "  FirstName         City country\n",
      "1       Bob  Los Angeles     ksa\n",
      "2   Charlie      Chicago     usa\n",
      "\n",
      "  FirstName         City country\n",
      "1    Rowida  Los Angeles     ksa\n",
      "2   Charlie      Chicago     usa\n"
     ]
    }
   ],
   "source": [
    "df['country']=['Egypt', 'ksa', 'usa'] #adding a new column\n",
    "print(df)\n",
    "print(\"\")\n",
    "\n",
    "df.rename(columns={'Name': 'FirstName'}, inplace=True) #Renaming columns\n",
    "print(df)\n",
    "print(\"\")\n",
    "\n",
    "df.drop(['Age'], axis=1, inplace=True) #Drop a column\n",
    "print(df)\n",
    "print(\"\")\n",
    "\n",
    "df.drop([0], axis=0, inplace=True) #Drop a row by index\n",
    "print(df)\n",
    "print(\"\")\n",
    "\n",
    "df['FirstName'] = df['FirstName'].replace('Bob', 'Rowida') #Replace values\n",
    "print(df)\n",
    "\n",
    "\n"
   ]
  },
  {
   "cell_type": "markdown",
   "id": "e33f62b7",
   "metadata": {},
   "source": [
    "#  \tSorting Data:"
   ]
  },
  {
   "cell_type": "code",
   "execution_count": 24,
   "id": "0dc34c3a",
   "metadata": {},
   "outputs": [
    {
     "name": "stdout",
     "output_type": "stream",
     "text": [
      "   age  qualified\n",
      "5   10       True\n",
      "4   20      False\n",
      "2   30      False\n",
      "6   30       True\n",
      "1   40      False\n",
      "3   40      False\n",
      "0   50       True\n",
      "\n",
      "   age  qualified\n",
      "6   30       True\n",
      "5   10       True\n",
      "4   20      False\n",
      "3   40      False\n",
      "2   30      False\n",
      "1   40      False\n",
      "0   50       True\n"
     ]
    }
   ],
   "source": [
    "data = {\n",
    "  \"age\": [50, 40, 30, 40, 20, 10, 30],\n",
    "  \"qualified\": [True, False, False, False, False, True, True]\n",
    "}\n",
    "dff = pd.DataFrame(data)\n",
    "\n",
    "newdf = dff.sort_values(by='age')\n",
    "\n",
    "print(newdf)\n",
    "print(\"\")\n",
    "\n",
    "newdf2=dff.sort_index(ascending=False) #Sorting by index\n",
    "print(newdf2)\n",
    "\n"
   ]
  },
  {
   "cell_type": "markdown",
   "id": "69eb22a7",
   "metadata": {},
   "source": [
    "#  \tHandling Missing Data: "
   ]
  },
  {
   "cell_type": "code",
   "execution_count": 36,
   "id": "e84c5cc6",
   "metadata": {},
   "outputs": [
    {
     "name": "stdout",
     "output_type": "stream",
     "text": [
      "     a    b    c\n",
      "0  1.0  4.0  NaN\n",
      "1  2.0  5.0  NaN\n",
      "2  3.0  NaN  7.0\n",
      "3  NaN  6.0  8.0\n",
      "\n",
      "a    1\n",
      "b    1\n",
      "c    2\n",
      "dtype: int64\n",
      "\n",
      "0      1\n",
      "1      1\n",
      "2    7.0\n",
      "3    8.0\n",
      "Name: c, dtype: object\n",
      "\n",
      "     a    b    c\n",
      "0  1.0  4.0  NaN\n",
      "1  2.0  5.0  NaN\n",
      "3  NaN  6.0  8.0\n"
     ]
    }
   ],
   "source": [
    "data={'a':[1,2,3,None],'b':[4,5,None,6],'c':[None,None,7,8]}\n",
    "df=pd.DataFrame(data)\n",
    "print(df)\n",
    "print(\"\")\n",
    "\n",
    "print(df.isnull().sum()) #Check missing values per column\n",
    "print(\"\")\n",
    "\n",
    "print(df['c'].fillna('1'))#Filling missing values\n",
    "print(\"\")\n",
    "\n",
    "\n",
    "df.dropna(subset=['b'], inplace=True) #Drop Rows/Columns of datasets with Null values \n",
    "print(df) \n",
    "\n"
   ]
  },
  {
   "cell_type": "markdown",
   "id": "80f1108a",
   "metadata": {},
   "source": [
    "#  \tAggregating Data:"
   ]
  },
  {
   "cell_type": "code",
   "execution_count": 40,
   "id": "f777d0af",
   "metadata": {},
   "outputs": [
    {
     "name": "stdout",
     "output_type": "stream",
     "text": [
      "  category  values\n",
      "0        A      10\n",
      "1        B      20\n",
      "2        A      30\n",
      "3        B      40\n",
      "4        A      50\n",
      "\n",
      "          values\n",
      "category        \n",
      "A             90\n",
      "B             60\n",
      "150\n",
      "\n",
      "30.0\n",
      "\n",
      "10\n",
      "\n",
      "50\n"
     ]
    }
   ],
   "source": [
    "data = {'category': ['A', 'B', 'A', 'B', 'A'],\n",
    "        'values': [10, 20, 30, 40, 50]}\n",
    "df = pd.DataFrame(data)\n",
    "print(df)\n",
    "print(\"\")\n",
    "\n",
    "# Group by 'category' and aggregate 'values' by sum\n",
    "result = df.groupby('category').agg({'values': 'sum'})\n",
    "print(result)\n",
    "\n",
    "summation=df['values'].sum() #suming values of a column\n",
    "print(summation)\n",
    "print(\"\")\n",
    "\n",
    "mean_values=df['values'].mean()#get mean of a column\n",
    "print(mean_values)\n",
    "print(\"\")\n",
    "\n",
    "minimum=df['values'].min()#get minimum value of a column\n",
    "print(minimum)\n",
    "print(\"\")\n",
    "\n",
    "maximum_df=df['values'].max()#get maximum of a column\n",
    "print(maximum_df)\n",
    "\n",
    "\n"
   ]
  },
  {
   "cell_type": "markdown",
   "id": "c056a075",
   "metadata": {},
   "source": [
    "# Iterating over Rows:"
   ]
  },
  {
   "cell_type": "code",
   "execution_count": 51,
   "id": "188f4203",
   "metadata": {},
   "outputs": [
    {
     "name": "stdout",
     "output_type": "stream",
     "text": [
      "Index: 0, Name: Alice, Age: 25\n",
      "Index: 1, Name: Bob, Age: 30\n",
      "Index: 2, Name: Charlie, Age: 35\n"
     ]
    }
   ],
   "source": [
    "\n",
    "data ={'Name': ['Alice', 'Bob', 'Charlie'],\n",
    "                   'Age': [25, 30, 35]}\n",
    "df=pd.DataFrame(data)\n",
    "\n",
    "# Iterate over rows\n",
    "for index, row in df.iterrows():\n",
    "    print(f\"Index: {index}, Name: {row['Name']}, Age: {row['Age']}\")\n",
    "\n",
    "\n",
    "    \n",
    "# Iterate over rows as named tuples\n",
    "for row in df.itertuples():\n",
    "    print(f\"Index: {row.Index}, Name: {row.Name}, Age: {row.Age}\")   \n",
    "\n",
    "\n",
    "    "
   ]
  },
  {
   "cell_type": "markdown",
   "id": "9fc19885",
   "metadata": {},
   "source": [
    " # Merging &Joining DataFrames: "
   ]
  },
  {
   "cell_type": "code",
   "execution_count": 58,
   "id": "5e0bfd4b",
   "metadata": {},
   "outputs": [
    {
     "name": "stdout",
     "output_type": "stream",
     "text": [
      "       Name   Age\n",
      "ID               \n",
      "1     Alice   NaN\n",
      "2       Bob  30.0\n",
      "3   Charlie   NaN\n",
      "4     David  40.0\n",
      "       Name   Age\n",
      "ID               \n",
      "1     Alice   NaN\n",
      "2       Bob  30.0\n",
      "3   Charlie   NaN\n",
      "4     David  40.0\n"
     ]
    }
   ],
   "source": [
    "\n",
    "\n",
    "# Create DataFrame df1\n",
    "df1 = pd.DataFrame({\n",
    "    'ID': [1, 2, 3, 4],\n",
    "    'Name': ['Alice', 'Bob', 'Charlie', 'David']\n",
    "})\n",
    "\n",
    "\n",
    "# Create DataFrame df2\n",
    "df2 = pd.DataFrame({\n",
    "    'ID': [2, 4],\n",
    "    'Age': [30, 40]\n",
    "}).set_index('ID')  # Setting 'ID' as the index\n",
    "\n",
    "\n",
    "# Setting 'ID' as the index in df1 for joining\n",
    "df1.set_index('ID', inplace=True)\n",
    "\n",
    "# Perform a left join\n",
    "result = df1.join(df2, how='left')\n",
    "\n",
    "print(result)\n",
    "\n",
    "\n",
    "\n",
    "rs=pd.merge(df1, df2, on='ID', how='left') #merge DataFrames based on one or more columns.\n",
    "print(rs)\n"
   ]
  },
  {
   "cell_type": "markdown",
   "id": "74dfc13e",
   "metadata": {},
   "source": [
    "# Dictionary"
   ]
  },
  {
   "cell_type": "code",
   "execution_count": 35,
   "id": "003ba87f",
   "metadata": {},
   "outputs": [
    {
     "name": "stdout",
     "output_type": "stream",
     "text": [
      "rowida\n",
      "22\n",
      "dict_keys(['name', 'age', 'major', 'graduated', 'university'])\n",
      "dict_values(['rowida', 22, 'Computer Science', True, 'ASU'])\n",
      "dict_items([('name', 'rowida'), ('age', 22), ('major', 'Computer Science'), ('graduated', True), ('university', 'ASU')])\n",
      "True\n",
      "dict_values(['rowida', 22, 'Computer Science', 'False', 'ASU'])\n",
      "{'name': 'rowida', 'age': 22, 'major': 'Computer Science', 'graduated': 'False'}\n",
      "{'name': 'rowida', 'age': 22, 'major': 'Computer Science'}\n",
      "{'name': 'rowida', 'age': 22, 'major': 'Computer Science', 'gender': 'female'}\n",
      "{'name': 'rowida', 'age': 22, 'major': 'Computer Science'}\n"
     ]
    },
    {
     "ename": "NameError",
     "evalue": "name 'student' is not defined",
     "output_type": "error",
     "traceback": [
      "\u001b[1;31m---------------------------------------------------------------------------\u001b[0m",
      "\u001b[1;31mNameError\u001b[0m                                 Traceback (most recent call last)",
      "Cell \u001b[1;32mIn[35], line 57\u001b[0m\n\u001b[0;32m     53\u001b[0m student\n\u001b[0;32m     55\u001b[0m \u001b[38;5;28;01mdel\u001b[39;00m student\n\u001b[1;32m---> 57\u001b[0m \u001b[43mstudent\u001b[49m\n",
      "\u001b[1;31mNameError\u001b[0m: name 'student' is not defined"
     ]
    }
   ],
   "source": [
    "#ordered, changeable and do not allow duplicates.\n",
    "student = {\n",
    "    \"name\": \"rowida\",\n",
    "    \"age\": 22,\n",
    "    \"major\": \"Computer Science\",\n",
    "    \"graduated\": True\n",
    "}\n",
    "#get value of key\n",
    "print(student[\"name\"])\n",
    "print(student.get(\"age\"))\n",
    "\n",
    "#add item in the dic\n",
    "student[\"university\"]=\"ASU\"\n",
    "\n",
    "\n",
    "#return all keys & values of dic\n",
    "print(student.keys())\n",
    "print(student.values())\n",
    "\n",
    "#return all items of dic\n",
    "print(student.items())\n",
    "\n",
    "#To determine if a specified key is present in a dictionary use the in keyword\n",
    "if \"university\" in student:\n",
    "    print(\"True\")\n",
    "else:\n",
    "    print(\"False\")\n",
    "    \n",
    "#update the value of dic\n",
    "student.update({\"graduated\":\"False\"})\n",
    "print(student.values())\n",
    "\n",
    "#remove specific item with key\n",
    "student.pop(\"university\")\n",
    "print(student)\n",
    "\n",
    "#del keyword\n",
    "del student[\"graduated\"]\n",
    "print(student)\n",
    "\n",
    "#insert\n",
    "student[\"gender\"]=\"female\"\n",
    "print(student)\n",
    "\n",
    "#remove last item\n",
    "student.popitem()\n",
    "print(student)\n",
    "\n",
    "student\n",
    "\n",
    "#clear dictionary\n",
    "student.clear()\n",
    "student\n",
    "\n",
    "#delete sictionary\n",
    "del student\n",
    "\n",
    "student"
   ]
  },
  {
   "cell_type": "code",
   "execution_count": 52,
   "id": "a882b6cf",
   "metadata": {},
   "outputs": [
    {
     "name": "stdout",
     "output_type": "stream",
     "text": [
      "2007\n",
      "child2\n",
      "name: Tobias\n",
      "year: 2007\n"
     ]
    }
   ],
   "source": [
    "student1 = {\n",
    "    \"name\": \"rowida\",\n",
    "    \"age\": 22,\n",
    "    \"major\": \"Computer Science\",\n",
    "    \"graduated\": False\n",
    "}\n",
    "\n",
    "\n",
    "#copy dictionary\n",
    "student2=student1.copy()\n",
    "student2\n",
    "\n",
    "#create a new dictionary and assign a standard  value to all of its keys   dict.fromkeys(keys,y)\n",
    "#default value is None\n",
    "dic3=dict.fromkeys((\"name\",\"city\",\"grade\"),\"unknow\")\n",
    "dic3\n",
    "\n",
    "\n",
    "#returns the value of the item with the specified key,If the key does not exist, insert the key, with the specified value.\n",
    "dic3.setdefault(\"address\",\"cairo\")\n",
    "dic3\n",
    "\n",
    "\n",
    "#nested dictionary\n",
    "myfamily = {\n",
    "                \"child1\" : {\n",
    "                       \"name\" : \"Emil\",\n",
    "                       \"year\" : 2004\n",
    "                                       },\n",
    "                 \"child2\" : {\n",
    "                       \"name\" : \"Tobias\",\n",
    "                       \"year\" : 2007\n",
    "                                       },\n",
    "                 \"child3\" : {\n",
    "                       \"name\" : \"Linus\",\n",
    "                       \"year\" : 2011\n",
    "                                       }\n",
    "                           }\n",
    "myfamily\n",
    "\n",
    "print(myfamily[\"child2\"][\"year\"])\n",
    "\n",
    "#loop on dictionary\n",
    "for outer ,inner in myfamily.items():\n",
    "    if outer==\"child2\":\n",
    "        print(outer)\n",
    "        for key,value in inner.items():\n",
    "            print(f\"{key}: {value}\")\n",
    "       "
   ]
  },
  {
   "cell_type": "code",
   "execution_count": null,
   "id": "eacefaa6",
   "metadata": {},
   "outputs": [],
   "source": []
  }
 ],
 "metadata": {
  "kernelspec": {
   "display_name": "python311",
   "language": "python",
   "name": "python311"
  },
  "language_info": {
   "codemirror_mode": {
    "name": "ipython",
    "version": 3
   },
   "file_extension": ".py",
   "mimetype": "text/x-python",
   "name": "python",
   "nbconvert_exporter": "python",
   "pygments_lexer": "ipython3",
   "version": "3.11.9"
  }
 },
 "nbformat": 4,
 "nbformat_minor": 5
}
