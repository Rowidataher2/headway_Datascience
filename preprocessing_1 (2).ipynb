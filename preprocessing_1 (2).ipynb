{
 "cells": [
  {
   "cell_type": "markdown",
   "id": "bf1f70cd-7a9d-4862-9e22-be1c4bfadd81",
   "metadata": {},
   "source": [
    "# Preprocessing"
   ]
  },
  {
   "cell_type": "code",
   "execution_count": 4,
   "id": "c90fb514",
   "metadata": {
    "scrolled": true
   },
   "outputs": [],
   "source": [
    "import sys\n",
    "\n",
    "import pandas as pd\n",
    "import numpy as np\n",
    "\n",
    "import matplotlib.pyplot as plt\n",
    "\n",
    "import seaborn as sns\n",
    "import plotly.express as px\n",
    "from sklearn.preprocessing import LabelEncoder\n",
    "from sklearn.preprocessing import StandardScaler, MinMaxScaler\n"
   ]
  },
  {
   "cell_type": "code",
   "execution_count": 817,
   "id": "041168ea",
   "metadata": {},
   "outputs": [
    {
     "name": "stdout",
     "output_type": "stream",
     "text": [
      "3.12.4 | packaged by Anaconda, Inc. | (main, Jun 18 2024, 15:03:56) [MSC v.1929 64 bit (AMD64)]\n"
     ]
    }
   ],
   "source": [
    "print(sys.version)"
   ]
  },
  {
   "cell_type": "code",
   "execution_count": 819,
   "id": "15e3b300",
   "metadata": {},
   "outputs": [],
   "source": [
    "data=pd.read_csv(\"C:/Users/rowaida.montaser/OneDrive/Titanic_task/train.csv\")\n",
    "data_copy1 = data.copy()\n",
    "data_copy2=data.copy()\n",
    "data_copy3=data.copy()\n",
    "copy_df=data.copy()"
   ]
  },
  {
   "cell_type": "code",
   "execution_count": 821,
   "id": "d7c82f8f",
   "metadata": {},
   "outputs": [
    {
     "data": {
      "text/html": [
       "<div>\n",
       "<style scoped>\n",
       "    .dataframe tbody tr th:only-of-type {\n",
       "        vertical-align: middle;\n",
       "    }\n",
       "\n",
       "    .dataframe tbody tr th {\n",
       "        vertical-align: top;\n",
       "    }\n",
       "\n",
       "    .dataframe thead th {\n",
       "        text-align: right;\n",
       "    }\n",
       "</style>\n",
       "<table border=\"1\" class=\"dataframe\">\n",
       "  <thead>\n",
       "    <tr style=\"text-align: right;\">\n",
       "      <th></th>\n",
       "      <th>PassengerId</th>\n",
       "      <th>Survived</th>\n",
       "      <th>Pclass</th>\n",
       "      <th>Name</th>\n",
       "      <th>Sex</th>\n",
       "      <th>Age</th>\n",
       "      <th>SibSp</th>\n",
       "      <th>Parch</th>\n",
       "      <th>Ticket</th>\n",
       "      <th>Fare</th>\n",
       "      <th>Cabin</th>\n",
       "      <th>Embarked</th>\n",
       "    </tr>\n",
       "  </thead>\n",
       "  <tbody>\n",
       "    <tr>\n",
       "      <th>0</th>\n",
       "      <td>1</td>\n",
       "      <td>0</td>\n",
       "      <td>3</td>\n",
       "      <td>Braund, Mr. Owen Harris</td>\n",
       "      <td>male</td>\n",
       "      <td>22.0</td>\n",
       "      <td>1</td>\n",
       "      <td>0</td>\n",
       "      <td>A/5 21171</td>\n",
       "      <td>7.2500</td>\n",
       "      <td>NaN</td>\n",
       "      <td>S</td>\n",
       "    </tr>\n",
       "    <tr>\n",
       "      <th>1</th>\n",
       "      <td>2</td>\n",
       "      <td>1</td>\n",
       "      <td>1</td>\n",
       "      <td>Cumings, Mrs. John Bradley (Florence Briggs Th...</td>\n",
       "      <td>female</td>\n",
       "      <td>38.0</td>\n",
       "      <td>1</td>\n",
       "      <td>0</td>\n",
       "      <td>PC 17599</td>\n",
       "      <td>71.2833</td>\n",
       "      <td>C85</td>\n",
       "      <td>C</td>\n",
       "    </tr>\n",
       "    <tr>\n",
       "      <th>2</th>\n",
       "      <td>3</td>\n",
       "      <td>1</td>\n",
       "      <td>3</td>\n",
       "      <td>Heikkinen, Miss. Laina</td>\n",
       "      <td>female</td>\n",
       "      <td>26.0</td>\n",
       "      <td>0</td>\n",
       "      <td>0</td>\n",
       "      <td>STON/O2. 3101282</td>\n",
       "      <td>7.9250</td>\n",
       "      <td>NaN</td>\n",
       "      <td>S</td>\n",
       "    </tr>\n",
       "    <tr>\n",
       "      <th>3</th>\n",
       "      <td>4</td>\n",
       "      <td>1</td>\n",
       "      <td>1</td>\n",
       "      <td>Futrelle, Mrs. Jacques Heath (Lily May Peel)</td>\n",
       "      <td>female</td>\n",
       "      <td>35.0</td>\n",
       "      <td>1</td>\n",
       "      <td>0</td>\n",
       "      <td>113803</td>\n",
       "      <td>53.1000</td>\n",
       "      <td>C123</td>\n",
       "      <td>S</td>\n",
       "    </tr>\n",
       "    <tr>\n",
       "      <th>4</th>\n",
       "      <td>5</td>\n",
       "      <td>0</td>\n",
       "      <td>3</td>\n",
       "      <td>Allen, Mr. William Henry</td>\n",
       "      <td>male</td>\n",
       "      <td>35.0</td>\n",
       "      <td>0</td>\n",
       "      <td>0</td>\n",
       "      <td>373450</td>\n",
       "      <td>8.0500</td>\n",
       "      <td>NaN</td>\n",
       "      <td>S</td>\n",
       "    </tr>\n",
       "  </tbody>\n",
       "</table>\n",
       "</div>"
      ],
      "text/plain": [
       "   PassengerId  Survived  Pclass  \\\n",
       "0            1         0       3   \n",
       "1            2         1       1   \n",
       "2            3         1       3   \n",
       "3            4         1       1   \n",
       "4            5         0       3   \n",
       "\n",
       "                                                Name     Sex   Age  SibSp  \\\n",
       "0                            Braund, Mr. Owen Harris    male  22.0      1   \n",
       "1  Cumings, Mrs. John Bradley (Florence Briggs Th...  female  38.0      1   \n",
       "2                             Heikkinen, Miss. Laina  female  26.0      0   \n",
       "3       Futrelle, Mrs. Jacques Heath (Lily May Peel)  female  35.0      1   \n",
       "4                           Allen, Mr. William Henry    male  35.0      0   \n",
       "\n",
       "   Parch            Ticket     Fare Cabin Embarked  \n",
       "0      0         A/5 21171   7.2500   NaN        S  \n",
       "1      0          PC 17599  71.2833   C85        C  \n",
       "2      0  STON/O2. 3101282   7.9250   NaN        S  \n",
       "3      0            113803  53.1000  C123        S  \n",
       "4      0            373450   8.0500   NaN        S  "
      ]
     },
     "execution_count": 821,
     "metadata": {},
     "output_type": "execute_result"
    }
   ],
   "source": [
    "copy_df.head()"
   ]
  },
  {
   "cell_type": "code",
   "execution_count": 823,
   "id": "c0db0b3e",
   "metadata": {},
   "outputs": [
    {
     "name": "stdout",
     "output_type": "stream",
     "text": [
      "<class 'pandas.core.frame.DataFrame'>\n",
      "RangeIndex: 891 entries, 0 to 890\n",
      "Data columns (total 12 columns):\n",
      " #   Column       Non-Null Count  Dtype  \n",
      "---  ------       --------------  -----  \n",
      " 0   PassengerId  891 non-null    int64  \n",
      " 1   Survived     891 non-null    int64  \n",
      " 2   Pclass       891 non-null    int64  \n",
      " 3   Name         891 non-null    object \n",
      " 4   Sex          891 non-null    object \n",
      " 5   Age          714 non-null    float64\n",
      " 6   SibSp        891 non-null    int64  \n",
      " 7   Parch        891 non-null    int64  \n",
      " 8   Ticket       891 non-null    object \n",
      " 9   Fare         891 non-null    float64\n",
      " 10  Cabin        204 non-null    object \n",
      " 11  Embarked     889 non-null    object \n",
      "dtypes: float64(2), int64(5), object(5)\n",
      "memory usage: 83.7+ KB\n"
     ]
    }
   ],
   "source": [
    "copy_df.info()"
   ]
  },
  {
   "cell_type": "code",
   "execution_count": 825,
   "id": "665f7713",
   "metadata": {},
   "outputs": [
    {
     "data": {
      "text/html": [
       "<div>\n",
       "<style scoped>\n",
       "    .dataframe tbody tr th:only-of-type {\n",
       "        vertical-align: middle;\n",
       "    }\n",
       "\n",
       "    .dataframe tbody tr th {\n",
       "        vertical-align: top;\n",
       "    }\n",
       "\n",
       "    .dataframe thead th {\n",
       "        text-align: right;\n",
       "    }\n",
       "</style>\n",
       "<table border=\"1\" class=\"dataframe\">\n",
       "  <thead>\n",
       "    <tr style=\"text-align: right;\">\n",
       "      <th></th>\n",
       "      <th>PassengerId</th>\n",
       "      <th>Survived</th>\n",
       "      <th>Pclass</th>\n",
       "      <th>Name</th>\n",
       "      <th>Sex</th>\n",
       "      <th>Age</th>\n",
       "      <th>SibSp</th>\n",
       "      <th>Parch</th>\n",
       "      <th>Ticket</th>\n",
       "      <th>Fare</th>\n",
       "      <th>Cabin</th>\n",
       "      <th>Embarked</th>\n",
       "    </tr>\n",
       "  </thead>\n",
       "  <tbody>\n",
       "    <tr>\n",
       "      <th>count</th>\n",
       "      <td>891.000000</td>\n",
       "      <td>891.000000</td>\n",
       "      <td>891.000000</td>\n",
       "      <td>891</td>\n",
       "      <td>891</td>\n",
       "      <td>714.000000</td>\n",
       "      <td>891.000000</td>\n",
       "      <td>891.000000</td>\n",
       "      <td>891</td>\n",
       "      <td>891.000000</td>\n",
       "      <td>204</td>\n",
       "      <td>889</td>\n",
       "    </tr>\n",
       "    <tr>\n",
       "      <th>unique</th>\n",
       "      <td>NaN</td>\n",
       "      <td>NaN</td>\n",
       "      <td>NaN</td>\n",
       "      <td>891</td>\n",
       "      <td>2</td>\n",
       "      <td>NaN</td>\n",
       "      <td>NaN</td>\n",
       "      <td>NaN</td>\n",
       "      <td>681</td>\n",
       "      <td>NaN</td>\n",
       "      <td>147</td>\n",
       "      <td>3</td>\n",
       "    </tr>\n",
       "    <tr>\n",
       "      <th>top</th>\n",
       "      <td>NaN</td>\n",
       "      <td>NaN</td>\n",
       "      <td>NaN</td>\n",
       "      <td>Braund, Mr. Owen Harris</td>\n",
       "      <td>male</td>\n",
       "      <td>NaN</td>\n",
       "      <td>NaN</td>\n",
       "      <td>NaN</td>\n",
       "      <td>347082</td>\n",
       "      <td>NaN</td>\n",
       "      <td>B96 B98</td>\n",
       "      <td>S</td>\n",
       "    </tr>\n",
       "    <tr>\n",
       "      <th>freq</th>\n",
       "      <td>NaN</td>\n",
       "      <td>NaN</td>\n",
       "      <td>NaN</td>\n",
       "      <td>1</td>\n",
       "      <td>577</td>\n",
       "      <td>NaN</td>\n",
       "      <td>NaN</td>\n",
       "      <td>NaN</td>\n",
       "      <td>7</td>\n",
       "      <td>NaN</td>\n",
       "      <td>4</td>\n",
       "      <td>644</td>\n",
       "    </tr>\n",
       "    <tr>\n",
       "      <th>mean</th>\n",
       "      <td>446.000000</td>\n",
       "      <td>0.383838</td>\n",
       "      <td>2.308642</td>\n",
       "      <td>NaN</td>\n",
       "      <td>NaN</td>\n",
       "      <td>29.699118</td>\n",
       "      <td>0.523008</td>\n",
       "      <td>0.381594</td>\n",
       "      <td>NaN</td>\n",
       "      <td>32.204208</td>\n",
       "      <td>NaN</td>\n",
       "      <td>NaN</td>\n",
       "    </tr>\n",
       "    <tr>\n",
       "      <th>std</th>\n",
       "      <td>257.353842</td>\n",
       "      <td>0.486592</td>\n",
       "      <td>0.836071</td>\n",
       "      <td>NaN</td>\n",
       "      <td>NaN</td>\n",
       "      <td>14.526497</td>\n",
       "      <td>1.102743</td>\n",
       "      <td>0.806057</td>\n",
       "      <td>NaN</td>\n",
       "      <td>49.693429</td>\n",
       "      <td>NaN</td>\n",
       "      <td>NaN</td>\n",
       "    </tr>\n",
       "    <tr>\n",
       "      <th>min</th>\n",
       "      <td>1.000000</td>\n",
       "      <td>0.000000</td>\n",
       "      <td>1.000000</td>\n",
       "      <td>NaN</td>\n",
       "      <td>NaN</td>\n",
       "      <td>0.420000</td>\n",
       "      <td>0.000000</td>\n",
       "      <td>0.000000</td>\n",
       "      <td>NaN</td>\n",
       "      <td>0.000000</td>\n",
       "      <td>NaN</td>\n",
       "      <td>NaN</td>\n",
       "    </tr>\n",
       "    <tr>\n",
       "      <th>25%</th>\n",
       "      <td>223.500000</td>\n",
       "      <td>0.000000</td>\n",
       "      <td>2.000000</td>\n",
       "      <td>NaN</td>\n",
       "      <td>NaN</td>\n",
       "      <td>20.125000</td>\n",
       "      <td>0.000000</td>\n",
       "      <td>0.000000</td>\n",
       "      <td>NaN</td>\n",
       "      <td>7.910400</td>\n",
       "      <td>NaN</td>\n",
       "      <td>NaN</td>\n",
       "    </tr>\n",
       "    <tr>\n",
       "      <th>50%</th>\n",
       "      <td>446.000000</td>\n",
       "      <td>0.000000</td>\n",
       "      <td>3.000000</td>\n",
       "      <td>NaN</td>\n",
       "      <td>NaN</td>\n",
       "      <td>28.000000</td>\n",
       "      <td>0.000000</td>\n",
       "      <td>0.000000</td>\n",
       "      <td>NaN</td>\n",
       "      <td>14.454200</td>\n",
       "      <td>NaN</td>\n",
       "      <td>NaN</td>\n",
       "    </tr>\n",
       "    <tr>\n",
       "      <th>75%</th>\n",
       "      <td>668.500000</td>\n",
       "      <td>1.000000</td>\n",
       "      <td>3.000000</td>\n",
       "      <td>NaN</td>\n",
       "      <td>NaN</td>\n",
       "      <td>38.000000</td>\n",
       "      <td>1.000000</td>\n",
       "      <td>0.000000</td>\n",
       "      <td>NaN</td>\n",
       "      <td>31.000000</td>\n",
       "      <td>NaN</td>\n",
       "      <td>NaN</td>\n",
       "    </tr>\n",
       "    <tr>\n",
       "      <th>max</th>\n",
       "      <td>891.000000</td>\n",
       "      <td>1.000000</td>\n",
       "      <td>3.000000</td>\n",
       "      <td>NaN</td>\n",
       "      <td>NaN</td>\n",
       "      <td>80.000000</td>\n",
       "      <td>8.000000</td>\n",
       "      <td>6.000000</td>\n",
       "      <td>NaN</td>\n",
       "      <td>512.329200</td>\n",
       "      <td>NaN</td>\n",
       "      <td>NaN</td>\n",
       "    </tr>\n",
       "  </tbody>\n",
       "</table>\n",
       "</div>"
      ],
      "text/plain": [
       "        PassengerId    Survived      Pclass                     Name   Sex  \\\n",
       "count    891.000000  891.000000  891.000000                      891   891   \n",
       "unique          NaN         NaN         NaN                      891     2   \n",
       "top             NaN         NaN         NaN  Braund, Mr. Owen Harris  male   \n",
       "freq            NaN         NaN         NaN                        1   577   \n",
       "mean     446.000000    0.383838    2.308642                      NaN   NaN   \n",
       "std      257.353842    0.486592    0.836071                      NaN   NaN   \n",
       "min        1.000000    0.000000    1.000000                      NaN   NaN   \n",
       "25%      223.500000    0.000000    2.000000                      NaN   NaN   \n",
       "50%      446.000000    0.000000    3.000000                      NaN   NaN   \n",
       "75%      668.500000    1.000000    3.000000                      NaN   NaN   \n",
       "max      891.000000    1.000000    3.000000                      NaN   NaN   \n",
       "\n",
       "               Age       SibSp       Parch  Ticket        Fare    Cabin  \\\n",
       "count   714.000000  891.000000  891.000000     891  891.000000      204   \n",
       "unique         NaN         NaN         NaN     681         NaN      147   \n",
       "top            NaN         NaN         NaN  347082         NaN  B96 B98   \n",
       "freq           NaN         NaN         NaN       7         NaN        4   \n",
       "mean     29.699118    0.523008    0.381594     NaN   32.204208      NaN   \n",
       "std      14.526497    1.102743    0.806057     NaN   49.693429      NaN   \n",
       "min       0.420000    0.000000    0.000000     NaN    0.000000      NaN   \n",
       "25%      20.125000    0.000000    0.000000     NaN    7.910400      NaN   \n",
       "50%      28.000000    0.000000    0.000000     NaN   14.454200      NaN   \n",
       "75%      38.000000    1.000000    0.000000     NaN   31.000000      NaN   \n",
       "max      80.000000    8.000000    6.000000     NaN  512.329200      NaN   \n",
       "\n",
       "       Embarked  \n",
       "count       889  \n",
       "unique        3  \n",
       "top           S  \n",
       "freq        644  \n",
       "mean        NaN  \n",
       "std         NaN  \n",
       "min         NaN  \n",
       "25%         NaN  \n",
       "50%         NaN  \n",
       "75%         NaN  \n",
       "max         NaN  "
      ]
     },
     "execution_count": 825,
     "metadata": {},
     "output_type": "execute_result"
    }
   ],
   "source": [
    "copy_df.describe(include=\"all\")"
   ]
  },
  {
   "cell_type": "markdown",
   "id": "2d9e40df",
   "metadata": {},
   "source": [
    "# check missing values"
   ]
  },
  {
   "cell_type": "code",
   "execution_count": 828,
   "id": "e3be3bd2",
   "metadata": {},
   "outputs": [
    {
     "data": {
      "text/plain": [
       "PassengerId      0\n",
       "Survived         0\n",
       "Pclass           0\n",
       "Name             0\n",
       "Sex              0\n",
       "Age            177\n",
       "SibSp            0\n",
       "Parch            0\n",
       "Ticket           0\n",
       "Fare             0\n",
       "Cabin          687\n",
       "Embarked         2\n",
       "dtype: int64"
      ]
     },
     "execution_count": 828,
     "metadata": {},
     "output_type": "execute_result"
    }
   ],
   "source": [
    "copy_df.isnull().sum()"
   ]
  },
  {
   "cell_type": "markdown",
   "id": "5bc4fa8e",
   "metadata": {},
   "source": [
    "# handling missing values\n",
    "\n",
    "cabin feature has many null values\n",
    "\n",
    "Mean Imputation: Replace missing values with the mean of the column. Works well when the data is normally distributed.\n",
    "\n",
    "Median Imputation: Replace missing values with the median. This is useful when the data contains outliers or is skewed.\n",
    "\n",
    "Mode Imputation: Replace missing values with the most frequent value. This can be helpful for categorical data."
   ]
  },
  {
   "cell_type": "code",
   "execution_count": 831,
   "id": "8b5230ea",
   "metadata": {},
   "outputs": [],
   "source": [
    "#since the Cabin column has a high percentage of missing values ,PassengerId is just an identifier & Ticket doesn't  provide useful info\n",
    "copy_df = copy_df.drop(columns=['Cabin','PassengerId','Ticket'], axis = 1) #it has too many missing values\n"
   ]
  },
  {
   "cell_type": "code",
   "execution_count": 833,
   "id": "2e233ca4",
   "metadata": {},
   "outputs": [
    {
     "data": {
      "text/html": [
       "<div>\n",
       "<style scoped>\n",
       "    .dataframe tbody tr th:only-of-type {\n",
       "        vertical-align: middle;\n",
       "    }\n",
       "\n",
       "    .dataframe tbody tr th {\n",
       "        vertical-align: top;\n",
       "    }\n",
       "\n",
       "    .dataframe thead th {\n",
       "        text-align: right;\n",
       "    }\n",
       "</style>\n",
       "<table border=\"1\" class=\"dataframe\">\n",
       "  <thead>\n",
       "    <tr style=\"text-align: right;\">\n",
       "      <th></th>\n",
       "      <th>Survived</th>\n",
       "      <th>Pclass</th>\n",
       "      <th>Name</th>\n",
       "      <th>Sex</th>\n",
       "      <th>Age</th>\n",
       "      <th>SibSp</th>\n",
       "      <th>Parch</th>\n",
       "      <th>Fare</th>\n",
       "      <th>Embarked</th>\n",
       "    </tr>\n",
       "  </thead>\n",
       "  <tbody>\n",
       "    <tr>\n",
       "      <th>0</th>\n",
       "      <td>0</td>\n",
       "      <td>3</td>\n",
       "      <td>Braund, Mr. Owen Harris</td>\n",
       "      <td>male</td>\n",
       "      <td>22.0</td>\n",
       "      <td>1</td>\n",
       "      <td>0</td>\n",
       "      <td>7.2500</td>\n",
       "      <td>S</td>\n",
       "    </tr>\n",
       "    <tr>\n",
       "      <th>1</th>\n",
       "      <td>1</td>\n",
       "      <td>1</td>\n",
       "      <td>Cumings, Mrs. John Bradley (Florence Briggs Th...</td>\n",
       "      <td>female</td>\n",
       "      <td>38.0</td>\n",
       "      <td>1</td>\n",
       "      <td>0</td>\n",
       "      <td>71.2833</td>\n",
       "      <td>C</td>\n",
       "    </tr>\n",
       "    <tr>\n",
       "      <th>2</th>\n",
       "      <td>1</td>\n",
       "      <td>3</td>\n",
       "      <td>Heikkinen, Miss. Laina</td>\n",
       "      <td>female</td>\n",
       "      <td>26.0</td>\n",
       "      <td>0</td>\n",
       "      <td>0</td>\n",
       "      <td>7.9250</td>\n",
       "      <td>S</td>\n",
       "    </tr>\n",
       "    <tr>\n",
       "      <th>3</th>\n",
       "      <td>1</td>\n",
       "      <td>1</td>\n",
       "      <td>Futrelle, Mrs. Jacques Heath (Lily May Peel)</td>\n",
       "      <td>female</td>\n",
       "      <td>35.0</td>\n",
       "      <td>1</td>\n",
       "      <td>0</td>\n",
       "      <td>53.1000</td>\n",
       "      <td>S</td>\n",
       "    </tr>\n",
       "    <tr>\n",
       "      <th>4</th>\n",
       "      <td>0</td>\n",
       "      <td>3</td>\n",
       "      <td>Allen, Mr. William Henry</td>\n",
       "      <td>male</td>\n",
       "      <td>35.0</td>\n",
       "      <td>0</td>\n",
       "      <td>0</td>\n",
       "      <td>8.0500</td>\n",
       "      <td>S</td>\n",
       "    </tr>\n",
       "  </tbody>\n",
       "</table>\n",
       "</div>"
      ],
      "text/plain": [
       "   Survived  Pclass                                               Name  \\\n",
       "0         0       3                            Braund, Mr. Owen Harris   \n",
       "1         1       1  Cumings, Mrs. John Bradley (Florence Briggs Th...   \n",
       "2         1       3                             Heikkinen, Miss. Laina   \n",
       "3         1       1       Futrelle, Mrs. Jacques Heath (Lily May Peel)   \n",
       "4         0       3                           Allen, Mr. William Henry   \n",
       "\n",
       "      Sex   Age  SibSp  Parch     Fare Embarked  \n",
       "0    male  22.0      1      0   7.2500        S  \n",
       "1  female  38.0      1      0  71.2833        C  \n",
       "2  female  26.0      0      0   7.9250        S  \n",
       "3  female  35.0      1      0  53.1000        S  \n",
       "4    male  35.0      0      0   8.0500        S  "
      ]
     },
     "execution_count": 833,
     "metadata": {},
     "output_type": "execute_result"
    }
   ],
   "source": [
    "copy_df.head()"
   ]
  },
  {
   "cell_type": "markdown",
   "id": "4eb96547",
   "metadata": {},
   "source": [
    "check skeewnss & distribution to detrmine how fill null values in Age by mean or median\n",
    "\n",
    "If the distribution of ages is not normal (skewed), the median gives a better sense of the typical age. \n",
    "In skewed distributions, the mean can be misleading because it may be pulled toward the skew."
   ]
  },
  {
   "cell_type": "code",
   "execution_count": 836,
   "id": "be6d987e",
   "metadata": {},
   "outputs": [
    {
     "data": {
      "image/png": "[encoded data removed]",
      "text/plain": [
       "<Figure size 800x600 with 1 Axes>"
      ]
     },
     "metadata": {},
     "output_type": "display_data"
    },
    {
     "data": {
      "text/plain": [
       "(0.38910778230082704, None)"
      ]
     },
     "execution_count": 836,
     "metadata": {},
     "output_type": "execute_result"
    }
   ],
   "source": [
    "# Checking skewness of 'Age' column\n",
    "age_skewness = copy_df['Age'].skew()\n",
    "\n",
    "# Plotting histogram to visually the distribution of 'Age'\n",
    "plt.figure(figsize=(8, 6))\n",
    "sns.histplot(copy_df['Age'], bins=20, color='blue')\n",
    "plt.title('Distribution of Age with Skewness')\n",
    "plt.xlabel('Age')\n",
    "plt.ylabel('Frequency')\n",
    "\n",
    "# Display the skewness value and the plot\n",
    "age_skewness, plt.show()  #the skewness value is Greater than 0.right skewee ,mean almost 30"
   ]
  },
  {
   "cell_type": "code",
   "execution_count": 837,
   "id": "b1ff5963",
   "metadata": {},
   "outputs": [
    {
     "data": {
      "text/plain": [
       "Survived    0\n",
       "Pclass      0\n",
       "Name        0\n",
       "Sex         0\n",
       "Age         0\n",
       "SibSp       0\n",
       "Parch       0\n",
       "Fare        0\n",
       "Embarked    2\n",
       "dtype: int64"
      ]
     },
     "execution_count": 837,
     "metadata": {},
     "output_type": "execute_result"
    }
   ],
   "source": [
    "#median_age = data['Age'].median()\n",
    "copy_df['Age'] = copy_df['Age'].fillna(copy_df['Age'].median()) #Fill missing values in the 'Age' column with the median as it has outliers. \n",
    "copy_df.isnull().sum()"
   ]
  },
  {
   "cell_type": "code",
   "execution_count": 840,
   "id": "9fd0d342-d087-4eda-8d74-401ac71a4a60",
   "metadata": {},
   "outputs": [
    {
     "data": {
      "text/plain": [
       "0    28.0\n",
       "Name: Age, dtype: float64"
      ]
     },
     "execution_count": 840,
     "metadata": {},
     "output_type": "execute_result"
    }
   ],
   "source": [
    "copy_df['Age'].mode()"
   ]
  },
  {
   "cell_type": "code",
   "execution_count": 842,
   "id": "f19e0ee2",
   "metadata": {},
   "outputs": [
    {
     "data": {
      "text/plain": [
       "Survived    0\n",
       "Pclass      0\n",
       "Name        0\n",
       "Sex         0\n",
       "Age         0\n",
       "SibSp       0\n",
       "Parch       0\n",
       "Fare        0\n",
       "Embarked    0\n",
       "dtype: int64"
      ]
     },
     "execution_count": 842,
     "metadata": {},
     "output_type": "execute_result"
    }
   ],
   "source": [
    "#fill categoricall with mode or unknown\n",
    "copy_df['Embarked'] = copy_df['Embarked'].fillna(copy_df['Embarked'].mode()[0])\n",
    "copy_df.isnull().sum()"
   ]
  },
  {
   "cell_type": "markdown",
   "id": "3e41f020",
   "metadata": {},
   "source": [
    "# Handling Duplicates"
   ]
  },
  {
   "cell_type": "code",
   "execution_count": 845,
   "id": "24d641ec",
   "metadata": {},
   "outputs": [
    {
     "data": {
      "text/plain": [
       "0      False\n",
       "1      False\n",
       "2      False\n",
       "3      False\n",
       "4      False\n",
       "       ...  \n",
       "886    False\n",
       "887    False\n",
       "888    False\n",
       "889    False\n",
       "890    False\n",
       "Length: 891, dtype: bool"
      ]
     },
     "execution_count": 845,
     "metadata": {},
     "output_type": "execute_result"
    }
   ],
   "source": [
    "copy_df.duplicated() \n"
   ]
  },
  {
   "cell_type": "code",
   "execution_count": 847,
   "id": "5c3b36d9",
   "metadata": {},
   "outputs": [
    {
     "data": {
      "text/plain": [
       "0"
      ]
     },
     "execution_count": 847,
     "metadata": {},
     "output_type": "execute_result"
    }
   ],
   "source": [
    "copy_df.duplicated().sum()"
   ]
  },
  {
   "cell_type": "markdown",
   "id": "5535f837",
   "metadata": {},
   "source": [
    "# Handling Incorrect Data Types"
   ]
  },
  {
   "cell_type": "code",
   "execution_count": 850,
   "id": "d80db37e",
   "metadata": {},
   "outputs": [
    {
     "name": "stdout",
     "output_type": "stream",
     "text": [
      "Survived       int64\n",
      "Pclass         int64\n",
      "Name          object\n",
      "Sex         category\n",
      "Age          float64\n",
      "SibSp          int64\n",
      "Parch          int64\n",
      "Fare         float64\n",
      "Embarked    category\n",
      "dtype: object\n"
     ]
    }
   ],
   "source": [
    "#sex and embarked are categorical but stored as object(string)\n",
    "# Convert 'Sex' and 'Embarked' to categorical to save memory and improve performance.\n",
    "copy_df['Sex'] = copy_df['Sex'].astype('category')\n",
    "copy_df['Embarked'] = copy_df['Embarked'].astype('category')\n",
    "\n",
    "# the updated data types\n",
    "print(copy_df.dtypes)"
   ]
  },
  {
   "cell_type": "markdown",
   "id": "045f44ba",
   "metadata": {},
   "source": [
    "# Handling outliers"
   ]
  },
  {
   "cell_type": "code",
   "execution_count": 853,
   "id": "e91d3917",
   "metadata": {},
   "outputs": [
    {
     "data": {
      "text/plain": [
       "{'Age Outliers': 66,\n",
       " 'Fare Outliers': 116,\n",
       " 'SibSp Outliers': 46,\n",
       " 'Parch Outliers': 213}"
      ]
     },
     "execution_count": 853,
     "metadata": {},
     "output_type": "execute_result"
    }
   ],
   "source": [
    "def get_outliers(column):\n",
    "    Q1 = copy_df[column].quantile(0.25)\n",
    "    Q3 = copy_df[column].quantile(0.75)\n",
    "    IQR = Q3 - Q1\n",
    "    lower_bound = Q1 - 1.5 * IQR\n",
    "    upper_bound = Q3 + 1.5 * IQR\n",
    "    \n",
    "    # Identify outliers\n",
    "    outliers = copy_df[(copy_df[column] < lower_bound) | (copy_df[column] > upper_bound)]\n",
    "    return outliers\n",
    "\n",
    "# Get outliers for each numerical column\n",
    "outliers_age = get_outliers('Age')\n",
    "outliers_fare = get_outliers('Fare')\n",
    "outliers_sibsp = get_outliers('SibSp')\n",
    "outliers_parch = get_outliers('Parch')\n",
    "\n",
    "# Display outliers count for each column\n",
    "{\n",
    "    \"Age Outliers\": len(outliers_age),\n",
    "    \"Fare Outliers\": len(outliers_fare),\n",
    "    \"SibSp Outliers\": len(outliers_sibsp),\n",
    "    \"Parch Outliers\": len(outliers_parch)\n",
    "}"
   ]
  },
  {
   "cell_type": "markdown",
   "id": "a4e4bf02",
   "metadata": {},
   "source": [
    "# Detecting outliers\n",
    "1.IQR\n",
    "\n",
    "2.z-score"
   ]
  },
  {
   "cell_type": "code",
   "execution_count": 856,
   "id": "bd469030",
   "metadata": {},
   "outputs": [
    {
     "data": {
      "application/vnd.plotly.v1+json": {
       "config": {
        "plotlyServerURL": "https://plot.ly"
       },
       "data": [
        {
         "alignmentgroup": "True",
         "hovertemplate": "Age=%{x}<extra></extra>",
         "legendgroup": "",
         "marker": {
          "color": "#636efa"
         },
         "name": "",
         "notched": false,
         "offsetgroup": "",
         "orientation": "h",
         "showlegend": false,
         "type": "box",
         "x": [
          22,
          38,
          26,
          35,
          35,
          28,
          54,
          2,
          27,
          14,
          4,
          58,
          20,
          39,
          14,
          55,
          2,
          28,
          31,
          28,
          35,
          34,
          15,
          28,
          8,
          38,
          28,
          19,
          28,
          28,
          40,
          28,
          28,
          66,
          28,
          42,
          28,
          21,
          18,
          14,
          40,
          27,
          28,
          3,
          19,
          28,
          28,
          28,
          28,
          18,
          7,
          21,
          49,
          29,
          65,
          28,
          21,
          28.5,
          5,
          11,
          22,
          38,
          45,
          4,
          28,
          28,
          29,
          19,
          17,
          26,
          32,
          16,
          21,
          26,
          32,
          25,
          28,
          28,
          0.83,
          30,
          22,
          29,
          28,
          28,
          17,
          33,
          16,
          28,
          23,
          24,
          29,
          20,
          46,
          26,
          59,
          28,
          71,
          23,
          34,
          34,
          28,
          28,
          21,
          33,
          37,
          28,
          21,
          28,
          38,
          28,
          47,
          14.5,
          22,
          20,
          17,
          21,
          70.5,
          29,
          24,
          2,
          21,
          28,
          32.5,
          32.5,
          54,
          12,
          28,
          24,
          28,
          45,
          33,
          20,
          47,
          29,
          25,
          23,
          19,
          37,
          16,
          24,
          28,
          22,
          24,
          19,
          18,
          19,
          27,
          9,
          36.5,
          42,
          51,
          22,
          55.5,
          40.5,
          28,
          51,
          16,
          30,
          28,
          28,
          44,
          40,
          26,
          17,
          1,
          9,
          28,
          45,
          28,
          28,
          61,
          4,
          1,
          21,
          56,
          18,
          28,
          50,
          30,
          36,
          28,
          28,
          9,
          1,
          4,
          28,
          28,
          45,
          40,
          36,
          32,
          19,
          19,
          3,
          44,
          58,
          28,
          42,
          28,
          24,
          28,
          28,
          34,
          45.5,
          18,
          2,
          32,
          26,
          16,
          40,
          24,
          35,
          22,
          30,
          28,
          31,
          27,
          42,
          32,
          30,
          16,
          27,
          51,
          28,
          38,
          22,
          19,
          20.5,
          18,
          28,
          35,
          29,
          59,
          5,
          24,
          28,
          44,
          8,
          19,
          33,
          28,
          28,
          29,
          22,
          30,
          44,
          25,
          24,
          37,
          54,
          28,
          29,
          62,
          30,
          41,
          29,
          28,
          30,
          35,
          50,
          28,
          3,
          52,
          40,
          28,
          36,
          16,
          25,
          58,
          35,
          28,
          25,
          41,
          37,
          28,
          63,
          45,
          28,
          7,
          35,
          65,
          28,
          16,
          19,
          28,
          33,
          30,
          22,
          42,
          22,
          26,
          19,
          36,
          24,
          24,
          28,
          23.5,
          2,
          28,
          50,
          28,
          28,
          19,
          28,
          28,
          0.92,
          28,
          17,
          30,
          30,
          24,
          18,
          26,
          28,
          43,
          26,
          24,
          54,
          31,
          40,
          22,
          27,
          30,
          22,
          28,
          36,
          61,
          36,
          31,
          16,
          28,
          45.5,
          38,
          16,
          28,
          28,
          29,
          41,
          45,
          45,
          2,
          24,
          28,
          25,
          36,
          24,
          40,
          28,
          3,
          42,
          23,
          28,
          15,
          25,
          28,
          28,
          22,
          38,
          28,
          28,
          40,
          29,
          45,
          35,
          28,
          30,
          60,
          28,
          28,
          24,
          25,
          18,
          19,
          22,
          3,
          28,
          22,
          27,
          20,
          19,
          42,
          1,
          32,
          35,
          28,
          18,
          1,
          36,
          28,
          17,
          36,
          21,
          28,
          23,
          24,
          22,
          31,
          46,
          23,
          28,
          39,
          26,
          21,
          28,
          20,
          34,
          51,
          3,
          21,
          28,
          28,
          28,
          33,
          28,
          44,
          28,
          34,
          18,
          30,
          10,
          28,
          21,
          29,
          28,
          18,
          28,
          28,
          19,
          28,
          32,
          28,
          28,
          42,
          17,
          50,
          14,
          21,
          24,
          64,
          31,
          45,
          20,
          25,
          28,
          28,
          4,
          13,
          34,
          5,
          52,
          36,
          28,
          30,
          49,
          28,
          29,
          65,
          28,
          50,
          28,
          48,
          34,
          47,
          48,
          28,
          38,
          28,
          56,
          28,
          0.75,
          28,
          38,
          33,
          23,
          22,
          28,
          34,
          29,
          22,
          2,
          9,
          28,
          50,
          63,
          25,
          28,
          35,
          58,
          30,
          9,
          28,
          21,
          55,
          71,
          21,
          28,
          54,
          28,
          25,
          24,
          17,
          21,
          28,
          37,
          16,
          18,
          33,
          28,
          28,
          26,
          29,
          28,
          36,
          54,
          24,
          47,
          34,
          28,
          36,
          32,
          30,
          22,
          28,
          44,
          28,
          40.5,
          50,
          28,
          39,
          23,
          2,
          28,
          17,
          28,
          30,
          7,
          45,
          30,
          28,
          22,
          36,
          9,
          11,
          32,
          50,
          64,
          19,
          28,
          33,
          8,
          17,
          27,
          28,
          22,
          22,
          62,
          48,
          28,
          39,
          36,
          28,
          40,
          28,
          28,
          28,
          24,
          19,
          29,
          28,
          32,
          62,
          53,
          36,
          28,
          16,
          19,
          34,
          39,
          28,
          32,
          25,
          39,
          54,
          36,
          28,
          18,
          47,
          60,
          22,
          28,
          35,
          52,
          47,
          28,
          37,
          36,
          28,
          49,
          28,
          49,
          24,
          28,
          28,
          44,
          35,
          36,
          30,
          27,
          22,
          40,
          39,
          28,
          28,
          28,
          35,
          24,
          34,
          26,
          4,
          26,
          27,
          42,
          20,
          21,
          21,
          61,
          57,
          21,
          26,
          28,
          80,
          51,
          32,
          28,
          9,
          28,
          32,
          31,
          41,
          28,
          20,
          24,
          2,
          28,
          0.75,
          48,
          19,
          56,
          28,
          23,
          28,
          18,
          21,
          28,
          18,
          24,
          28,
          32,
          23,
          58,
          50,
          40,
          47,
          36,
          20,
          32,
          25,
          28,
          43,
          28,
          40,
          31,
          70,
          31,
          28,
          18,
          24.5,
          18,
          43,
          36,
          28,
          27,
          20,
          14,
          60,
          25,
          14,
          19,
          18,
          15,
          31,
          4,
          28,
          25,
          60,
          52,
          44,
          28,
          49,
          42,
          18,
          35,
          18,
          25,
          26,
          39,
          45,
          42,
          22,
          28,
          24,
          28,
          48,
          29,
          52,
          19,
          38,
          27,
          28,
          33,
          6,
          17,
          34,
          50,
          27,
          20,
          30,
          28,
          25,
          25,
          29,
          11,
          28,
          23,
          23,
          28.5,
          48,
          35,
          28,
          28,
          28,
          36,
          21,
          24,
          31,
          70,
          16,
          30,
          19,
          31,
          4,
          6,
          33,
          23,
          48,
          0.67,
          28,
          18,
          34,
          33,
          28,
          41,
          20,
          36,
          16,
          51,
          28,
          30.5,
          28,
          32,
          24,
          48,
          57,
          28,
          54,
          18,
          28,
          5,
          28,
          43,
          13,
          17,
          29,
          28,
          25,
          25,
          18,
          8,
          1,
          46,
          28,
          16,
          28,
          28,
          25,
          39,
          49,
          31,
          30,
          30,
          34,
          31,
          11,
          0.42,
          27,
          31,
          39,
          18,
          39,
          33,
          26,
          39,
          35,
          6,
          30.5,
          28,
          23,
          31,
          43,
          10,
          52,
          27,
          38,
          27,
          2,
          28,
          28,
          1,
          28,
          62,
          15,
          0.83,
          28,
          23,
          18,
          39,
          21,
          28,
          32,
          28,
          20,
          16,
          30,
          34.5,
          17,
          42,
          28,
          35,
          28,
          28,
          4,
          74,
          9,
          16,
          44,
          18,
          45,
          51,
          24,
          28,
          41,
          21,
          48,
          28,
          24,
          42,
          27,
          31,
          28,
          4,
          26,
          47,
          33,
          47,
          28,
          15,
          20,
          19,
          28,
          56,
          25,
          33,
          22,
          28,
          25,
          39,
          27,
          19,
          28,
          26,
          32
         ],
         "x0": " ",
         "xaxis": "x",
         "y0": " ",
         "yaxis": "y"
        }
       ],
       "layout": {
        "autosize": true,
        "boxmode": "group",
        "legend": {
         "tracegroupgap": 0
        },
        "margin": {
         "t": 60
        },
        "template": {
         "data": {
          "bar": [
           {
            "error_x": {
             "color": "#2a3f5f"
            },
            "error_y": {
             "color": "#2a3f5f"
            },
            "marker": {
             "line": {
              "color": "#E5ECF6",
              "width": 0.5
             },
             "pattern": {
              "fillmode": "overlay",
              "size": 10,
              "solidity": 0.2
             }
            },
            "type": "bar"
           }
          ],
          "barpolar": [
           {
            "marker": {
             "line": {
              "color": "#E5ECF6",
              "width": 0.5
             },
             "pattern": {
              "fillmode": "overlay",
              "size": 10,
              "solidity": 0.2
             }
            },
            "type": "barpolar"
           }
          ],
          "carpet": [
           {
            "aaxis": {
             "endlinecolor": "#2a3f5f",
             "gridcolor": "white",
             "linecolor": "white",
             "minorgridcolor": "white",
             "startlinecolor": "#2a3f5f"
            },
            "baxis": {
             "endlinecolor": "#2a3f5f",
             "gridcolor": "white",
             "linecolor": "white",
             "minorgridcolor": "white",
             "startlinecolor": "#2a3f5f"
            },
            "type": "carpet"
           }
          ],
          "choropleth": [
           {
            "colorbar": {
             "outlinewidth": 0,
             "ticks": ""
            },
            "type": "choropleth"
           }
          ],
          "contour": [
           {
            "colorbar": {
             "outlinewidth": 0,
             "ticks": ""
            },
            "colorscale": [
             [
              0,
              "#0d0887"
             ],
             [
              0.1111111111111111,
              "#46039f"
             ],
             [
              0.2222222222222222,
              "#7201a8"
             ],
             [
              0.3333333333333333,
              "#9c179e"
             ],
             [
              0.4444444444444444,
              "#bd3786"
             ],
             [
              0.5555555555555556,
              "#d8576b"
             ],
             [
              0.6666666666666666,
              "#ed7953"
             ],
             [
              0.7777777777777778,
              "#fb9f3a"
             ],
             [
              0.8888888888888888,
              "#fdca26"
             ],
             [
              1,
              "#f0f921"
             ]
            ],
            "type": "contour"
           }
          ],
          "contourcarpet": [
           {
            "colorbar": {
             "outlinewidth": 0,
             "ticks": ""
            },
            "type": "contourcarpet"
           }
          ],
          "heatmap": [
           {
            "colorbar": {
             "outlinewidth": 0,
             "ticks": ""
            },
            "colorscale": [
             [
              0,
              "#0d0887"
             ],
             [
              0.1111111111111111,
              "#46039f"
             ],
             [
              0.2222222222222222,
              "#7201a8"
             ],
             [
              0.3333333333333333,
              "#9c179e"
             ],
             [
              0.4444444444444444,
              "#bd3786"
             ],
             [
              0.5555555555555556,
              "#d8576b"
             ],
             [
              0.6666666666666666,
              "#ed7953"
             ],
             [
              0.7777777777777778,
              "#fb9f3a"
             ],
             [
              0.8888888888888888,
              "#fdca26"
             ],
             [
              1,
              "#f0f921"
             ]
            ],
            "type": "heatmap"
           }
          ],
          "heatmapgl": [
           {
            "colorbar": {
             "outlinewidth": 0,
             "ticks": ""
            },
            "colorscale": [
             [
              0,
              "#0d0887"
             ],
             [
              0.1111111111111111,
              "#46039f"
             ],
             [
              0.2222222222222222,
              "#7201a8"
             ],
             [
              0.3333333333333333,
              "#9c179e"
             ],
             [
              0.4444444444444444,
              "#bd3786"
             ],
             [
              0.5555555555555556,
              "#d8576b"
             ],
             [
              0.6666666666666666,
              "#ed7953"
             ],
             [
              0.7777777777777778,
              "#fb9f3a"
             ],
             [
              0.8888888888888888,
              "#fdca26"
             ],
             [
              1,
              "#f0f921"
             ]
            ],
            "type": "heatmapgl"
           }
          ],
          "histogram": [
           {
            "marker": {
             "pattern": {
              "fillmode": "overlay",
              "size": 10,
              "solidity": 0.2
             }
            },
            "type": "histogram"
           }
          ],
          "histogram2d": [
           {
            "colorbar": {
             "outlinewidth": 0,
             "ticks": ""
            },
            "colorscale": [
             [
              0,
              "#0d0887"
             ],
             [
              0.1111111111111111,
              "#46039f"
             ],
             [
              0.2222222222222222,
              "#7201a8"
             ],
             [
              0.3333333333333333,
              "#9c179e"
             ],
             [
              0.4444444444444444,
              "#bd3786"
             ],
             [
              0.5555555555555556,
              "#d8576b"
             ],
             [
              0.6666666666666666,
              "#ed7953"
             ],
             [
              0.7777777777777778,
              "#fb9f3a"
             ],
             [
              0.8888888888888888,
              "#fdca26"
             ],
             [
              1,
              "#f0f921"
             ]
            ],
            "type": "histogram2d"
           }
          ],
          "histogram2dcontour": [
           {
            "colorbar": {
             "outlinewidth": 0,
             "ticks": ""
            },
            "colorscale": [
             [
              0,
              "#0d0887"
             ],
             [
              0.1111111111111111,
              "#46039f"
             ],
             [
              0.2222222222222222,
              "#7201a8"
             ],
             [
              0.3333333333333333,
              "#9c179e"
             ],
             [
              0.4444444444444444,
              "#bd3786"
             ],
             [
              0.5555555555555556,
              "#d8576b"
             ],
             [
              0.6666666666666666,
              "#ed7953"
             ],
             [
              0.7777777777777778,
              "#fb9f3a"
             ],
             [
              0.8888888888888888,
              "#fdca26"
             ],
             [
              1,
              "#f0f921"
             ]
            ],
            "type": "histogram2dcontour"
           }
          ],
          "mesh3d": [
           {
            "colorbar": {
             "outlinewidth": 0,
             "ticks": ""
            },
            "type": "mesh3d"
           }
          ],
          "parcoords": [
           {
            "line": {
             "colorbar": {
              "outlinewidth": 0,
              "ticks": ""
             }
            },
            "type": "parcoords"
           }
          ],
          "pie": [
           {
            "automargin": true,
            "type": "pie"
           }
          ],
          "scatter": [
           {
            "fillpattern": {
             "fillmode": "overlay",
             "size": 10,
             "solidity": 0.2
            },
            "type": "scatter"
           }
          ],
          "scatter3d": [
           {
            "line": {
             "colorbar": {
              "outlinewidth": 0,
              "ticks": ""
             }
            },
            "marker": {
             "colorbar": {
              "outlinewidth": 0,
              "ticks": ""
             }
            },
            "type": "scatter3d"
           }
          ],
          "scattercarpet": [
           {
            "marker": {
             "colorbar": {
              "outlinewidth": 0,
              "ticks": ""
             }
            },
            "type": "scattercarpet"
           }
          ],
          "scattergeo": [
           {
            "marker": {
             "colorbar": {
              "outlinewidth": 0,
              "ticks": ""
             }
            },
            "type": "scattergeo"
           }
          ],
          "scattergl": [
           {
            "marker": {
             "colorbar": {
              "outlinewidth": 0,
              "ticks": ""
             }
            },
            "type": "scattergl"
           }
          ],
          "scattermapbox": [
           {
            "marker": {
             "colorbar": {
              "outlinewidth": 0,
              "ticks": ""
             }
            },
            "type": "scattermapbox"
           }
          ],
          "scatterpolar": [
           {
            "marker": {
             "colorbar": {
              "outlinewidth": 0,
              "ticks": ""
             }
            },
            "type": "scatterpolar"
           }
          ],
          "scatterpolargl": [
           {
            "marker": {
             "colorbar": {
              "outlinewidth": 0,
              "ticks": ""
             }
            },
            "type": "scatterpolargl"
           }
          ],
          "scatterternary": [
           {
            "marker": {
             "colorbar": {
              "outlinewidth": 0,
              "ticks": ""
             }
            },
            "type": "scatterternary"
           }
          ],
          "surface": [
           {
            "colorbar": {
             "outlinewidth": 0,
             "ticks": ""
            },
            "colorscale": [
             [
              0,
              "#0d0887"
             ],
             [
              0.1111111111111111,
              "#46039f"
             ],
             [
              0.2222222222222222,
              "#7201a8"
             ],
             [
              0.3333333333333333,
              "#9c179e"
             ],
             [
              0.4444444444444444,
              "#bd3786"
             ],
             [
              0.5555555555555556,
              "#d8576b"
             ],
             [
              0.6666666666666666,
              "#ed7953"
             ],
             [
              0.7777777777777778,
              "#fb9f3a"
             ],
             [
              0.8888888888888888,
              "#fdca26"
             ],
             [
              1,
              "#f0f921"
             ]
            ],
            "type": "surface"
           }
          ],
          "table": [
           {
            "cells": {
             "fill": {
              "color": "#EBF0F8"
             },
             "line": {
              "color": "white"
             }
            },
            "header": {
             "fill": {
              "color": "#C8D4E3"
             },
             "line": {
              "color": "white"
             }
            },
            "type": "table"
           }
          ]
         },
         "layout": {
          "annotationdefaults": {
           "arrowcolor": "#2a3f5f",
           "arrowhead": 0,
           "arrowwidth": 1
          },
          "autotypenumbers": "strict",
          "coloraxis": {
           "colorbar": {
            "outlinewidth": 0,
            "ticks": ""
           }
          },
          "colorscale": {
           "diverging": [
            [
             0,
             "#8e0152"
            ],
            [
             0.1,
             "#c51b7d"
            ],
            [
             0.2,
             "#de77ae"
            ],
            [
             0.3,
             "#f1b6da"
            ],
            [
             0.4,
             "#fde0ef"
            ],
            [
             0.5,
             "#f7f7f7"
            ],
            [
             0.6,
             "#e6f5d0"
            ],
            [
             0.7,
             "#b8e186"
            ],
            [
             0.8,
             "#7fbc41"
            ],
            [
             0.9,
             "#4d9221"
            ],
            [
             1,
             "#276419"
            ]
           ],
           "sequential": [
            [
             0,
             "#0d0887"
            ],
            [
             0.1111111111111111,
             "#46039f"
            ],
            [
             0.2222222222222222,
             "#7201a8"
            ],
            [
             0.3333333333333333,
             "#9c179e"
            ],
            [
             0.4444444444444444,
             "#bd3786"
            ],
            [
             0.5555555555555556,
             "#d8576b"
            ],
            [
             0.6666666666666666,
             "#ed7953"
            ],
            [
             0.7777777777777778,
             "#fb9f3a"
            ],
            [
             0.8888888888888888,
             "#fdca26"
            ],
            [
             1,
             "#f0f921"
            ]
           ],
           "sequentialminus": [
            [
             0,
             "#0d0887"
            ],
            [
             0.1111111111111111,
             "#46039f"
            ],
            [
             0.2222222222222222,
             "#7201a8"
            ],
            [
             0.3333333333333333,
             "#9c179e"
            ],
            [
             0.4444444444444444,
             "#bd3786"
            ],
            [
             0.5555555555555556,
             "#d8576b"
            ],
            [
             0.6666666666666666,
             "#ed7953"
            ],
            [
             0.7777777777777778,
             "#fb9f3a"
            ],
            [
             0.8888888888888888,
             "#fdca26"
            ],
            [
             1,
             "#f0f921"
            ]
           ]
          },
          "colorway": [
           "#636efa",
           "#EF553B",
           "#00cc96",
           "#ab63fa",
           "#FFA15A",
           "#19d3f3",
           "#FF6692",
           "#B6E880",
           "#FF97FF",
           "#FECB52"
          ],
          "font": {
           "color": "#2a3f5f"
          },
          "geo": {
           "bgcolor": "white",
           "lakecolor": "white",
           "landcolor": "#E5ECF6",
           "showlakes": true,
           "showland": true,
           "subunitcolor": "white"
          },
          "hoverlabel": {
           "align": "left"
          },
          "hovermode": "closest",
          "mapbox": {
           "style": "light"
          },
          "paper_bgcolor": "white",
          "plot_bgcolor": "#E5ECF6",
          "polar": {
           "angularaxis": {
            "gridcolor": "white",
            "linecolor": "white",
            "ticks": ""
           },
           "bgcolor": "#E5ECF6",
           "radialaxis": {
            "gridcolor": "white",
            "linecolor": "white",
            "ticks": ""
           }
          },
          "scene": {
           "xaxis": {
            "backgroundcolor": "#E5ECF6",
            "gridcolor": "white",
            "gridwidth": 2,
            "linecolor": "white",
            "showbackground": true,
            "ticks": "",
            "zerolinecolor": "white"
           },
           "yaxis": {
            "backgroundcolor": "#E5ECF6",
            "gridcolor": "white",
            "gridwidth": 2,
            "linecolor": "white",
            "showbackground": true,
            "ticks": "",
            "zerolinecolor": "white"
           },
           "zaxis": {
            "backgroundcolor": "#E5ECF6",
            "gridcolor": "white",
            "gridwidth": 2,
            "linecolor": "white",
            "showbackground": true,
            "ticks": "",
            "zerolinecolor": "white"
           }
          },
          "shapedefaults": {
           "line": {
            "color": "#2a3f5f"
           }
          },
          "ternary": {
           "aaxis": {
            "gridcolor": "white",
            "linecolor": "white",
            "ticks": ""
           },
           "baxis": {
            "gridcolor": "white",
            "linecolor": "white",
            "ticks": ""
           },
           "bgcolor": "#E5ECF6",
           "caxis": {
            "gridcolor": "white",
            "linecolor": "white",
            "ticks": ""
           }
          },
          "title": {
           "x": 0.05
          },
          "xaxis": {
           "automargin": true,
           "gridcolor": "white",
           "linecolor": "white",
           "ticks": "",
           "title": {
            "standoff": 15
           },
           "zerolinecolor": "white",
           "zerolinewidth": 2
          },
          "yaxis": {
           "automargin": true,
           "gridcolor": "white",
           "linecolor": "white",
           "ticks": "",
           "title": {
            "standoff": 15
           },
           "zerolinecolor": "white",
           "zerolinewidth": 2
          }
         }
        },
        "xaxis": {
         "anchor": "y",
         "autorange": true,
         "domain": [
          0,
          1
         ],
         "range": [
          -4.00111111111111,
          84.42111111111112
         ],
         "title": {
          "text": "Age"
         },
         "type": "linear"
        },
        "yaxis": {
         "anchor": "x",
         "autorange": true,
         "domain": [
          0,
          1
         ],
         "range": [
          -0.5,
          0.5
         ],
         "type": "category"
        }
       }
      },
      "image/png": "[encoded data removed]",
      "text/html": [
       "<div>                            <div id=\"bff00b34-38ff-4a71-b371-cac6812b452c\" class=\"plotly-graph-div\" style=\"height:525px; width:100%;\"></div>            <script type=\"text/javascript\">                require([\"plotly\"], function(Plotly) {                    window.PLOTLYENV=window.PLOTLYENV || {};                                    if (document.getElementById(\"bff00b34-38ff-4a71-b371-cac6812b452c\")) {                    Plotly.newPlot(                        \"bff00b34-38ff-4a71-b371-cac6812b452c\",                        [{\"alignmentgroup\":\"True\",\"hovertemplate\":\"Age=%{x}\\u003cextra\\u003e\\u003c\\u002fextra\\u003e\",\"legendgroup\":\"\",\"marker\":{\"color\":\"#636efa\"},\"name\":\"\",\"notched\":false,\"offsetgroup\":\"\",\"orientation\":\"h\",\"showlegend\":false,\"x\":[22.0,38.0,26.0,35.0,35.0,28.0,54.0,2.0,27.0,14.0,4.0,58.0,20.0,39.0,14.0,55.0,2.0,28.0,31.0,28.0,35.0,34.0,15.0,28.0,8.0,38.0,28.0,19.0,28.0,28.0,40.0,28.0,28.0,66.0,28.0,42.0,28.0,21.0,18.0,14.0,40.0,27.0,28.0,3.0,19.0,28.0,28.0,28.0,28.0,18.0,7.0,21.0,49.0,29.0,65.0,28.0,21.0,28.5,5.0,11.0,22.0,38.0,45.0,4.0,28.0,28.0,29.0,19.0,17.0,26.0,32.0,16.0,21.0,26.0,32.0,25.0,28.0,28.0,0.83,30.0,22.0,29.0,28.0,28.0,17.0,33.0,16.0,28.0,23.0,24.0,29.0,20.0,46.0,26.0,59.0,28.0,71.0,23.0,34.0,34.0,28.0,28.0,21.0,33.0,37.0,28.0,21.0,28.0,38.0,28.0,47.0,14.5,22.0,20.0,17.0,21.0,70.5,29.0,24.0,2.0,21.0,28.0,32.5,32.5,54.0,12.0,28.0,24.0,28.0,45.0,33.0,20.0,47.0,29.0,25.0,23.0,19.0,37.0,16.0,24.0,28.0,22.0,24.0,19.0,18.0,19.0,27.0,9.0,36.5,42.0,51.0,22.0,55.5,40.5,28.0,51.0,16.0,30.0,28.0,28.0,44.0,40.0,26.0,17.0,1.0,9.0,28.0,45.0,28.0,28.0,61.0,4.0,1.0,21.0,56.0,18.0,28.0,50.0,30.0,36.0,28.0,28.0,9.0,1.0,4.0,28.0,28.0,45.0,40.0,36.0,32.0,19.0,19.0,3.0,44.0,58.0,28.0,42.0,28.0,24.0,28.0,28.0,34.0,45.5,18.0,2.0,32.0,26.0,16.0,40.0,24.0,35.0,22.0,30.0,28.0,31.0,27.0,42.0,32.0,30.0,16.0,27.0,51.0,28.0,38.0,22.0,19.0,20.5,18.0,28.0,35.0,29.0,59.0,5.0,24.0,28.0,44.0,8.0,19.0,33.0,28.0,28.0,29.0,22.0,30.0,44.0,25.0,24.0,37.0,54.0,28.0,29.0,62.0,30.0,41.0,29.0,28.0,30.0,35.0,50.0,28.0,3.0,52.0,40.0,28.0,36.0,16.0,25.0,58.0,35.0,28.0,25.0,41.0,37.0,28.0,63.0,45.0,28.0,7.0,35.0,65.0,28.0,16.0,19.0,28.0,33.0,30.0,22.0,42.0,22.0,26.0,19.0,36.0,24.0,24.0,28.0,23.5,2.0,28.0,50.0,28.0,28.0,19.0,28.0,28.0,0.92,28.0,17.0,30.0,30.0,24.0,18.0,26.0,28.0,43.0,26.0,24.0,54.0,31.0,40.0,22.0,27.0,30.0,22.0,28.0,36.0,61.0,36.0,31.0,16.0,28.0,45.5,38.0,16.0,28.0,28.0,29.0,41.0,45.0,45.0,2.0,24.0,28.0,25.0,36.0,24.0,40.0,28.0,3.0,42.0,23.0,28.0,15.0,25.0,28.0,28.0,22.0,38.0,28.0,28.0,40.0,29.0,45.0,35.0,28.0,30.0,60.0,28.0,28.0,24.0,25.0,18.0,19.0,22.0,3.0,28.0,22.0,27.0,20.0,19.0,42.0,1.0,32.0,35.0,28.0,18.0,1.0,36.0,28.0,17.0,36.0,21.0,28.0,23.0,24.0,22.0,31.0,46.0,23.0,28.0,39.0,26.0,21.0,28.0,20.0,34.0,51.0,3.0,21.0,28.0,28.0,28.0,33.0,28.0,44.0,28.0,34.0,18.0,30.0,10.0,28.0,21.0,29.0,28.0,18.0,28.0,28.0,19.0,28.0,32.0,28.0,28.0,42.0,17.0,50.0,14.0,21.0,24.0,64.0,31.0,45.0,20.0,25.0,28.0,28.0,4.0,13.0,34.0,5.0,52.0,36.0,28.0,30.0,49.0,28.0,29.0,65.0,28.0,50.0,28.0,48.0,34.0,47.0,48.0,28.0,38.0,28.0,56.0,28.0,0.75,28.0,38.0,33.0,23.0,22.0,28.0,34.0,29.0,22.0,2.0,9.0,28.0,50.0,63.0,25.0,28.0,35.0,58.0,30.0,9.0,28.0,21.0,55.0,71.0,21.0,28.0,54.0,28.0,25.0,24.0,17.0,21.0,28.0,37.0,16.0,18.0,33.0,28.0,28.0,26.0,29.0,28.0,36.0,54.0,24.0,47.0,34.0,28.0,36.0,32.0,30.0,22.0,28.0,44.0,28.0,40.5,50.0,28.0,39.0,23.0,2.0,28.0,17.0,28.0,30.0,7.0,45.0,30.0,28.0,22.0,36.0,9.0,11.0,32.0,50.0,64.0,19.0,28.0,33.0,8.0,17.0,27.0,28.0,22.0,22.0,62.0,48.0,28.0,39.0,36.0,28.0,40.0,28.0,28.0,28.0,24.0,19.0,29.0,28.0,32.0,62.0,53.0,36.0,28.0,16.0,19.0,34.0,39.0,28.0,32.0,25.0,39.0,54.0,36.0,28.0,18.0,47.0,60.0,22.0,28.0,35.0,52.0,47.0,28.0,37.0,36.0,28.0,49.0,28.0,49.0,24.0,28.0,28.0,44.0,35.0,36.0,30.0,27.0,22.0,40.0,39.0,28.0,28.0,28.0,35.0,24.0,34.0,26.0,4.0,26.0,27.0,42.0,20.0,21.0,21.0,61.0,57.0,21.0,26.0,28.0,80.0,51.0,32.0,28.0,9.0,28.0,32.0,31.0,41.0,28.0,20.0,24.0,2.0,28.0,0.75,48.0,19.0,56.0,28.0,23.0,28.0,18.0,21.0,28.0,18.0,24.0,28.0,32.0,23.0,58.0,50.0,40.0,47.0,36.0,20.0,32.0,25.0,28.0,43.0,28.0,40.0,31.0,70.0,31.0,28.0,18.0,24.5,18.0,43.0,36.0,28.0,27.0,20.0,14.0,60.0,25.0,14.0,19.0,18.0,15.0,31.0,4.0,28.0,25.0,60.0,52.0,44.0,28.0,49.0,42.0,18.0,35.0,18.0,25.0,26.0,39.0,45.0,42.0,22.0,28.0,24.0,28.0,48.0,29.0,52.0,19.0,38.0,27.0,28.0,33.0,6.0,17.0,34.0,50.0,27.0,20.0,30.0,28.0,25.0,25.0,29.0,11.0,28.0,23.0,23.0,28.5,48.0,35.0,28.0,28.0,28.0,36.0,21.0,24.0,31.0,70.0,16.0,30.0,19.0,31.0,4.0,6.0,33.0,23.0,48.0,0.67,28.0,18.0,34.0,33.0,28.0,41.0,20.0,36.0,16.0,51.0,28.0,30.5,28.0,32.0,24.0,48.0,57.0,28.0,54.0,18.0,28.0,5.0,28.0,43.0,13.0,17.0,29.0,28.0,25.0,25.0,18.0,8.0,1.0,46.0,28.0,16.0,28.0,28.0,25.0,39.0,49.0,31.0,30.0,30.0,34.0,31.0,11.0,0.42,27.0,31.0,39.0,18.0,39.0,33.0,26.0,39.0,35.0,6.0,30.5,28.0,23.0,31.0,43.0,10.0,52.0,27.0,38.0,27.0,2.0,28.0,28.0,1.0,28.0,62.0,15.0,0.83,28.0,23.0,18.0,39.0,21.0,28.0,32.0,28.0,20.0,16.0,30.0,34.5,17.0,42.0,28.0,35.0,28.0,28.0,4.0,74.0,9.0,16.0,44.0,18.0,45.0,51.0,24.0,28.0,41.0,21.0,48.0,28.0,24.0,42.0,27.0,31.0,28.0,4.0,26.0,47.0,33.0,47.0,28.0,15.0,20.0,19.0,28.0,56.0,25.0,33.0,22.0,28.0,25.0,39.0,27.0,19.0,28.0,26.0,32.0],\"x0\":\" \",\"xaxis\":\"x\",\"y0\":\" \",\"yaxis\":\"y\",\"type\":\"box\"}],                        {\"template\":{\"data\":{\"histogram2dcontour\":[{\"type\":\"histogram2dcontour\",\"colorbar\":{\"outlinewidth\":0,\"ticks\":\"\"},\"colorscale\":[[0.0,\"#0d0887\"],[0.1111111111111111,\"#46039f\"],[0.2222222222222222,\"#7201a8\"],[0.3333333333333333,\"#9c179e\"],[0.4444444444444444,\"#bd3786\"],[0.5555555555555556,\"#d8576b\"],[0.6666666666666666,\"#ed7953\"],[0.7777777777777778,\"#fb9f3a\"],[0.8888888888888888,\"#fdca26\"],[1.0,\"#f0f921\"]]}],\"choropleth\":[{\"type\":\"choropleth\",\"colorbar\":{\"outlinewidth\":0,\"ticks\":\"\"}}],\"histogram2d\":[{\"type\":\"histogram2d\",\"colorbar\":{\"outlinewidth\":0,\"ticks\":\"\"},\"colorscale\":[[0.0,\"#0d0887\"],[0.1111111111111111,\"#46039f\"],[0.2222222222222222,\"#7201a8\"],[0.3333333333333333,\"#9c179e\"],[0.4444444444444444,\"#bd3786\"],[0.5555555555555556,\"#d8576b\"],[0.6666666666666666,\"#ed7953\"],[0.7777777777777778,\"#fb9f3a\"],[0.8888888888888888,\"#fdca26\"],[1.0,\"#f0f921\"]]}],\"heatmap\":[{\"type\":\"heatmap\",\"colorbar\":{\"outlinewidth\":0,\"ticks\":\"\"},\"colorscale\":[[0.0,\"#0d0887\"],[0.1111111111111111,\"#46039f\"],[0.2222222222222222,\"#7201a8\"],[0.3333333333333333,\"#9c179e\"],[0.4444444444444444,\"#bd3786\"],[0.5555555555555556,\"#d8576b\"],[0.6666666666666666,\"#ed7953\"],[0.7777777777777778,\"#fb9f3a\"],[0.8888888888888888,\"#fdca26\"],[1.0,\"#f0f921\"]]}],\"heatmapgl\":[{\"type\":\"heatmapgl\",\"colorbar\":{\"outlinewidth\":0,\"ticks\":\"\"},\"colorscale\":[[0.0,\"#0d0887\"],[0.1111111111111111,\"#46039f\"],[0.2222222222222222,\"#7201a8\"],[0.3333333333333333,\"#9c179e\"],[0.4444444444444444,\"#bd3786\"],[0.5555555555555556,\"#d8576b\"],[0.6666666666666666,\"#ed7953\"],[0.7777777777777778,\"#fb9f3a\"],[0.8888888888888888,\"#fdca26\"],[1.0,\"#f0f921\"]]}],\"contourcarpet\":[{\"type\":\"contourcarpet\",\"colorbar\":{\"outlinewidth\":0,\"ticks\":\"\"}}],\"contour\":[{\"type\":\"contour\",\"colorbar\":{\"outlinewidth\":0,\"ticks\":\"\"},\"colorscale\":[[0.0,\"#0d0887\"],[0.1111111111111111,\"#46039f\"],[0.2222222222222222,\"#7201a8\"],[0.3333333333333333,\"#9c179e\"],[0.4444444444444444,\"#bd3786\"],[0.5555555555555556,\"#d8576b\"],[0.6666666666666666,\"#ed7953\"],[0.7777777777777778,\"#fb9f3a\"],[0.8888888888888888,\"#fdca26\"],[1.0,\"#f0f921\"]]}],\"surface\":[{\"type\":\"surface\",\"colorbar\":{\"outlinewidth\":0,\"ticks\":\"\"},\"colorscale\":[[0.0,\"#0d0887\"],[0.1111111111111111,\"#46039f\"],[0.2222222222222222,\"#7201a8\"],[0.3333333333333333,\"#9c179e\"],[0.4444444444444444,\"#bd3786\"],[0.5555555555555556,\"#d8576b\"],[0.6666666666666666,\"#ed7953\"],[0.7777777777777778,\"#fb9f3a\"],[0.8888888888888888,\"#fdca26\"],[1.0,\"#f0f921\"]]}],\"mesh3d\":[{\"type\":\"mesh3d\",\"colorbar\":{\"outlinewidth\":0,\"ticks\":\"\"}}],\"scatter\":[{\"fillpattern\":{\"fillmode\":\"overlay\",\"size\":10,\"solidity\":0.2},\"type\":\"scatter\"}],\"parcoords\":[{\"type\":\"parcoords\",\"line\":{\"colorbar\":{\"outlinewidth\":0,\"ticks\":\"\"}}}],\"scatterpolargl\":[{\"type\":\"scatterpolargl\",\"marker\":{\"colorbar\":{\"outlinewidth\":0,\"ticks\":\"\"}}}],\"bar\":[{\"error_x\":{\"color\":\"#2a3f5f\"},\"error_y\":{\"color\":\"#2a3f5f\"},\"marker\":{\"line\":{\"color\":\"#E5ECF6\",\"width\":0.5},\"pattern\":{\"fillmode\":\"overlay\",\"size\":10,\"solidity\":0.2}},\"type\":\"bar\"}],\"scattergeo\":[{\"type\":\"scattergeo\",\"marker\":{\"colorbar\":{\"outlinewidth\":0,\"ticks\":\"\"}}}],\"scatterpolar\":[{\"type\":\"scatterpolar\",\"marker\":{\"colorbar\":{\"outlinewidth\":0,\"ticks\":\"\"}}}],\"histogram\":[{\"marker\":{\"pattern\":{\"fillmode\":\"overlay\",\"size\":10,\"solidity\":0.2}},\"type\":\"histogram\"}],\"scattergl\":[{\"type\":\"scattergl\",\"marker\":{\"colorbar\":{\"outlinewidth\":0,\"ticks\":\"\"}}}],\"scatter3d\":[{\"type\":\"scatter3d\",\"line\":{\"colorbar\":{\"outlinewidth\":0,\"ticks\":\"\"}},\"marker\":{\"colorbar\":{\"outlinewidth\":0,\"ticks\":\"\"}}}],\"scattermapbox\":[{\"type\":\"scattermapbox\",\"marker\":{\"colorbar\":{\"outlinewidth\":0,\"ticks\":\"\"}}}],\"scatterternary\":[{\"type\":\"scatterternary\",\"marker\":{\"colorbar\":{\"outlinewidth\":0,\"ticks\":\"\"}}}],\"scattercarpet\":[{\"type\":\"scattercarpet\",\"marker\":{\"colorbar\":{\"outlinewidth\":0,\"ticks\":\"\"}}}],\"carpet\":[{\"aaxis\":{\"endlinecolor\":\"#2a3f5f\",\"gridcolor\":\"white\",\"linecolor\":\"white\",\"minorgridcolor\":\"white\",\"startlinecolor\":\"#2a3f5f\"},\"baxis\":{\"endlinecolor\":\"#2a3f5f\",\"gridcolor\":\"white\",\"linecolor\":\"white\",\"minorgridcolor\":\"white\",\"startlinecolor\":\"#2a3f5f\"},\"type\":\"carpet\"}],\"table\":[{\"cells\":{\"fill\":{\"color\":\"#EBF0F8\"},\"line\":{\"color\":\"white\"}},\"header\":{\"fill\":{\"color\":\"#C8D4E3\"},\"line\":{\"color\":\"white\"}},\"type\":\"table\"}],\"barpolar\":[{\"marker\":{\"line\":{\"color\":\"#E5ECF6\",\"width\":0.5},\"pattern\":{\"fillmode\":\"overlay\",\"size\":10,\"solidity\":0.2}},\"type\":\"barpolar\"}],\"pie\":[{\"automargin\":true,\"type\":\"pie\"}]},\"layout\":{\"autotypenumbers\":\"strict\",\"colorway\":[\"#636efa\",\"#EF553B\",\"#00cc96\",\"#ab63fa\",\"#FFA15A\",\"#19d3f3\",\"#FF6692\",\"#B6E880\",\"#FF97FF\",\"#FECB52\"],\"font\":{\"color\":\"#2a3f5f\"},\"hovermode\":\"closest\",\"hoverlabel\":{\"align\":\"left\"},\"paper_bgcolor\":\"white\",\"plot_bgcolor\":\"#E5ECF6\",\"polar\":{\"bgcolor\":\"#E5ECF6\",\"angularaxis\":{\"gridcolor\":\"white\",\"linecolor\":\"white\",\"ticks\":\"\"},\"radialaxis\":{\"gridcolor\":\"white\",\"linecolor\":\"white\",\"ticks\":\"\"}},\"ternary\":{\"bgcolor\":\"#E5ECF6\",\"aaxis\":{\"gridcolor\":\"white\",\"linecolor\":\"white\",\"ticks\":\"\"},\"baxis\":{\"gridcolor\":\"white\",\"linecolor\":\"white\",\"ticks\":\"\"},\"caxis\":{\"gridcolor\":\"white\",\"linecolor\":\"white\",\"ticks\":\"\"}},\"coloraxis\":{\"colorbar\":{\"outlinewidth\":0,\"ticks\":\"\"}},\"colorscale\":{\"sequential\":[[0.0,\"#0d0887\"],[0.1111111111111111,\"#46039f\"],[0.2222222222222222,\"#7201a8\"],[0.3333333333333333,\"#9c179e\"],[0.4444444444444444,\"#bd3786\"],[0.5555555555555556,\"#d8576b\"],[0.6666666666666666,\"#ed7953\"],[0.7777777777777778,\"#fb9f3a\"],[0.8888888888888888,\"#fdca26\"],[1.0,\"#f0f921\"]],\"sequentialminus\":[[0.0,\"#0d0887\"],[0.1111111111111111,\"#46039f\"],[0.2222222222222222,\"#7201a8\"],[0.3333333333333333,\"#9c179e\"],[0.4444444444444444,\"#bd3786\"],[0.5555555555555556,\"#d8576b\"],[0.6666666666666666,\"#ed7953\"],[0.7777777777777778,\"#fb9f3a\"],[0.8888888888888888,\"#fdca26\"],[1.0,\"#f0f921\"]],\"diverging\":[[0,\"#8e0152\"],[0.1,\"#c51b7d\"],[0.2,\"#de77ae\"],[0.3,\"#f1b6da\"],[0.4,\"#fde0ef\"],[0.5,\"#f7f7f7\"],[0.6,\"#e6f5d0\"],[0.7,\"#b8e186\"],[0.8,\"#7fbc41\"],[0.9,\"#4d9221\"],[1,\"#276419\"]]},\"xaxis\":{\"gridcolor\":\"white\",\"linecolor\":\"white\",\"ticks\":\"\",\"title\":{\"standoff\":15},\"zerolinecolor\":\"white\",\"automargin\":true,\"zerolinewidth\":2},\"yaxis\":{\"gridcolor\":\"white\",\"linecolor\":\"white\",\"ticks\":\"\",\"title\":{\"standoff\":15},\"zerolinecolor\":\"white\",\"automargin\":true,\"zerolinewidth\":2},\"scene\":{\"xaxis\":{\"backgroundcolor\":\"#E5ECF6\",\"gridcolor\":\"white\",\"linecolor\":\"white\",\"showbackground\":true,\"ticks\":\"\",\"zerolinecolor\":\"white\",\"gridwidth\":2},\"yaxis\":{\"backgroundcolor\":\"#E5ECF6\",\"gridcolor\":\"white\",\"linecolor\":\"white\",\"showbackground\":true,\"ticks\":\"\",\"zerolinecolor\":\"white\",\"gridwidth\":2},\"zaxis\":{\"backgroundcolor\":\"#E5ECF6\",\"gridcolor\":\"white\",\"linecolor\":\"white\",\"showbackground\":true,\"ticks\":\"\",\"zerolinecolor\":\"white\",\"gridwidth\":2}},\"shapedefaults\":{\"line\":{\"color\":\"#2a3f5f\"}},\"annotationdefaults\":{\"arrowcolor\":\"#2a3f5f\",\"arrowhead\":0,\"arrowwidth\":1},\"geo\":{\"bgcolor\":\"white\",\"landcolor\":\"#E5ECF6\",\"subunitcolor\":\"white\",\"showland\":true,\"showlakes\":true,\"lakecolor\":\"white\"},\"title\":{\"x\":0.05},\"mapbox\":{\"style\":\"light\"}}},\"xaxis\":{\"anchor\":\"y\",\"domain\":[0.0,1.0],\"title\":{\"text\":\"Age\"}},\"yaxis\":{\"anchor\":\"x\",\"domain\":[0.0,1.0]},\"legend\":{\"tracegroupgap\":0},\"margin\":{\"t\":60},\"boxmode\":\"group\"},                        {\"responsive\": true}                    ).then(function(){\n",
       "                            \n",
       "var gd = document.getElementById('bff00b34-38ff-4a71-b371-cac6812b452c');\n",
       "var x = new MutationObserver(function (mutations, observer) {{\n",
       "        var display = window.getComputedStyle(gd).display;\n",
       "        if (!display || display === 'none') {{\n",
       "            console.log([gd, 'removed!']);\n",
       "            Plotly.purge(gd);\n",
       "            observer.disconnect();\n",
       "        }}\n",
       "}});\n",
       "\n",
       "// Listen for the removal of the full notebook cells\n",
       "var notebookContainer = gd.closest('#notebook-container');\n",
       "if (notebookContainer) {{\n",
       "    x.observe(notebookContainer, {childList: true});\n",
       "}}\n",
       "\n",
       "// Listen for the clearing of the current output cell\n",
       "var outputEl = gd.closest('.output');\n",
       "if (outputEl) {{\n",
       "    x.observe(outputEl, {childList: true});\n",
       "}}\n",
       "\n",
       "                        })                };                });            </script>        </div>"
      ]
     },
     "metadata": {},
     "output_type": "display_data"
    }
   ],
   "source": [
    "fig=px.box(copy_df,x='Age')\n",
    "fig.show()"
   ]
  },
  {
   "cell_type": "code",
   "execution_count": 858,
   "id": "d9156156-d071-45c9-b671-9a4059193fcc",
   "metadata": {},
   "outputs": [],
   "source": [
    "#from scipy.stats import zscore\n",
    "#data['Z_score'] = zscore(data['Age'])\n",
    "#outliers = data[data['Z_score'].abs() > 3]\n",
    "#print(outliers)"
   ]
  },
  {
   "cell_type": "code",
   "execution_count": 860,
   "id": "de21449d",
   "metadata": {},
   "outputs": [
    {
     "name": "stdout",
     "output_type": "stream",
     "text": [
      "     Survived  Pclass                                           Name     Sex  \\\n",
      "7           0       3                 Palsson, Master. Gosta Leonard    male   \n",
      "11          1       1                       Bonnell, Miss. Elizabeth  female   \n",
      "15          1       2               Hewlett, Mrs. (Mary D Kingcome)   female   \n",
      "16          0       3                           Rice, Master. Eugene    male   \n",
      "33          0       2                          Wheadon, Mr. Edward H    male   \n",
      "..        ...     ...                                            ...     ...   \n",
      "827         1       2                          Mallet, Master. Andre    male   \n",
      "829         1       1      Stone, Mrs. George Nelson (Martha Evelyn)  female   \n",
      "831         1       2                Richards, Master. George Sibley    male   \n",
      "851         0       3                            Svensson, Mr. Johan    male   \n",
      "879         1       1  Potter, Mrs. Thomas Jr (Lily Alexenia Wilson)  female   \n",
      "\n",
      "       Age  SibSp  Parch     Fare Embarked  \n",
      "7     2.00      3      1  21.0750        S  \n",
      "11   58.00      0      0  26.5500        S  \n",
      "15   55.00      0      0  16.0000        S  \n",
      "16    2.00      4      1  29.1250        Q  \n",
      "33   66.00      0      0  10.5000        S  \n",
      "..     ...    ...    ...      ...      ...  \n",
      "827   1.00      0      2  37.0042        C  \n",
      "829  62.00      0      0  80.0000        S  \n",
      "831   0.83      1      1  18.7500        S  \n",
      "851  74.00      0      0   7.7750        S  \n",
      "879  56.00      0      1  83.1583        C  \n",
      "\n",
      "[66 rows x 9 columns]\n",
      "(66, 9)\n",
      "lower_bound= 2.5\n",
      "upper_bound= 54.5\n",
      "num of outliers= 66\n"
     ]
    }
   ],
   "source": [
    "# Calculate IQR\n",
    "Q1_age = copy_df['Age'].quantile(0.25)\n",
    "Q3_age = copy_df['Age'].quantile(0.75)\n",
    "IQR_age = Q3_age - Q1_age\n",
    " \n",
    "# Define the lower and upper bounds for outliers\n",
    "lower_bound_age = Q1_age - 1.5 * IQR_age\n",
    "upper_bound_age= Q3_age + 1.5 * IQR_age\n",
    "# Filter outliers\n",
    "outliers_age = copy_df[(copy_df['Age'] < lower_bound_age) | (copy_df['Age'] > upper_bound_age)]\n",
    "# Display outliers\n",
    "print(outliers_age)\n",
    "print(outliers_age.shape)\n",
    "print(\"lower_bound=\",lower_bound_age)\n",
    "print(\"upper_bound=\",upper_bound_age)\n",
    "print(\"num of outliers=\",len(outliers_age))\n",
    "\n",
    "\n"
   ]
  },
  {
   "cell_type": "markdown",
   "id": "6583148e",
   "metadata": {},
   "source": [
    "# handling outliers\n",
    "1.Drop\n",
    "\n",
    "2.clip()"
   ]
  },
  {
   "cell_type": "code",
   "execution_count": 863,
   "id": "c8e45c91",
   "metadata": {},
   "outputs": [],
   "source": [
    "#1clip()\n",
    "# Apply the clip method to limit the age values\n",
    "#data['Age_clipped'] = data['Age'].clip(lower=lower_bound_age, upper=upper_bound_age)\n",
    "#len(data['Age_clipped'])"
   ]
  },
  {
   "cell_type": "code",
   "execution_count": 865,
   "id": "e6a7604b",
   "metadata": {},
   "outputs": [],
   "source": [
    "#print(data['Age_clipped'].max()) #= upper bound\n",
    "#print(data['Age_clipped'].min()) #= lower bound"
   ]
  },
  {
   "cell_type": "code",
   "execution_count": 867,
   "id": "8505fa64",
   "metadata": {},
   "outputs": [
    {
     "data": {
      "text/plain": [
       "825"
      ]
     },
     "execution_count": 867,
     "metadata": {},
     "output_type": "execute_result"
    }
   ],
   "source": [
    "#Drop outliers\n",
    "data_age_dropped=copy_df[(copy_df['Age'] >= lower_bound_age) & (copy_df['Age'] <= upper_bound_age)]\n",
    "len(data_age_dropped) #891-66=825"
   ]
  },
  {
   "cell_type": "markdown",
   "id": "3f62085e",
   "metadata": {},
   "source": [
    "# fare Outliers"
   ]
  },
  {
   "cell_type": "code",
   "execution_count": 870,
   "id": "8a52d8a6",
   "metadata": {},
   "outputs": [
    {
     "data": {
      "application/vnd.plotly.v1+json": {
       "config": {
        "plotlyServerURL": "https://plot.ly"
       },
       "data": [
        {
         "alignmentgroup": "True",
         "hovertemplate": "Fare=%{x}<extra></extra>",
         "legendgroup": "",
         "marker": {
          "color": "#636efa"
         },
         "name": "",
         "notched": false,
         "offsetgroup": "",
         "orientation": "h",
         "showlegend": false,
         "type": "box",
         "x": [
          7.25,
          71.2833,
          7.925,
          53.1,
          8.05,
          8.4583,
          51.8625,
          21.075,
          11.1333,
          30.0708,
          16.7,
          26.55,
          8.05,
          31.275,
          7.8542,
          16,
          29.125,
          13,
          18,
          7.225,
          26,
          13,
          8.0292,
          35.5,
          21.075,
          31.3875,
          7.225,
          263,
          7.8792,
          7.8958,
          27.7208,
          146.5208,
          7.75,
          10.5,
          82.1708,
          52,
          7.2292,
          8.05,
          18,
          11.2417,
          9.475,
          21,
          7.8958,
          41.5792,
          7.8792,
          8.05,
          15.5,
          7.75,
          21.6792,
          17.8,
          39.6875,
          7.8,
          76.7292,
          26,
          61.9792,
          35.5,
          10.5,
          7.2292,
          27.75,
          46.9,
          7.2292,
          80,
          83.475,
          27.9,
          27.7208,
          15.2458,
          10.5,
          8.1583,
          7.925,
          8.6625,
          10.5,
          46.9,
          73.5,
          14.4542,
          56.4958,
          7.65,
          7.8958,
          8.05,
          29,
          12.475,
          9,
          9.5,
          7.7875,
          47.1,
          10.5,
          15.85,
          34.375,
          8.05,
          263,
          8.05,
          8.05,
          7.8542,
          61.175,
          20.575,
          7.25,
          8.05,
          34.6542,
          63.3583,
          23,
          26,
          7.8958,
          7.8958,
          77.2875,
          8.6542,
          7.925,
          7.8958,
          7.65,
          7.775,
          7.8958,
          24.15,
          52,
          14.4542,
          8.05,
          9.825,
          14.4583,
          7.925,
          7.75,
          21,
          247.5208,
          31.275,
          73.5,
          8.05,
          30.0708,
          13,
          77.2875,
          11.2417,
          7.75,
          7.1417,
          22.3583,
          6.975,
          7.8958,
          7.05,
          14.5,
          26,
          13,
          15.0458,
          26.2833,
          53.1,
          9.2167,
          79.2,
          15.2458,
          7.75,
          15.85,
          6.75,
          11.5,
          36.75,
          7.7958,
          34.375,
          26,
          13,
          12.525,
          66.6,
          8.05,
          14.5,
          7.3125,
          61.3792,
          7.7333,
          8.05,
          8.6625,
          69.55,
          16.1,
          15.75,
          7.775,
          8.6625,
          39.6875,
          20.525,
          55,
          27.9,
          25.925,
          56.4958,
          33.5,
          29.125,
          11.1333,
          7.925,
          30.6958,
          7.8542,
          25.4667,
          28.7125,
          13,
          0,
          69.55,
          15.05,
          31.3875,
          39,
          22.025,
          50,
          15.5,
          26.55,
          15.5,
          7.8958,
          13,
          13,
          7.8542,
          26,
          27.7208,
          146.5208,
          7.75,
          8.4042,
          7.75,
          13,
          9.5,
          69.55,
          6.4958,
          7.225,
          8.05,
          10.4625,
          15.85,
          18.7875,
          7.75,
          31,
          7.05,
          21,
          7.25,
          13,
          7.75,
          113.275,
          7.925,
          27,
          76.2917,
          10.5,
          8.05,
          13,
          8.05,
          7.8958,
          90,
          9.35,
          10.5,
          7.25,
          13,
          25.4667,
          83.475,
          7.775,
          13.5,
          31.3875,
          10.5,
          7.55,
          26,
          26.25,
          10.5,
          12.275,
          14.4542,
          15.5,
          10.5,
          7.125,
          7.225,
          90,
          7.775,
          14.5,
          52.5542,
          26,
          7.25,
          10.4625,
          26.55,
          16.1,
          20.2125,
          15.2458,
          79.2,
          86.5,
          512.3292,
          26,
          7.75,
          31.3875,
          79.65,
          0,
          7.75,
          10.5,
          39.6875,
          7.775,
          153.4625,
          135.6333,
          31,
          0,
          19.5,
          29.7,
          7.75,
          77.9583,
          7.75,
          0,
          29.125,
          20.25,
          7.75,
          7.8542,
          9.5,
          8.05,
          26,
          8.6625,
          9.5,
          7.8958,
          13,
          7.75,
          78.85,
          91.0792,
          12.875,
          8.85,
          7.8958,
          27.7208,
          7.2292,
          151.55,
          30.5,
          247.5208,
          7.75,
          23.25,
          0,
          12.35,
          8.05,
          151.55,
          110.8833,
          108.9,
          24,
          56.9292,
          83.1583,
          262.375,
          26,
          7.8958,
          26.25,
          7.8542,
          26,
          14,
          164.8667,
          134.5,
          7.25,
          7.8958,
          12.35,
          29,
          69.55,
          135.6333,
          6.2375,
          13,
          20.525,
          57.9792,
          23.25,
          28.5,
          153.4625,
          18,
          133.65,
          7.8958,
          66.6,
          134.5,
          8.05,
          35.5,
          26,
          263,
          13,
          13,
          13,
          13,
          13,
          16.1,
          15.9,
          8.6625,
          9.225,
          35,
          7.2292,
          17.8,
          7.225,
          9.5,
          55,
          13,
          7.8792,
          7.8792,
          27.9,
          27.7208,
          14.4542,
          7.05,
          15.5,
          7.25,
          75.25,
          7.2292,
          7.75,
          69.3,
          55.4417,
          6.4958,
          8.05,
          135.6333,
          21.075,
          82.1708,
          7.25,
          211.5,
          4.0125,
          7.775,
          227.525,
          15.7417,
          7.925,
          52,
          7.8958,
          73.5,
          46.9,
          13,
          7.7292,
          12,
          120,
          7.7958,
          7.925,
          113.275,
          16.7,
          7.7958,
          7.8542,
          26,
          10.5,
          12.65,
          7.925,
          8.05,
          9.825,
          15.85,
          8.6625,
          21,
          7.75,
          18.75,
          7.775,
          25.4667,
          7.8958,
          6.8583,
          90,
          0,
          7.925,
          8.05,
          32.5,
          13,
          13,
          24.15,
          7.8958,
          7.7333,
          7.875,
          14.4,
          20.2125,
          7.25,
          26,
          26,
          7.75,
          8.05,
          26.55,
          16.1,
          26,
          7.125,
          55.9,
          120,
          34.375,
          18.75,
          263,
          10.5,
          26.25,
          9.5,
          7.775,
          13,
          8.1125,
          81.8583,
          19.5,
          26.55,
          19.2583,
          30.5,
          27.75,
          19.9667,
          27.75,
          89.1042,
          8.05,
          7.8958,
          26.55,
          51.8625,
          10.5,
          7.75,
          26.55,
          8.05,
          38.5,
          13,
          8.05,
          7.05,
          0,
          26.55,
          7.725,
          19.2583,
          7.25,
          8.6625,
          27.75,
          13.7917,
          9.8375,
          52,
          21,
          7.0458,
          7.5208,
          12.2875,
          46.9,
          0,
          8.05,
          9.5875,
          91.0792,
          25.4667,
          90,
          29.7,
          8.05,
          15.9,
          19.9667,
          7.25,
          30.5,
          49.5042,
          8.05,
          14.4583,
          78.2667,
          15.1,
          151.55,
          7.7958,
          8.6625,
          7.75,
          7.6292,
          9.5875,
          86.5,
          108.9,
          26,
          26.55,
          22.525,
          56.4958,
          7.75,
          8.05,
          26.2875,
          59.4,
          7.4958,
          34.0208,
          10.5,
          24.15,
          26,
          7.8958,
          93.5,
          7.8958,
          7.225,
          57.9792,
          7.2292,
          7.75,
          10.5,
          221.7792,
          7.925,
          11.5,
          26,
          7.2292,
          7.2292,
          22.3583,
          8.6625,
          26.25,
          26.55,
          106.425,
          14.5,
          49.5,
          71,
          31.275,
          31.275,
          26,
          106.425,
          26,
          26,
          13.8625,
          20.525,
          36.75,
          110.8833,
          26,
          7.8292,
          7.225,
          7.775,
          26.55,
          39.6,
          227.525,
          79.65,
          17.4,
          7.75,
          7.8958,
          13.5,
          8.05,
          8.05,
          24.15,
          7.8958,
          21.075,
          7.2292,
          7.8542,
          10.5,
          51.4792,
          26.3875,
          7.75,
          8.05,
          14.5,
          13,
          55.9,
          14.4583,
          7.925,
          30,
          110.8833,
          26,
          40.125,
          8.7125,
          79.65,
          15,
          79.2,
          8.05,
          8.05,
          7.125,
          78.2667,
          7.25,
          7.75,
          26,
          24.15,
          33,
          0,
          7.225,
          56.9292,
          27,
          7.8958,
          42.4,
          8.05,
          26.55,
          15.55,
          7.8958,
          30.5,
          41.5792,
          153.4625,
          31.275,
          7.05,
          15.5,
          7.75,
          8.05,
          65,
          14.4,
          16.1,
          39,
          10.5,
          14.4542,
          52.5542,
          15.7417,
          7.8542,
          16.1,
          32.3208,
          12.35,
          77.9583,
          7.8958,
          7.7333,
          30,
          7.0542,
          30.5,
          0,
          27.9,
          13,
          7.925,
          26.25,
          39.6875,
          16.1,
          7.8542,
          69.3,
          27.9,
          56.4958,
          19.2583,
          76.7292,
          7.8958,
          35.5,
          7.55,
          7.55,
          7.8958,
          23,
          8.4333,
          7.8292,
          6.75,
          73.5,
          7.8958,
          15.5,
          13,
          113.275,
          133.65,
          7.225,
          25.5875,
          7.4958,
          7.925,
          73.5,
          13,
          7.775,
          8.05,
          52,
          39,
          52,
          10.5,
          13,
          0,
          7.775,
          8.05,
          9.8417,
          46.9,
          512.3292,
          8.1375,
          76.7292,
          9.225,
          46.9,
          39,
          41.5792,
          39.6875,
          10.1708,
          7.7958,
          211.3375,
          57,
          13.4167,
          56.4958,
          7.225,
          26.55,
          13.5,
          8.05,
          7.7333,
          110.8833,
          7.65,
          227.525,
          26.2875,
          14.4542,
          7.7417,
          7.8542,
          26,
          13.5,
          26.2875,
          151.55,
          15.2458,
          49.5042,
          26.55,
          52,
          9.4833,
          13,
          7.65,
          227.525,
          10.5,
          15.5,
          7.775,
          33,
          7.0542,
          13,
          13,
          53.1,
          8.6625,
          21,
          7.7375,
          26,
          7.925,
          211.3375,
          18.7875,
          0,
          13,
          13,
          16.1,
          34.375,
          512.3292,
          7.8958,
          7.8958,
          30,
          78.85,
          262.375,
          16.1,
          7.925,
          71,
          20.25,
          13,
          53.1,
          7.75,
          23,
          12.475,
          9.5,
          7.8958,
          65,
          14.5,
          7.7958,
          11.5,
          8.05,
          86.5,
          14.5,
          7.125,
          7.2292,
          120,
          7.775,
          77.9583,
          39.6,
          7.75,
          24.15,
          8.3625,
          9.5,
          7.8542,
          10.5,
          7.225,
          23,
          7.75,
          7.75,
          12.475,
          7.7375,
          211.3375,
          7.2292,
          57,
          30,
          23.45,
          7.05,
          7.25,
          7.4958,
          29.125,
          20.575,
          79.2,
          7.75,
          26,
          69.55,
          30.6958,
          7.8958,
          13,
          25.9292,
          8.6833,
          7.2292,
          24.15,
          13,
          26.25,
          120,
          8.5167,
          6.975,
          7.775,
          0,
          7.775,
          13,
          53.1,
          7.8875,
          24.15,
          10.5,
          31.275,
          8.05,
          0,
          7.925,
          37.0042,
          6.45,
          27.9,
          93.5,
          8.6625,
          0,
          12.475,
          39.6875,
          6.95,
          56.4958,
          37.0042,
          7.75,
          80,
          14.4542,
          18.75,
          7.2292,
          7.8542,
          8.3,
          83.1583,
          8.6625,
          8.05,
          56.4958,
          29.7,
          7.925,
          10.5,
          31,
          6.4375,
          8.6625,
          7.55,
          69.55,
          7.8958,
          33,
          89.1042,
          31.275,
          7.775,
          15.2458,
          39.4,
          26,
          9.35,
          164.8667,
          26.55,
          19.2583,
          7.2292,
          14.1083,
          11.5,
          25.9292,
          69.55,
          13,
          13,
          13.8583,
          50.4958,
          9.5,
          11.1333,
          7.8958,
          52.5542,
          5,
          9,
          24,
          7.225,
          9.8458,
          7.8958,
          7.8958,
          83.1583,
          26,
          7.8958,
          10.5167,
          10.5,
          7.05,
          29.125,
          13,
          30,
          23.45,
          30,
          7.75
         ],
         "x0": " ",
         "xaxis": "x",
         "y0": " ",
         "yaxis": "y"
        }
       ],
       "layout": {
        "autosize": true,
        "boxmode": "group",
        "legend": {
         "tracegroupgap": 0
        },
        "margin": {
         "t": 60
        },
        "template": {
         "data": {
          "bar": [
           {
            "error_x": {
             "color": "#2a3f5f"
            },
            "error_y": {
             "color": "#2a3f5f"
            },
            "marker": {
             "line": {
              "color": "#E5ECF6",
              "width": 0.5
             },
             "pattern": {
              "fillmode": "overlay",
              "size": 10,
              "solidity": 0.2
             }
            },
            "type": "bar"
           }
          ],
          "barpolar": [
           {
            "marker": {
             "line": {
              "color": "#E5ECF6",
              "width": 0.5
             },
             "pattern": {
              "fillmode": "overlay",
              "size": 10,
              "solidity": 0.2
             }
            },
            "type": "barpolar"
           }
          ],
          "carpet": [
           {
            "aaxis": {
             "endlinecolor": "#2a3f5f",
             "gridcolor": "white",
             "linecolor": "white",
             "minorgridcolor": "white",
             "startlinecolor": "#2a3f5f"
            },
            "baxis": {
             "endlinecolor": "#2a3f5f",
             "gridcolor": "white",
             "linecolor": "white",
             "minorgridcolor": "white",
             "startlinecolor": "#2a3f5f"
            },
            "type": "carpet"
           }
          ],
          "choropleth": [
           {
            "colorbar": {
             "outlinewidth": 0,
             "ticks": ""
            },
            "type": "choropleth"
           }
          ],
          "contour": [
           {
            "colorbar": {
             "outlinewidth": 0,
             "ticks": ""
            },
            "colorscale": [
             [
              0,
              "#0d0887"
             ],
             [
              0.1111111111111111,
              "#46039f"
             ],
             [
              0.2222222222222222,
              "#7201a8"
             ],
             [
              0.3333333333333333,
              "#9c179e"
             ],
             [
              0.4444444444444444,
              "#bd3786"
             ],
             [
              0.5555555555555556,
              "#d8576b"
             ],
             [
              0.6666666666666666,
              "#ed7953"
             ],
             [
              0.7777777777777778,
              "#fb9f3a"
             ],
             [
              0.8888888888888888,
              "#fdca26"
             ],
             [
              1,
              "#f0f921"
             ]
            ],
            "type": "contour"
           }
          ],
          "contourcarpet": [
           {
            "colorbar": {
             "outlinewidth": 0,
             "ticks": ""
            },
            "type": "contourcarpet"
           }
          ],
          "heatmap": [
           {
            "colorbar": {
             "outlinewidth": 0,
             "ticks": ""
            },
            "colorscale": [
             [
              0,
              "#0d0887"
             ],
             [
              0.1111111111111111,
              "#46039f"
             ],
             [
              0.2222222222222222,
              "#7201a8"
             ],
             [
              0.3333333333333333,
              "#9c179e"
             ],
             [
              0.4444444444444444,
              "#bd3786"
             ],
             [
              0.5555555555555556,
              "#d8576b"
             ],
             [
              0.6666666666666666,
              "#ed7953"
             ],
             [
              0.7777777777777778,
              "#fb9f3a"
             ],
             [
              0.8888888888888888,
              "#fdca26"
             ],
             [
              1,
              "#f0f921"
             ]
            ],
            "type": "heatmap"
           }
          ],
          "heatmapgl": [
           {
            "colorbar": {
             "outlinewidth": 0,
             "ticks": ""
            },
            "colorscale": [
             [
              0,
              "#0d0887"
             ],
             [
              0.1111111111111111,
              "#46039f"
             ],
             [
              0.2222222222222222,
              "#7201a8"
             ],
             [
              0.3333333333333333,
              "#9c179e"
             ],
             [
              0.4444444444444444,
              "#bd3786"
             ],
             [
              0.5555555555555556,
              "#d8576b"
             ],
             [
              0.6666666666666666,
              "#ed7953"
             ],
             [
              0.7777777777777778,
              "#fb9f3a"
             ],
             [
              0.8888888888888888,
              "#fdca26"
             ],
             [
              1,
              "#f0f921"
             ]
            ],
            "type": "heatmapgl"
           }
          ],
          "histogram": [
           {
            "marker": {
             "pattern": {
              "fillmode": "overlay",
              "size": 10,
              "solidity": 0.2
             }
            },
            "type": "histogram"
           }
          ],
          "histogram2d": [
           {
            "colorbar": {
             "outlinewidth": 0,
             "ticks": ""
            },
            "colorscale": [
             [
              0,
              "#0d0887"
             ],
             [
              0.1111111111111111,
              "#46039f"
             ],
             [
              0.2222222222222222,
              "#7201a8"
             ],
             [
              0.3333333333333333,
              "#9c179e"
             ],
             [
              0.4444444444444444,
              "#bd3786"
             ],
             [
              0.5555555555555556,
              "#d8576b"
             ],
             [
              0.6666666666666666,
              "#ed7953"
             ],
             [
              0.7777777777777778,
              "#fb9f3a"
             ],
             [
              0.8888888888888888,
              "#fdca26"
             ],
             [
              1,
              "#f0f921"
             ]
            ],
            "type": "histogram2d"
           }
          ],
          "histogram2dcontour": [
           {
            "colorbar": {
             "outlinewidth": 0,
             "ticks": ""
            },
            "colorscale": [
             [
              0,
              "#0d0887"
             ],
             [
              0.1111111111111111,
              "#46039f"
             ],
             [
              0.2222222222222222,
              "#7201a8"
             ],
             [
              0.3333333333333333,
              "#9c179e"
             ],
             [
              0.4444444444444444,
              "#bd3786"
             ],
             [
              0.5555555555555556,
              "#d8576b"
             ],
             [
              0.6666666666666666,
              "#ed7953"
             ],
             [
              0.7777777777777778,
              "#fb9f3a"
             ],
             [
              0.8888888888888888,
              "#fdca26"
             ],
             [
              1,
              "#f0f921"
             ]
            ],
            "type": "histogram2dcontour"
           }
          ],
          "mesh3d": [
           {
            "colorbar": {
             "outlinewidth": 0,
             "ticks": ""
            },
            "type": "mesh3d"
           }
          ],
          "parcoords": [
           {
            "line": {
             "colorbar": {
              "outlinewidth": 0,
              "ticks": ""
             }
            },
            "type": "parcoords"
           }
          ],
          "pie": [
           {
            "automargin": true,
            "type": "pie"
           }
          ],
          "scatter": [
           {
            "fillpattern": {
             "fillmode": "overlay",
             "size": 10,
             "solidity": 0.2
            },
            "type": "scatter"
           }
          ],
          "scatter3d": [
           {
            "line": {
             "colorbar": {
              "outlinewidth": 0,
              "ticks": ""
             }
            },
            "marker": {
             "colorbar": {
              "outlinewidth": 0,
              "ticks": ""
             }
            },
            "type": "scatter3d"
           }
          ],
          "scattercarpet": [
           {
            "marker": {
             "colorbar": {
              "outlinewidth": 0,
              "ticks": ""
             }
            },
            "type": "scattercarpet"
           }
          ],
          "scattergeo": [
           {
            "marker": {
             "colorbar": {
              "outlinewidth": 0,
              "ticks": ""
             }
            },
            "type": "scattergeo"
           }
          ],
          "scattergl": [
           {
            "marker": {
             "colorbar": {
              "outlinewidth": 0,
              "ticks": ""
             }
            },
            "type": "scattergl"
           }
          ],
          "scattermapbox": [
           {
            "marker": {
             "colorbar": {
              "outlinewidth": 0,
              "ticks": ""
             }
            },
            "type": "scattermapbox"
           }
          ],
          "scatterpolar": [
           {
            "marker": {
             "colorbar": {
              "outlinewidth": 0,
              "ticks": ""
             }
            },
            "type": "scatterpolar"
           }
          ],
          "scatterpolargl": [
           {
            "marker": {
             "colorbar": {
              "outlinewidth": 0,
              "ticks": ""
             }
            },
            "type": "scatterpolargl"
           }
          ],
          "scatterternary": [
           {
            "marker": {
             "colorbar": {
              "outlinewidth": 0,
              "ticks": ""
             }
            },
            "type": "scatterternary"
           }
          ],
          "surface": [
           {
            "colorbar": {
             "outlinewidth": 0,
             "ticks": ""
            },
            "colorscale": [
             [
              0,
              "#0d0887"
             ],
             [
              0.1111111111111111,
              "#46039f"
             ],
             [
              0.2222222222222222,
              "#7201a8"
             ],
             [
              0.3333333333333333,
              "#9c179e"
             ],
             [
              0.4444444444444444,
              "#bd3786"
             ],
             [
              0.5555555555555556,
              "#d8576b"
             ],
             [
              0.6666666666666666,
              "#ed7953"
             ],
             [
              0.7777777777777778,
              "#fb9f3a"
             ],
             [
              0.8888888888888888,
              "#fdca26"
             ],
             [
              1,
              "#f0f921"
             ]
            ],
            "type": "surface"
           }
          ],
          "table": [
           {
            "cells": {
             "fill": {
              "color": "#EBF0F8"
             },
             "line": {
              "color": "white"
             }
            },
            "header": {
             "fill": {
              "color": "#C8D4E3"
             },
             "line": {
              "color": "white"
             }
            },
            "type": "table"
           }
          ]
         },
         "layout": {
          "annotationdefaults": {
           "arrowcolor": "#2a3f5f",
           "arrowhead": 0,
           "arrowwidth": 1
          },
          "autotypenumbers": "strict",
          "coloraxis": {
           "colorbar": {
            "outlinewidth": 0,
            "ticks": ""
           }
          },
          "colorscale": {
           "diverging": [
            [
             0,
             "#8e0152"
            ],
            [
             0.1,
             "#c51b7d"
            ],
            [
             0.2,
             "#de77ae"
            ],
            [
             0.3,
             "#f1b6da"
            ],
            [
             0.4,
             "#fde0ef"
            ],
            [
             0.5,
             "#f7f7f7"
            ],
            [
             0.6,
             "#e6f5d0"
            ],
            [
             0.7,
             "#b8e186"
            ],
            [
             0.8,
             "#7fbc41"
            ],
            [
             0.9,
             "#4d9221"
            ],
            [
             1,
             "#276419"
            ]
           ],
           "sequential": [
            [
             0,
             "#0d0887"
            ],
            [
             0.1111111111111111,
             "#46039f"
            ],
            [
             0.2222222222222222,
             "#7201a8"
            ],
            [
             0.3333333333333333,
             "#9c179e"
            ],
            [
             0.4444444444444444,
             "#bd3786"
            ],
            [
             0.5555555555555556,
             "#d8576b"
            ],
            [
             0.6666666666666666,
             "#ed7953"
            ],
            [
             0.7777777777777778,
             "#fb9f3a"
            ],
            [
             0.8888888888888888,
             "#fdca26"
            ],
            [
             1,
             "#f0f921"
            ]
           ],
           "sequentialminus": [
            [
             0,
             "#0d0887"
            ],
            [
             0.1111111111111111,
             "#46039f"
            ],
            [
             0.2222222222222222,
             "#7201a8"
            ],
            [
             0.3333333333333333,
             "#9c179e"
            ],
            [
             0.4444444444444444,
             "#bd3786"
            ],
            [
             0.5555555555555556,
             "#d8576b"
            ],
            [
             0.6666666666666666,
             "#ed7953"
            ],
            [
             0.7777777777777778,
             "#fb9f3a"
            ],
            [
             0.8888888888888888,
             "#fdca26"
            ],
            [
             1,
             "#f0f921"
            ]
           ]
          },
          "colorway": [
           "#636efa",
           "#EF553B",
           "#00cc96",
           "#ab63fa",
           "#FFA15A",
           "#19d3f3",
           "#FF6692",
           "#B6E880",
           "#FF97FF",
           "#FECB52"
          ],
          "font": {
           "color": "#2a3f5f"
          },
          "geo": {
           "bgcolor": "white",
           "lakecolor": "white",
           "landcolor": "#E5ECF6",
           "showlakes": true,
           "showland": true,
           "subunitcolor": "white"
          },
          "hoverlabel": {
           "align": "left"
          },
          "hovermode": "closest",
          "mapbox": {
           "style": "light"
          },
          "paper_bgcolor": "white",
          "plot_bgcolor": "#E5ECF6",
          "polar": {
           "angularaxis": {
            "gridcolor": "white",
            "linecolor": "white",
            "ticks": ""
           },
           "bgcolor": "#E5ECF6",
           "radialaxis": {
            "gridcolor": "white",
            "linecolor": "white",
            "ticks": ""
           }
          },
          "scene": {
           "xaxis": {
            "backgroundcolor": "#E5ECF6",
            "gridcolor": "white",
            "gridwidth": 2,
            "linecolor": "white",
            "showbackground": true,
            "ticks": "",
            "zerolinecolor": "white"
           },
           "yaxis": {
            "backgroundcolor": "#E5ECF6",
            "gridcolor": "white",
            "gridwidth": 2,
            "linecolor": "white",
            "showbackground": true,
            "ticks": "",
            "zerolinecolor": "white"
           },
           "zaxis": {
            "backgroundcolor": "#E5ECF6",
            "gridcolor": "white",
            "gridwidth": 2,
            "linecolor": "white",
            "showbackground": true,
            "ticks": "",
            "zerolinecolor": "white"
           }
          },
          "shapedefaults": {
           "line": {
            "color": "#2a3f5f"
           }
          },
          "ternary": {
           "aaxis": {
            "gridcolor": "white",
            "linecolor": "white",
            "ticks": ""
           },
           "baxis": {
            "gridcolor": "white",
            "linecolor": "white",
            "ticks": ""
           },
           "bgcolor": "#E5ECF6",
           "caxis": {
            "gridcolor": "white",
            "linecolor": "white",
            "ticks": ""
           }
          },
          "title": {
           "x": 0.05
          },
          "xaxis": {
           "automargin": true,
           "gridcolor": "white",
           "linecolor": "white",
           "ticks": "",
           "title": {
            "standoff": 15
           },
           "zerolinecolor": "white",
           "zerolinewidth": 2
          },
          "yaxis": {
           "automargin": true,
           "gridcolor": "white",
           "linecolor": "white",
           "ticks": "",
           "title": {
            "standoff": 15
           },
           "zerolinecolor": "white",
           "zerolinewidth": 2
          }
         }
        },
        "xaxis": {
         "anchor": "y",
         "autorange": true,
         "domain": [
          0,
          1
         ],
         "range": [
          -28.462733333333336,
          540.7919333333333
         ],
         "title": {
          "text": "Fare"
         },
         "type": "linear"
        },
        "yaxis": {
         "anchor": "x",
         "autorange": true,
         "domain": [
          0,
          1
         ],
         "range": [
          -0.5,
          0.5
         ],
         "type": "category"
        }
       }
      },
      "image/png": "[encoded data removed]",
      "text/html": [
       "<div>                            <div id=\"65bfd9f2-a98e-44b5-97dc-39198d8e337d\" class=\"plotly-graph-div\" style=\"height:525px; width:100%;\"></div>            <script type=\"text/javascript\">                require([\"plotly\"], function(Plotly) {                    window.PLOTLYENV=window.PLOTLYENV || {};                                    if (document.getElementById(\"65bfd9f2-a98e-44b5-97dc-39198d8e337d\")) {                    Plotly.newPlot(                        \"65bfd9f2-a98e-44b5-97dc-39198d8e337d\",                        [{\"alignmentgroup\":\"True\",\"hovertemplate\":\"Fare=%{x}\\u003cextra\\u003e\\u003c\\u002fextra\\u003e\",\"legendgroup\":\"\",\"marker\":{\"color\":\"#636efa\"},\"name\":\"\",\"notched\":false,\"offsetgroup\":\"\",\"orientation\":\"h\",\"showlegend\":false,\"x\":[7.25,71.2833,7.925,53.1,8.05,8.4583,51.8625,21.075,11.1333,30.0708,16.7,26.55,8.05,31.275,7.8542,16.0,29.125,13.0,18.0,7.225,26.0,13.0,8.0292,35.5,21.075,31.3875,7.225,263.0,7.8792,7.8958,27.7208,146.5208,7.75,10.5,82.1708,52.0,7.2292,8.05,18.0,11.2417,9.475,21.0,7.8958,41.5792,7.8792,8.05,15.5,7.75,21.6792,17.8,39.6875,7.8,76.7292,26.0,61.9792,35.5,10.5,7.2292,27.75,46.9,7.2292,80.0,83.475,27.9,27.7208,15.2458,10.5,8.1583,7.925,8.6625,10.5,46.9,73.5,14.4542,56.4958,7.65,7.8958,8.05,29.0,12.475,9.0,9.5,7.7875,47.1,10.5,15.85,34.375,8.05,263.0,8.05,8.05,7.8542,61.175,20.575,7.25,8.05,34.6542,63.3583,23.0,26.0,7.8958,7.8958,77.2875,8.6542,7.925,7.8958,7.65,7.775,7.8958,24.15,52.0,14.4542,8.05,9.825,14.4583,7.925,7.75,21.0,247.5208,31.275,73.5,8.05,30.0708,13.0,77.2875,11.2417,7.75,7.1417,22.3583,6.975,7.8958,7.05,14.5,26.0,13.0,15.0458,26.2833,53.1,9.2167,79.2,15.2458,7.75,15.85,6.75,11.5,36.75,7.7958,34.375,26.0,13.0,12.525,66.6,8.05,14.5,7.3125,61.3792,7.7333,8.05,8.6625,69.55,16.1,15.75,7.775,8.6625,39.6875,20.525,55.0,27.9,25.925,56.4958,33.5,29.125,11.1333,7.925,30.6958,7.8542,25.4667,28.7125,13.0,0.0,69.55,15.05,31.3875,39.0,22.025,50.0,15.5,26.55,15.5,7.8958,13.0,13.0,7.8542,26.0,27.7208,146.5208,7.75,8.4042,7.75,13.0,9.5,69.55,6.4958,7.225,8.05,10.4625,15.85,18.7875,7.75,31.0,7.05,21.0,7.25,13.0,7.75,113.275,7.925,27.0,76.2917,10.5,8.05,13.0,8.05,7.8958,90.0,9.35,10.5,7.25,13.0,25.4667,83.475,7.775,13.5,31.3875,10.5,7.55,26.0,26.25,10.5,12.275,14.4542,15.5,10.5,7.125,7.225,90.0,7.775,14.5,52.5542,26.0,7.25,10.4625,26.55,16.1,20.2125,15.2458,79.2,86.5,512.3292,26.0,7.75,31.3875,79.65,0.0,7.75,10.5,39.6875,7.775,153.4625,135.6333,31.0,0.0,19.5,29.7,7.75,77.9583,7.75,0.0,29.125,20.25,7.75,7.8542,9.5,8.05,26.0,8.6625,9.5,7.8958,13.0,7.75,78.85,91.0792,12.875,8.85,7.8958,27.7208,7.2292,151.55,30.5,247.5208,7.75,23.25,0.0,12.35,8.05,151.55,110.8833,108.9,24.0,56.9292,83.1583,262.375,26.0,7.8958,26.25,7.8542,26.0,14.0,164.8667,134.5,7.25,7.8958,12.35,29.0,69.55,135.6333,6.2375,13.0,20.525,57.9792,23.25,28.5,153.4625,18.0,133.65,7.8958,66.6,134.5,8.05,35.5,26.0,263.0,13.0,13.0,13.0,13.0,13.0,16.1,15.9,8.6625,9.225,35.0,7.2292,17.8,7.225,9.5,55.0,13.0,7.8792,7.8792,27.9,27.7208,14.4542,7.05,15.5,7.25,75.25,7.2292,7.75,69.3,55.4417,6.4958,8.05,135.6333,21.075,82.1708,7.25,211.5,4.0125,7.775,227.525,15.7417,7.925,52.0,7.8958,73.5,46.9,13.0,7.7292,12.0,120.0,7.7958,7.925,113.275,16.7,7.7958,7.8542,26.0,10.5,12.65,7.925,8.05,9.825,15.85,8.6625,21.0,7.75,18.75,7.775,25.4667,7.8958,6.8583,90.0,0.0,7.925,8.05,32.5,13.0,13.0,24.15,7.8958,7.7333,7.875,14.4,20.2125,7.25,26.0,26.0,7.75,8.05,26.55,16.1,26.0,7.125,55.9,120.0,34.375,18.75,263.0,10.5,26.25,9.5,7.775,13.0,8.1125,81.8583,19.5,26.55,19.2583,30.5,27.75,19.9667,27.75,89.1042,8.05,7.8958,26.55,51.8625,10.5,7.75,26.55,8.05,38.5,13.0,8.05,7.05,0.0,26.55,7.725,19.2583,7.25,8.6625,27.75,13.7917,9.8375,52.0,21.0,7.0458,7.5208,12.2875,46.9,0.0,8.05,9.5875,91.0792,25.4667,90.0,29.7,8.05,15.9,19.9667,7.25,30.5,49.5042,8.05,14.4583,78.2667,15.1,151.55,7.7958,8.6625,7.75,7.6292,9.5875,86.5,108.9,26.0,26.55,22.525,56.4958,7.75,8.05,26.2875,59.4,7.4958,34.0208,10.5,24.15,26.0,7.8958,93.5,7.8958,7.225,57.9792,7.2292,7.75,10.5,221.7792,7.925,11.5,26.0,7.2292,7.2292,22.3583,8.6625,26.25,26.55,106.425,14.5,49.5,71.0,31.275,31.275,26.0,106.425,26.0,26.0,13.8625,20.525,36.75,110.8833,26.0,7.8292,7.225,7.775,26.55,39.6,227.525,79.65,17.4,7.75,7.8958,13.5,8.05,8.05,24.15,7.8958,21.075,7.2292,7.8542,10.5,51.4792,26.3875,7.75,8.05,14.5,13.0,55.9,14.4583,7.925,30.0,110.8833,26.0,40.125,8.7125,79.65,15.0,79.2,8.05,8.05,7.125,78.2667,7.25,7.75,26.0,24.15,33.0,0.0,7.225,56.9292,27.0,7.8958,42.4,8.05,26.55,15.55,7.8958,30.5,41.5792,153.4625,31.275,7.05,15.5,7.75,8.05,65.0,14.4,16.1,39.0,10.5,14.4542,52.5542,15.7417,7.8542,16.1,32.3208,12.35,77.9583,7.8958,7.7333,30.0,7.0542,30.5,0.0,27.9,13.0,7.925,26.25,39.6875,16.1,7.8542,69.3,27.9,56.4958,19.2583,76.7292,7.8958,35.5,7.55,7.55,7.8958,23.0,8.4333,7.8292,6.75,73.5,7.8958,15.5,13.0,113.275,133.65,7.225,25.5875,7.4958,7.925,73.5,13.0,7.775,8.05,52.0,39.0,52.0,10.5,13.0,0.0,7.775,8.05,9.8417,46.9,512.3292,8.1375,76.7292,9.225,46.9,39.0,41.5792,39.6875,10.1708,7.7958,211.3375,57.0,13.4167,56.4958,7.225,26.55,13.5,8.05,7.7333,110.8833,7.65,227.525,26.2875,14.4542,7.7417,7.8542,26.0,13.5,26.2875,151.55,15.2458,49.5042,26.55,52.0,9.4833,13.0,7.65,227.525,10.5,15.5,7.775,33.0,7.0542,13.0,13.0,53.1,8.6625,21.0,7.7375,26.0,7.925,211.3375,18.7875,0.0,13.0,13.0,16.1,34.375,512.3292,7.8958,7.8958,30.0,78.85,262.375,16.1,7.925,71.0,20.25,13.0,53.1,7.75,23.0,12.475,9.5,7.8958,65.0,14.5,7.7958,11.5,8.05,86.5,14.5,7.125,7.2292,120.0,7.775,77.9583,39.6,7.75,24.15,8.3625,9.5,7.8542,10.5,7.225,23.0,7.75,7.75,12.475,7.7375,211.3375,7.2292,57.0,30.0,23.45,7.05,7.25,7.4958,29.125,20.575,79.2,7.75,26.0,69.55,30.6958,7.8958,13.0,25.9292,8.6833,7.2292,24.15,13.0,26.25,120.0,8.5167,6.975,7.775,0.0,7.775,13.0,53.1,7.8875,24.15,10.5,31.275,8.05,0.0,7.925,37.0042,6.45,27.9,93.5,8.6625,0.0,12.475,39.6875,6.95,56.4958,37.0042,7.75,80.0,14.4542,18.75,7.2292,7.8542,8.3,83.1583,8.6625,8.05,56.4958,29.7,7.925,10.5,31.0,6.4375,8.6625,7.55,69.55,7.8958,33.0,89.1042,31.275,7.775,15.2458,39.4,26.0,9.35,164.8667,26.55,19.2583,7.2292,14.1083,11.5,25.9292,69.55,13.0,13.0,13.8583,50.4958,9.5,11.1333,7.8958,52.5542,5.0,9.0,24.0,7.225,9.8458,7.8958,7.8958,83.1583,26.0,7.8958,10.5167,10.5,7.05,29.125,13.0,30.0,23.45,30.0,7.75],\"x0\":\" \",\"xaxis\":\"x\",\"y0\":\" \",\"yaxis\":\"y\",\"type\":\"box\"}],                        {\"template\":{\"data\":{\"histogram2dcontour\":[{\"type\":\"histogram2dcontour\",\"colorbar\":{\"outlinewidth\":0,\"ticks\":\"\"},\"colorscale\":[[0.0,\"#0d0887\"],[0.1111111111111111,\"#46039f\"],[0.2222222222222222,\"#7201a8\"],[0.3333333333333333,\"#9c179e\"],[0.4444444444444444,\"#bd3786\"],[0.5555555555555556,\"#d8576b\"],[0.6666666666666666,\"#ed7953\"],[0.7777777777777778,\"#fb9f3a\"],[0.8888888888888888,\"#fdca26\"],[1.0,\"#f0f921\"]]}],\"choropleth\":[{\"type\":\"choropleth\",\"colorbar\":{\"outlinewidth\":0,\"ticks\":\"\"}}],\"histogram2d\":[{\"type\":\"histogram2d\",\"colorbar\":{\"outlinewidth\":0,\"ticks\":\"\"},\"colorscale\":[[0.0,\"#0d0887\"],[0.1111111111111111,\"#46039f\"],[0.2222222222222222,\"#7201a8\"],[0.3333333333333333,\"#9c179e\"],[0.4444444444444444,\"#bd3786\"],[0.5555555555555556,\"#d8576b\"],[0.6666666666666666,\"#ed7953\"],[0.7777777777777778,\"#fb9f3a\"],[0.8888888888888888,\"#fdca26\"],[1.0,\"#f0f921\"]]}],\"heatmap\":[{\"type\":\"heatmap\",\"colorbar\":{\"outlinewidth\":0,\"ticks\":\"\"},\"colorscale\":[[0.0,\"#0d0887\"],[0.1111111111111111,\"#46039f\"],[0.2222222222222222,\"#7201a8\"],[0.3333333333333333,\"#9c179e\"],[0.4444444444444444,\"#bd3786\"],[0.5555555555555556,\"#d8576b\"],[0.6666666666666666,\"#ed7953\"],[0.7777777777777778,\"#fb9f3a\"],[0.8888888888888888,\"#fdca26\"],[1.0,\"#f0f921\"]]}],\"heatmapgl\":[{\"type\":\"heatmapgl\",\"colorbar\":{\"outlinewidth\":0,\"ticks\":\"\"},\"colorscale\":[[0.0,\"#0d0887\"],[0.1111111111111111,\"#46039f\"],[0.2222222222222222,\"#7201a8\"],[0.3333333333333333,\"#9c179e\"],[0.4444444444444444,\"#bd3786\"],[0.5555555555555556,\"#d8576b\"],[0.6666666666666666,\"#ed7953\"],[0.7777777777777778,\"#fb9f3a\"],[0.8888888888888888,\"#fdca26\"],[1.0,\"#f0f921\"]]}],\"contourcarpet\":[{\"type\":\"contourcarpet\",\"colorbar\":{\"outlinewidth\":0,\"ticks\":\"\"}}],\"contour\":[{\"type\":\"contour\",\"colorbar\":{\"outlinewidth\":0,\"ticks\":\"\"},\"colorscale\":[[0.0,\"#0d0887\"],[0.1111111111111111,\"#46039f\"],[0.2222222222222222,\"#7201a8\"],[0.3333333333333333,\"#9c179e\"],[0.4444444444444444,\"#bd3786\"],[0.5555555555555556,\"#d8576b\"],[0.6666666666666666,\"#ed7953\"],[0.7777777777777778,\"#fb9f3a\"],[0.8888888888888888,\"#fdca26\"],[1.0,\"#f0f921\"]]}],\"surface\":[{\"type\":\"surface\",\"colorbar\":{\"outlinewidth\":0,\"ticks\":\"\"},\"colorscale\":[[0.0,\"#0d0887\"],[0.1111111111111111,\"#46039f\"],[0.2222222222222222,\"#7201a8\"],[0.3333333333333333,\"#9c179e\"],[0.4444444444444444,\"#bd3786\"],[0.5555555555555556,\"#d8576b\"],[0.6666666666666666,\"#ed7953\"],[0.7777777777777778,\"#fb9f3a\"],[0.8888888888888888,\"#fdca26\"],[1.0,\"#f0f921\"]]}],\"mesh3d\":[{\"type\":\"mesh3d\",\"colorbar\":{\"outlinewidth\":0,\"ticks\":\"\"}}],\"scatter\":[{\"fillpattern\":{\"fillmode\":\"overlay\",\"size\":10,\"solidity\":0.2},\"type\":\"scatter\"}],\"parcoords\":[{\"type\":\"parcoords\",\"line\":{\"colorbar\":{\"outlinewidth\":0,\"ticks\":\"\"}}}],\"scatterpolargl\":[{\"type\":\"scatterpolargl\",\"marker\":{\"colorbar\":{\"outlinewidth\":0,\"ticks\":\"\"}}}],\"bar\":[{\"error_x\":{\"color\":\"#2a3f5f\"},\"error_y\":{\"color\":\"#2a3f5f\"},\"marker\":{\"line\":{\"color\":\"#E5ECF6\",\"width\":0.5},\"pattern\":{\"fillmode\":\"overlay\",\"size\":10,\"solidity\":0.2}},\"type\":\"bar\"}],\"scattergeo\":[{\"type\":\"scattergeo\",\"marker\":{\"colorbar\":{\"outlinewidth\":0,\"ticks\":\"\"}}}],\"scatterpolar\":[{\"type\":\"scatterpolar\",\"marker\":{\"colorbar\":{\"outlinewidth\":0,\"ticks\":\"\"}}}],\"histogram\":[{\"marker\":{\"pattern\":{\"fillmode\":\"overlay\",\"size\":10,\"solidity\":0.2}},\"type\":\"histogram\"}],\"scattergl\":[{\"type\":\"scattergl\",\"marker\":{\"colorbar\":{\"outlinewidth\":0,\"ticks\":\"\"}}}],\"scatter3d\":[{\"type\":\"scatter3d\",\"line\":{\"colorbar\":{\"outlinewidth\":0,\"ticks\":\"\"}},\"marker\":{\"colorbar\":{\"outlinewidth\":0,\"ticks\":\"\"}}}],\"scattermapbox\":[{\"type\":\"scattermapbox\",\"marker\":{\"colorbar\":{\"outlinewidth\":0,\"ticks\":\"\"}}}],\"scatterternary\":[{\"type\":\"scatterternary\",\"marker\":{\"colorbar\":{\"outlinewidth\":0,\"ticks\":\"\"}}}],\"scattercarpet\":[{\"type\":\"scattercarpet\",\"marker\":{\"colorbar\":{\"outlinewidth\":0,\"ticks\":\"\"}}}],\"carpet\":[{\"aaxis\":{\"endlinecolor\":\"#2a3f5f\",\"gridcolor\":\"white\",\"linecolor\":\"white\",\"minorgridcolor\":\"white\",\"startlinecolor\":\"#2a3f5f\"},\"baxis\":{\"endlinecolor\":\"#2a3f5f\",\"gridcolor\":\"white\",\"linecolor\":\"white\",\"minorgridcolor\":\"white\",\"startlinecolor\":\"#2a3f5f\"},\"type\":\"carpet\"}],\"table\":[{\"cells\":{\"fill\":{\"color\":\"#EBF0F8\"},\"line\":{\"color\":\"white\"}},\"header\":{\"fill\":{\"color\":\"#C8D4E3\"},\"line\":{\"color\":\"white\"}},\"type\":\"table\"}],\"barpolar\":[{\"marker\":{\"line\":{\"color\":\"#E5ECF6\",\"width\":0.5},\"pattern\":{\"fillmode\":\"overlay\",\"size\":10,\"solidity\":0.2}},\"type\":\"barpolar\"}],\"pie\":[{\"automargin\":true,\"type\":\"pie\"}]},\"layout\":{\"autotypenumbers\":\"strict\",\"colorway\":[\"#636efa\",\"#EF553B\",\"#00cc96\",\"#ab63fa\",\"#FFA15A\",\"#19d3f3\",\"#FF6692\",\"#B6E880\",\"#FF97FF\",\"#FECB52\"],\"font\":{\"color\":\"#2a3f5f\"},\"hovermode\":\"closest\",\"hoverlabel\":{\"align\":\"left\"},\"paper_bgcolor\":\"white\",\"plot_bgcolor\":\"#E5ECF6\",\"polar\":{\"bgcolor\":\"#E5ECF6\",\"angularaxis\":{\"gridcolor\":\"white\",\"linecolor\":\"white\",\"ticks\":\"\"},\"radialaxis\":{\"gridcolor\":\"white\",\"linecolor\":\"white\",\"ticks\":\"\"}},\"ternary\":{\"bgcolor\":\"#E5ECF6\",\"aaxis\":{\"gridcolor\":\"white\",\"linecolor\":\"white\",\"ticks\":\"\"},\"baxis\":{\"gridcolor\":\"white\",\"linecolor\":\"white\",\"ticks\":\"\"},\"caxis\":{\"gridcolor\":\"white\",\"linecolor\":\"white\",\"ticks\":\"\"}},\"coloraxis\":{\"colorbar\":{\"outlinewidth\":0,\"ticks\":\"\"}},\"colorscale\":{\"sequential\":[[0.0,\"#0d0887\"],[0.1111111111111111,\"#46039f\"],[0.2222222222222222,\"#7201a8\"],[0.3333333333333333,\"#9c179e\"],[0.4444444444444444,\"#bd3786\"],[0.5555555555555556,\"#d8576b\"],[0.6666666666666666,\"#ed7953\"],[0.7777777777777778,\"#fb9f3a\"],[0.8888888888888888,\"#fdca26\"],[1.0,\"#f0f921\"]],\"sequentialminus\":[[0.0,\"#0d0887\"],[0.1111111111111111,\"#46039f\"],[0.2222222222222222,\"#7201a8\"],[0.3333333333333333,\"#9c179e\"],[0.4444444444444444,\"#bd3786\"],[0.5555555555555556,\"#d8576b\"],[0.6666666666666666,\"#ed7953\"],[0.7777777777777778,\"#fb9f3a\"],[0.8888888888888888,\"#fdca26\"],[1.0,\"#f0f921\"]],\"diverging\":[[0,\"#8e0152\"],[0.1,\"#c51b7d\"],[0.2,\"#de77ae\"],[0.3,\"#f1b6da\"],[0.4,\"#fde0ef\"],[0.5,\"#f7f7f7\"],[0.6,\"#e6f5d0\"],[0.7,\"#b8e186\"],[0.8,\"#7fbc41\"],[0.9,\"#4d9221\"],[1,\"#276419\"]]},\"xaxis\":{\"gridcolor\":\"white\",\"linecolor\":\"white\",\"ticks\":\"\",\"title\":{\"standoff\":15},\"zerolinecolor\":\"white\",\"automargin\":true,\"zerolinewidth\":2},\"yaxis\":{\"gridcolor\":\"white\",\"linecolor\":\"white\",\"ticks\":\"\",\"title\":{\"standoff\":15},\"zerolinecolor\":\"white\",\"automargin\":true,\"zerolinewidth\":2},\"scene\":{\"xaxis\":{\"backgroundcolor\":\"#E5ECF6\",\"gridcolor\":\"white\",\"linecolor\":\"white\",\"showbackground\":true,\"ticks\":\"\",\"zerolinecolor\":\"white\",\"gridwidth\":2},\"yaxis\":{\"backgroundcolor\":\"#E5ECF6\",\"gridcolor\":\"white\",\"linecolor\":\"white\",\"showbackground\":true,\"ticks\":\"\",\"zerolinecolor\":\"white\",\"gridwidth\":2},\"zaxis\":{\"backgroundcolor\":\"#E5ECF6\",\"gridcolor\":\"white\",\"linecolor\":\"white\",\"showbackground\":true,\"ticks\":\"\",\"zerolinecolor\":\"white\",\"gridwidth\":2}},\"shapedefaults\":{\"line\":{\"color\":\"#2a3f5f\"}},\"annotationdefaults\":{\"arrowcolor\":\"#2a3f5f\",\"arrowhead\":0,\"arrowwidth\":1},\"geo\":{\"bgcolor\":\"white\",\"landcolor\":\"#E5ECF6\",\"subunitcolor\":\"white\",\"showland\":true,\"showlakes\":true,\"lakecolor\":\"white\"},\"title\":{\"x\":0.05},\"mapbox\":{\"style\":\"light\"}}},\"xaxis\":{\"anchor\":\"y\",\"domain\":[0.0,1.0],\"title\":{\"text\":\"Fare\"}},\"yaxis\":{\"anchor\":\"x\",\"domain\":[0.0,1.0]},\"legend\":{\"tracegroupgap\":0},\"margin\":{\"t\":60},\"boxmode\":\"group\"},                        {\"responsive\": true}                    ).then(function(){\n",
       "                            \n",
       "var gd = document.getElementById('65bfd9f2-a98e-44b5-97dc-39198d8e337d');\n",
       "var x = new MutationObserver(function (mutations, observer) {{\n",
       "        var display = window.getComputedStyle(gd).display;\n",
       "        if (!display || display === 'none') {{\n",
       "            console.log([gd, 'removed!']);\n",
       "            Plotly.purge(gd);\n",
       "            observer.disconnect();\n",
       "        }}\n",
       "}});\n",
       "\n",
       "// Listen for the removal of the full notebook cells\n",
       "var notebookContainer = gd.closest('#notebook-container');\n",
       "if (notebookContainer) {{\n",
       "    x.observe(notebookContainer, {childList: true});\n",
       "}}\n",
       "\n",
       "// Listen for the clearing of the current output cell\n",
       "var outputEl = gd.closest('.output');\n",
       "if (outputEl) {{\n",
       "    x.observe(outputEl, {childList: true});\n",
       "}}\n",
       "\n",
       "                        })                };                });            </script>        </div>"
      ]
     },
     "metadata": {},
     "output_type": "display_data"
    }
   ],
   "source": [
    "fig=px.box(copy_df,x='Fare')\n",
    "fig.show()\n"
   ]
  },
  {
   "cell_type": "code",
   "execution_count": 872,
   "id": "8cfa88fa-00e8-4c6f-bfc2-a8c9600ff1d5",
   "metadata": {},
   "outputs": [
    {
     "data": {
      "text/plain": [
       "31.483615393939395"
      ]
     },
     "execution_count": 872,
     "metadata": {},
     "output_type": "execute_result"
    }
   ],
   "source": [
    "data_age_dropped[\"Fare\"].mean()"
   ]
  },
  {
   "cell_type": "code",
   "execution_count": 874,
   "id": "0d06e931",
   "metadata": {},
   "outputs": [
    {
     "name": "stdout",
     "output_type": "stream",
     "text": [
      "     Survived  Pclass                                               Name  \\\n",
      "1           1       1  Cumings, Mrs. John Bradley (Florence Briggs Th...   \n",
      "27          0       1                     Fortune, Mr. Charles Alexander   \n",
      "31          1       1     Spencer, Mrs. William Augustus (Marie Eugenie)   \n",
      "34          0       1                            Meyer, Mr. Edgar Joseph   \n",
      "52          1       1           Harper, Mrs. Henry Sleeper (Myna Haxtun)   \n",
      "..        ...     ...                                                ...   \n",
      "835         1       1                        Compton, Miss. Sara Rebecca   \n",
      "846         0       3                           Sage, Mr. Douglas Bullen   \n",
      "849         1       1       Goldenberg, Mrs. Samuel L (Edwiga Grabowska)   \n",
      "856         1       1         Wick, Mrs. George Dennick (Mary Hitchcock)   \n",
      "863         0       3                  Sage, Miss. Dorothy Edith \"Dolly\"   \n",
      "\n",
      "        Sex   Age  SibSp  Parch      Fare Embarked  \n",
      "1    female  38.0      1      0   71.2833        C  \n",
      "27     male  19.0      3      2  263.0000        S  \n",
      "31   female  28.0      1      0  146.5208        C  \n",
      "34     male  28.0      1      0   82.1708        C  \n",
      "52   female  49.0      1      0   76.7292        C  \n",
      "..      ...   ...    ...    ...       ...      ...  \n",
      "835  female  39.0      1      1   83.1583        C  \n",
      "846    male  28.0      8      2   69.5500        S  \n",
      "849  female  28.0      1      0   89.1042        C  \n",
      "856  female  45.0      1      1  164.8667        S  \n",
      "863  female  28.0      8      2   69.5500        S  \n",
      "\n",
      "[107 rows x 9 columns]\n",
      "(107, 9)\n",
      "lower_bound= -25.366699999999994\n",
      "upper_bound= 63.333299999999994\n",
      "num of outliers= 107\n"
     ]
    }
   ],
   "source": [
    "# Calculate IQR\n",
    "Q1_fare = data_age_dropped['Fare'].quantile(0.25)\n",
    "Q3_fare= data_age_dropped['Fare'].quantile(0.75)\n",
    "IQR_fare = Q3_fare - Q1_fare\n",
    " \n",
    "# Define the lower and upper bounds for outliers\n",
    "lower_bound_Fare = Q1_fare - 1.5 * IQR_fare\n",
    "upper_bound_Fare= Q3_fare + 1.5 * IQR_fare\n",
    " \n",
    "# Filter outliers\n",
    "outliers_Fare = data_age_dropped[(data_age_dropped['Fare'] < lower_bound_Fare) | (data_age_dropped['Fare'] > upper_bound_Fare)]\n",
    " \n",
    "# Display outliers\n",
    "print(outliers_Fare)\n",
    "print(outliers_Fare.shape)\n",
    "print(\"lower_bound=\",lower_bound_Fare)\n",
    "print(\"upper_bound=\",upper_bound_Fare)\n",
    "print(\"num of outliers=\",len(outliers_Fare))\n"
   ]
  },
  {
   "cell_type": "code",
   "execution_count": 876,
   "id": "ef3406e8",
   "metadata": {},
   "outputs": [
    {
     "data": {
      "text/plain": [
       "718"
      ]
     },
     "execution_count": 876,
     "metadata": {},
     "output_type": "execute_result"
    }
   ],
   "source": [
    "#Drop outliers\n",
    "data_fare_dropped=data_age_dropped[(data_age_dropped['Fare'] >= lower_bound_Fare) & (data_age_dropped['Fare'] <= upper_bound_Fare)]\n",
    "len(data_fare_dropped) #825-107"
   ]
  },
  {
   "cell_type": "markdown",
   "id": "e29f8557",
   "metadata": {},
   "source": [
    "# sibsp outliers"
   ]
  },
  {
   "cell_type": "code",
   "execution_count": 879,
   "id": "bb085c00",
   "metadata": {},
   "outputs": [
    {
     "name": "stdout",
     "output_type": "stream",
     "text": [
      "     Survived  Pclass                                               Name  \\\n",
      "24          0       3                      Palsson, Miss. Torborg Danira   \n",
      "50          0       3                         Panula, Master. Juha Niilo   \n",
      "59          0       3                 Goodwin, Master. William Frederick   \n",
      "63          0       3                              Skoog, Master. Harald   \n",
      "68          1       3                    Andersson, Miss. Erna Alexandra   \n",
      "71          0       3                         Goodwin, Miss. Lillian Amy   \n",
      "85          1       3  Backstrom, Mrs. Karl Alfred (Maria Mathilda Gu...   \n",
      "171         0       3                               Rice, Master. Arthur   \n",
      "176         0       3                      Lefebre, Master. Henry Forbes   \n",
      "182         0       3              Asplund, Master. Clarence Gustaf Hugo   \n",
      "229         0       3                            Lefebre, Miss. Mathilde   \n",
      "233         1       3                     Asplund, Miss. Lillian Gertrud   \n",
      "261         1       3                  Asplund, Master. Edvin Rojj Felix   \n",
      "266         0       3                          Panula, Mr. Ernesti Arvid   \n",
      "278         0       3                                 Rice, Master. Eric   \n",
      "374         0       3                         Palsson, Miss. Stina Viola   \n",
      "409         0       3                                 Lefebre, Miss. Ida   \n",
      "480         0       3                     Goodwin, Master. Harold Victor   \n",
      "485         0       3                             Lefebre, Miss. Jeannie   \n",
      "541         0       3               Andersson, Miss. Ingeborg Constanzia   \n",
      "542         0       3                  Andersson, Miss. Sigrid Elisabeth   \n",
      "634         0       3                                 Skoog, Miss. Mabel   \n",
      "683         0       3                        Goodwin, Mr. Charles Edward   \n",
      "686         0       3                           Panula, Mr. Jaako Arnold   \n",
      "726         1       2        Renouf, Mrs. Peter Henry (Lillian Jefferys)   \n",
      "787         0       3                          Rice, Master. George Hugh   \n",
      "813         0       3                 Andersson, Miss. Ebba Iris Alfrida   \n",
      "819         0       3                       Skoog, Master. Karl Thorsten   \n",
      "850         0       3            Andersson, Master. Sigvard Harald Elias   \n",
      "\n",
      "        Sex   Age  SibSp  Parch     Fare Embarked  \n",
      "24   female   8.0      3      1  21.0750        S  \n",
      "50     male   7.0      4      1  39.6875        S  \n",
      "59     male  11.0      5      2  46.9000        S  \n",
      "63     male   4.0      3      2  27.9000        S  \n",
      "68   female  17.0      4      2   7.9250        S  \n",
      "71   female  16.0      5      2  46.9000        S  \n",
      "85   female  33.0      3      0  15.8500        S  \n",
      "171    male   4.0      4      1  29.1250        Q  \n",
      "176    male  28.0      3      1  25.4667        S  \n",
      "182    male   9.0      4      2  31.3875        S  \n",
      "229  female  28.0      3      1  25.4667        S  \n",
      "233  female   5.0      4      2  31.3875        S  \n",
      "261    male   3.0      4      2  31.3875        S  \n",
      "266    male  16.0      4      1  39.6875        S  \n",
      "278    male   7.0      4      1  29.1250        Q  \n",
      "374  female   3.0      3      1  21.0750        S  \n",
      "409  female  28.0      3      1  25.4667        S  \n",
      "480    male   9.0      5      2  46.9000        S  \n",
      "485  female  28.0      3      1  25.4667        S  \n",
      "541  female   9.0      4      2  31.2750        S  \n",
      "542  female  11.0      4      2  31.2750        S  \n",
      "634  female   9.0      3      2  27.9000        S  \n",
      "683    male  14.0      5      2  46.9000        S  \n",
      "686    male  14.0      4      1  39.6875        S  \n",
      "726  female  30.0      3      0  21.0000        S  \n",
      "787    male   8.0      4      1  29.1250        Q  \n",
      "813  female   6.0      4      2  31.2750        S  \n",
      "819    male  10.0      3      2  27.9000        S  \n",
      "850    male   4.0      4      2  31.2750        S  \n",
      "(29, 9)\n",
      "lower_bound= -1.5\n",
      "upper_bound= 2.5\n",
      "num of outliers= 29\n"
     ]
    }
   ],
   "source": [
    "# Calculate IQR\n",
    "Q1_sibsp = data['SibSp'].quantile(0.25)\n",
    "Q3_sibsp = data['SibSp'].quantile(0.75)\n",
    "IQR_sibsp = Q3_sibsp - Q1_sibsp\n",
    " \n",
    "# Define the lower and upper bounds for outliers\n",
    "lower_bound_SibSp = Q1_sibsp - 1.5 * IQR_sibsp\n",
    "upper_bound_SibSp= Q3_sibsp + 1.5 * IQR_sibsp\n",
    " \n",
    "# Filter outliers\n",
    "outliers_SibSp = data_fare_dropped[(data_fare_dropped['SibSp'] < lower_bound_SibSp) | (data_fare_dropped['SibSp'] > upper_bound_SibSp)]\n",
    " \n",
    "print(outliers_SibSp)\n",
    "print(outliers_SibSp.shape)\n",
    "print(\"lower_bound=\",lower_bound_SibSp)\n",
    "print(\"upper_bound=\",upper_bound_SibSp)\n",
    "print(\"num of outliers=\",len(outliers_SibSp))\n"
   ]
  },
  {
   "cell_type": "code",
   "execution_count": 881,
   "id": "5f9eaff0",
   "metadata": {},
   "outputs": [
    {
     "data": {
      "text/plain": [
       "689"
      ]
     },
     "execution_count": 881,
     "metadata": {},
     "output_type": "execute_result"
    }
   ],
   "source": [
    "#Drop outliers\n",
    "data_sibsp_dropped=data_fare_dropped[(data_fare_dropped['SibSp'] >= lower_bound_SibSp) & (data_fare_dropped['SibSp'] <= upper_bound_SibSp)]\n",
    "len(data_sibsp_dropped) #718-29"
   ]
  },
  {
   "cell_type": "markdown",
   "id": "9e1f0faf",
   "metadata": {},
   "source": [
    "# parch outliers"
   ]
  },
  {
   "cell_type": "code",
   "execution_count": 884,
   "id": "20f1dbd5",
   "metadata": {},
   "outputs": [
    {
     "name": "stdout",
     "output_type": "stream",
     "text": [
      "     Survived  Pclass                                               Name  \\\n",
      "8           1       3  Johnson, Mrs. Oscar W (Elisabeth Vilhelmina Berg)   \n",
      "10          1       3                    Sandstrom, Miss. Marguerite Rut   \n",
      "13          0       3                        Andersson, Mr. Anders Johan   \n",
      "25          1       3  Asplund, Mrs. Carl Oscar (Selma Augusta Emilia...   \n",
      "43          1       2           Laroche, Miss. Simonne Marie Anne Andree   \n",
      "..        ...     ...                                                ...   \n",
      "869         1       3                    Johnson, Master. Harold Theodor   \n",
      "871         1       1   Beckwith, Mrs. Richard Leonard (Sallie Monypeny)   \n",
      "880         1       2       Shelley, Mrs. William (Imanita Parrish Hall)   \n",
      "885         0       3               Rice, Mrs. William (Margaret Norton)   \n",
      "888         0       3           Johnston, Miss. Catherine Helen \"Carrie\"   \n",
      "\n",
      "        Sex   Age  SibSp  Parch     Fare Embarked  \n",
      "8    female  27.0      0      2  11.1333        S  \n",
      "10   female   4.0      1      1  16.7000        S  \n",
      "13     male  39.0      1      5  31.2750        S  \n",
      "25   female  38.0      1      5  31.3875        S  \n",
      "43   female   3.0      1      2  41.5792        C  \n",
      "..      ...   ...    ...    ...      ...      ...  \n",
      "869    male   4.0      1      1  11.1333        S  \n",
      "871  female  47.0      1      1  52.5542        S  \n",
      "880  female  25.0      0      1  26.0000        S  \n",
      "885  female  39.0      0      5  29.1250        Q  \n",
      "888  female  28.0      1      2  23.4500        S  \n",
      "\n",
      "[112 rows x 9 columns]\n",
      "(112, 9)\n",
      "lower_bound= 0.0\n",
      "upper_bound= 0.0\n",
      "num of outliers= 112\n"
     ]
    }
   ],
   "source": [
    "# Calculate IQR\n",
    "Q1_parch= data_sibsp_dropped['Parch'].quantile(0.25)\n",
    "Q3_parch = data_sibsp_dropped['Parch'].quantile(0.75)\n",
    "IQR_parch = Q3_parch - Q1_parch\n",
    " \n",
    "# Define the lower and upper bounds for outliers\n",
    "lower_bound_Parch = Q1_parch - 1.5 * IQR_parch\n",
    "upper_bound_Parch= Q3_parch + 1.5 * IQR_parch\n",
    " \n",
    "# Filter outliers\n",
    "outliers_Parch = data_sibsp_dropped[(data_sibsp_dropped['Parch'] < lower_bound_Parch) | (data_sibsp_dropped['Parch'] > upper_bound_Parch)]\n",
    " \n",
    "print(outliers_Parch)\n",
    "print(outliers_Parch.shape)\n",
    "print(\"lower_bound=\",lower_bound_Parch)\n",
    "print(\"upper_bound=\",upper_bound_Parch)\n",
    "print(\"num of outliers=\",len(outliers_Parch))\n"
   ]
  },
  {
   "cell_type": "code",
   "execution_count": 886,
   "id": "3e174a88",
   "metadata": {},
   "outputs": [
    {
     "data": {
      "text/plain": [
       "577"
      ]
     },
     "execution_count": 886,
     "metadata": {},
     "output_type": "execute_result"
    }
   ],
   "source": [
    "#Drop outliers\n",
    "data_parch_dropped=data_sibsp_dropped[(data_sibsp_dropped['Parch'] >= lower_bound_Parch) & (data_sibsp_dropped['Parch'] <= upper_bound_Parch)]\n",
    "len(data_parch_dropped) "
   ]
  },
  {
   "cell_type": "code",
   "execution_count": 910,
   "id": "13335734",
   "metadata": {},
   "outputs": [
    {
     "name": "stdout",
     "output_type": "stream",
     "text": [
      "<class 'pandas.core.frame.DataFrame'>\n",
      "Index: 577 entries, 0 to 890\n",
      "Data columns (total 9 columns):\n",
      " #   Column    Non-Null Count  Dtype   \n",
      "---  ------    --------------  -----   \n",
      " 0   Survived  577 non-null    int64   \n",
      " 1   Pclass    577 non-null    int64   \n",
      " 2   Name      577 non-null    object  \n",
      " 3   Sex       577 non-null    category\n",
      " 4   Age       577 non-null    float64 \n",
      " 5   SibSp     577 non-null    int64   \n",
      " 6   Parch     577 non-null    int64   \n",
      " 7   Fare      577 non-null    float64 \n",
      " 8   Embarked  577 non-null    category\n",
      "dtypes: category(2), float64(2), int64(4), object(1)\n",
      "memory usage: 37.4+ KB\n"
     ]
    }
   ],
   "source": [
    "data_parch_dropped.info()"
   ]
  },
  {
   "cell_type": "markdown",
   "id": "a60cec8c",
   "metadata": {},
   "source": [
    "# handling inconsistent data"
   ]
  },
  {
   "cell_type": "code",
   "execution_count": 913,
   "id": "2c07cba0",
   "metadata": {},
   "outputs": [
    {
     "name": "stdout",
     "output_type": "stream",
     "text": [
      "[0 1]\n",
      "['S', 'Q', 'C']\n",
      "Categories (3, object): ['C', 'Q', 'S']\n",
      "['male', 'female']\n",
      "Categories (2, object): ['female', 'male']\n",
      "[3 1 2]\n"
     ]
    }
   ],
   "source": [
    "print(data_parch_dropped[\"Survived\"].unique())\n",
    "print(data_parch_dropped['Embarked'].unique())\n",
    "print(data_parch_dropped['Sex'].unique())\n",
    "print(data_parch_dropped['Pclass'].unique())"
   ]
  },
  {
   "cell_type": "code",
   "execution_count": 915,
   "id": "f241ef4e",
   "metadata": {},
   "outputs": [
    {
     "name": "stdout",
     "output_type": "stream",
     "text": [
      "Embarked\n",
      "S    433\n",
      "C     80\n",
      "Q     64\n",
      "Name: count, dtype: int64\n",
      "Sex\n",
      "male      434\n",
      "female    143\n",
      "Name: count, dtype: int64\n",
      "Pclass\n",
      "3    373\n",
      "2    121\n",
      "1     83\n",
      "Name: count, dtype: int64\n"
     ]
    }
   ],
   "source": [
    "print(data_parch_dropped['Embarked'].value_counts())\n",
    "print(data_parch_dropped['Sex'].value_counts())\n",
    "print(data_parch_dropped['Pclass'].value_counts())"
   ]
  },
  {
   "cell_type": "code",
   "execution_count": 917,
   "id": "aedf6189",
   "metadata": {},
   "outputs": [
    {
     "name": "stdout",
     "output_type": "stream",
     "text": [
      "Empty DataFrame\n",
      "Columns: [Survived, Pclass, Name, Sex, Age, SibSp, Parch, Fare, Embarked]\n",
      "Index: []\n",
      "Empty DataFrame\n",
      "Columns: [Survived, Pclass, Name, Sex, Age, SibSp, Parch, Fare, Embarked]\n",
      "Index: []\n"
     ]
    }
   ],
   "source": [
    "# Check for unexpected values\n",
    "print(data_parch_dropped[data_parch_dropped['Age'] < 0]) #empty\n",
    "print(data_parch_dropped[data_parch_dropped['Fare'] < 0])\n"
   ]
  },
  {
   "cell_type": "code",
   "execution_count": 919,
   "id": "a11a604a",
   "metadata": {},
   "outputs": [
    {
     "data": {
      "text/plain": [
       "Survived    0\n",
       "Pclass      0\n",
       "Name        0\n",
       "Sex         0\n",
       "Age         0\n",
       "SibSp       0\n",
       "Parch       0\n",
       "Fare        0\n",
       "Embarked    0\n",
       "dtype: int64"
      ]
     },
     "execution_count": 919,
     "metadata": {},
     "output_type": "execute_result"
    }
   ],
   "source": [
    "data_parch_dropped.isnull().sum()"
   ]
  },
  {
   "cell_type": "code",
   "execution_count": 935,
   "id": "f10f3fb6-82ce-4a0c-8e8d-1a46d10df3d3",
   "metadata": {},
   "outputs": [
    {
     "name": "stdout",
     "output_type": "stream",
     "text": [
      "<class 'pandas.core.frame.DataFrame'>\n",
      "RangeIndex: 577 entries, 0 to 576\n",
      "Data columns (total 9 columns):\n",
      " #   Column    Non-Null Count  Dtype   \n",
      "---  ------    --------------  -----   \n",
      " 0   Survived  577 non-null    int64   \n",
      " 1   Pclass    577 non-null    int64   \n",
      " 2   Name      577 non-null    object  \n",
      " 3   Sex       577 non-null    int64   \n",
      " 4   Age       577 non-null    float64 \n",
      " 5   SibSp     577 non-null    int64   \n",
      " 6   Parch     577 non-null    int64   \n",
      " 7   Fare      577 non-null    float64 \n",
      " 8   Embarked  577 non-null    category\n",
      "dtypes: category(1), float64(2), int64(5), object(1)\n",
      "memory usage: 36.9+ KB\n"
     ]
    }
   ],
   "source": [
    "data_parch_dropped.info()"
   ]
  },
  {
   "cell_type": "markdown",
   "id": "366c234a",
   "metadata": {},
   "source": [
    "# handling categorical variables\n",
    "\n",
    "1.**label encodeing** :each category is represented by a unique integer(label),used with **ordinal data**,\n",
    "\n",
    "\"female\" will be encoded as 0\n",
    "\"male\" will be encoded as 1\n",
    "\n",
    "2.**one hot encoding**:creates a new binary column for each category value and assigns a 1 or 0 to indicate the presence or absence of that category,with **Nominal data** ,1 represents the presence of the category, and 0 indicates absence."
   ]
  },
  {
   "cell_type": "code",
   "execution_count": 938,
   "id": "9631c475",
   "metadata": {},
   "outputs": [],
   "source": [
    "# Create a LabelEncoder instance\n",
    "label_encoder = LabelEncoder()\n",
    "data_parch_dropped.loc[:, 'Sex'] = label_encoder.fit_transform(data_parch_dropped['Sex'])\n",
    "data_parch_dropped[['Sex']].head() #0,1\n",
    "data_parch_dropped = data_parch_dropped.reset_index(drop=True)\n"
   ]
  },
  {
   "cell_type": "code",
   "execution_count": 940,
   "id": "93699e14-c08c-4187-ab14-54ba513f835b",
   "metadata": {},
   "outputs": [
    {
     "name": "stdout",
     "output_type": "stream",
     "text": [
      "<class 'pandas.core.frame.DataFrame'>\n",
      "RangeIndex: 577 entries, 0 to 576\n",
      "Data columns (total 9 columns):\n",
      " #   Column    Non-Null Count  Dtype   \n",
      "---  ------    --------------  -----   \n",
      " 0   Survived  577 non-null    int64   \n",
      " 1   Pclass    577 non-null    int64   \n",
      " 2   Name      577 non-null    object  \n",
      " 3   Sex       577 non-null    int64   \n",
      " 4   Age       577 non-null    float64 \n",
      " 5   SibSp     577 non-null    int64   \n",
      " 6   Parch     577 non-null    int64   \n",
      " 7   Fare      577 non-null    float64 \n",
      " 8   Embarked  577 non-null    category\n",
      "dtypes: category(1), float64(2), int64(5), object(1)\n",
      "memory usage: 36.9+ KB\n"
     ]
    }
   ],
   "source": [
    "data_parch_dropped.info()"
   ]
  },
  {
   "cell_type": "code",
   "execution_count": 942,
   "id": "2671c5c3-800f-41d7-a499-53e41eaf6cd2",
   "metadata": {},
   "outputs": [
    {
     "data": {
      "text/html": [
       "<div>\n",
       "<style scoped>\n",
       "    .dataframe tbody tr th:only-of-type {\n",
       "        vertical-align: middle;\n",
       "    }\n",
       "\n",
       "    .dataframe tbody tr th {\n",
       "        vertical-align: top;\n",
       "    }\n",
       "\n",
       "    .dataframe thead th {\n",
       "        text-align: right;\n",
       "    }\n",
       "</style>\n",
       "<table border=\"1\" class=\"dataframe\">\n",
       "  <thead>\n",
       "    <tr style=\"text-align: right;\">\n",
       "      <th></th>\n",
       "      <th>Pclass</th>\n",
       "    </tr>\n",
       "  </thead>\n",
       "  <tbody>\n",
       "    <tr>\n",
       "      <th>0</th>\n",
       "      <td>2</td>\n",
       "    </tr>\n",
       "    <tr>\n",
       "      <th>1</th>\n",
       "      <td>2</td>\n",
       "    </tr>\n",
       "    <tr>\n",
       "      <th>2</th>\n",
       "      <td>0</td>\n",
       "    </tr>\n",
       "    <tr>\n",
       "      <th>3</th>\n",
       "      <td>2</td>\n",
       "    </tr>\n",
       "    <tr>\n",
       "      <th>4</th>\n",
       "      <td>2</td>\n",
       "    </tr>\n",
       "  </tbody>\n",
       "</table>\n",
       "</div>"
      ],
      "text/plain": [
       "   Pclass\n",
       "0       2\n",
       "1       2\n",
       "2       0\n",
       "3       2\n",
       "4       2"
      ]
     },
     "execution_count": 942,
     "metadata": {},
     "output_type": "execute_result"
    }
   ],
   "source": [
    "data_parch_dropped.loc[:, 'Pclass'] = label_encoder.fit_transform(data_parch_dropped['Pclass'])\n",
    "data_parch_dropped[['Pclass']].head() #0,1,2\n"
   ]
  },
  {
   "cell_type": "code",
   "execution_count": 944,
   "id": "2ea494a2",
   "metadata": {},
   "outputs": [
    {
     "name": "stdout",
     "output_type": "stream",
     "text": [
      "Unique values in the encoded 'Pclass' column: [2 0 1]\n",
      "Unique values in the encoded 'Pclass' column: [1 0]\n"
     ]
    }
   ],
   "source": [
    "# Display unique values of the encoded columns\n",
    "encoded_unique_values_pclass = data_parch_dropped['Pclass'].unique()\n",
    "encoded_unique_values_sex = data_parch_dropped['Sex'].unique()\n",
    "\n",
    "print(\"Unique values in the encoded 'Pclass' column:\", encoded_unique_values_pclass)\n",
    "\n",
    "print(\"Unique values in the encoded 'Pclass' column:\", encoded_unique_values_sex)"
   ]
  },
  {
   "cell_type": "code",
   "execution_count": 946,
   "id": "9e4f4798",
   "metadata": {},
   "outputs": [],
   "source": [
    "# One-hot encoding 'Embarked'\n",
    "#creates binary columns for each category\n",
    "\n",
    "#**drop_first=True**to aavoid multicollinearity(one of the new columns can be predicted from the others)so it drops the column of first category\n",
    "data_parch_dropped = pd.get_dummies(data_parch_dropped, columns=['Embarked'],drop_first=True) "
   ]
  },
  {
   "cell_type": "code",
   "execution_count": 948,
   "id": "5fde0084",
   "metadata": {},
   "outputs": [
    {
     "data": {
      "text/html": [
       "<div>\n",
       "<style scoped>\n",
       "    .dataframe tbody tr th:only-of-type {\n",
       "        vertical-align: middle;\n",
       "    }\n",
       "\n",
       "    .dataframe tbody tr th {\n",
       "        vertical-align: top;\n",
       "    }\n",
       "\n",
       "    .dataframe thead th {\n",
       "        text-align: right;\n",
       "    }\n",
       "</style>\n",
       "<table border=\"1\" class=\"dataframe\">\n",
       "  <thead>\n",
       "    <tr style=\"text-align: right;\">\n",
       "      <th></th>\n",
       "      <th>Survived</th>\n",
       "      <th>Pclass</th>\n",
       "      <th>Name</th>\n",
       "      <th>Sex</th>\n",
       "      <th>Age</th>\n",
       "      <th>SibSp</th>\n",
       "      <th>Parch</th>\n",
       "      <th>Fare</th>\n",
       "      <th>Embarked_Q</th>\n",
       "      <th>Embarked_S</th>\n",
       "    </tr>\n",
       "  </thead>\n",
       "  <tbody>\n",
       "    <tr>\n",
       "      <th>0</th>\n",
       "      <td>0</td>\n",
       "      <td>2</td>\n",
       "      <td>Braund, Mr. Owen Harris</td>\n",
       "      <td>1</td>\n",
       "      <td>22.0</td>\n",
       "      <td>1</td>\n",
       "      <td>0</td>\n",
       "      <td>7.2500</td>\n",
       "      <td>False</td>\n",
       "      <td>True</td>\n",
       "    </tr>\n",
       "    <tr>\n",
       "      <th>1</th>\n",
       "      <td>1</td>\n",
       "      <td>2</td>\n",
       "      <td>Heikkinen, Miss. Laina</td>\n",
       "      <td>0</td>\n",
       "      <td>26.0</td>\n",
       "      <td>0</td>\n",
       "      <td>0</td>\n",
       "      <td>7.9250</td>\n",
       "      <td>False</td>\n",
       "      <td>True</td>\n",
       "    </tr>\n",
       "    <tr>\n",
       "      <th>2</th>\n",
       "      <td>1</td>\n",
       "      <td>0</td>\n",
       "      <td>Futrelle, Mrs. Jacques Heath (Lily May Peel)</td>\n",
       "      <td>0</td>\n",
       "      <td>35.0</td>\n",
       "      <td>1</td>\n",
       "      <td>0</td>\n",
       "      <td>53.1000</td>\n",
       "      <td>False</td>\n",
       "      <td>True</td>\n",
       "    </tr>\n",
       "    <tr>\n",
       "      <th>3</th>\n",
       "      <td>0</td>\n",
       "      <td>2</td>\n",
       "      <td>Allen, Mr. William Henry</td>\n",
       "      <td>1</td>\n",
       "      <td>35.0</td>\n",
       "      <td>0</td>\n",
       "      <td>0</td>\n",
       "      <td>8.0500</td>\n",
       "      <td>False</td>\n",
       "      <td>True</td>\n",
       "    </tr>\n",
       "    <tr>\n",
       "      <th>4</th>\n",
       "      <td>0</td>\n",
       "      <td>2</td>\n",
       "      <td>Moran, Mr. James</td>\n",
       "      <td>1</td>\n",
       "      <td>28.0</td>\n",
       "      <td>0</td>\n",
       "      <td>0</td>\n",
       "      <td>8.4583</td>\n",
       "      <td>True</td>\n",
       "      <td>False</td>\n",
       "    </tr>\n",
       "    <tr>\n",
       "      <th>...</th>\n",
       "      <td>...</td>\n",
       "      <td>...</td>\n",
       "      <td>...</td>\n",
       "      <td>...</td>\n",
       "      <td>...</td>\n",
       "      <td>...</td>\n",
       "      <td>...</td>\n",
       "      <td>...</td>\n",
       "      <td>...</td>\n",
       "      <td>...</td>\n",
       "    </tr>\n",
       "    <tr>\n",
       "      <th>572</th>\n",
       "      <td>0</td>\n",
       "      <td>2</td>\n",
       "      <td>Sutehall, Mr. Henry Jr</td>\n",
       "      <td>1</td>\n",
       "      <td>25.0</td>\n",
       "      <td>0</td>\n",
       "      <td>0</td>\n",
       "      <td>7.0500</td>\n",
       "      <td>False</td>\n",
       "      <td>True</td>\n",
       "    </tr>\n",
       "    <tr>\n",
       "      <th>573</th>\n",
       "      <td>0</td>\n",
       "      <td>1</td>\n",
       "      <td>Montvila, Rev. Juozas</td>\n",
       "      <td>1</td>\n",
       "      <td>27.0</td>\n",
       "      <td>0</td>\n",
       "      <td>0</td>\n",
       "      <td>13.0000</td>\n",
       "      <td>False</td>\n",
       "      <td>True</td>\n",
       "    </tr>\n",
       "    <tr>\n",
       "      <th>574</th>\n",
       "      <td>1</td>\n",
       "      <td>0</td>\n",
       "      <td>Graham, Miss. Margaret Edith</td>\n",
       "      <td>0</td>\n",
       "      <td>19.0</td>\n",
       "      <td>0</td>\n",
       "      <td>0</td>\n",
       "      <td>30.0000</td>\n",
       "      <td>False</td>\n",
       "      <td>True</td>\n",
       "    </tr>\n",
       "    <tr>\n",
       "      <th>575</th>\n",
       "      <td>1</td>\n",
       "      <td>0</td>\n",
       "      <td>Behr, Mr. Karl Howell</td>\n",
       "      <td>1</td>\n",
       "      <td>26.0</td>\n",
       "      <td>0</td>\n",
       "      <td>0</td>\n",
       "      <td>30.0000</td>\n",
       "      <td>False</td>\n",
       "      <td>False</td>\n",
       "    </tr>\n",
       "    <tr>\n",
       "      <th>576</th>\n",
       "      <td>0</td>\n",
       "      <td>2</td>\n",
       "      <td>Dooley, Mr. Patrick</td>\n",
       "      <td>1</td>\n",
       "      <td>32.0</td>\n",
       "      <td>0</td>\n",
       "      <td>0</td>\n",
       "      <td>7.7500</td>\n",
       "      <td>True</td>\n",
       "      <td>False</td>\n",
       "    </tr>\n",
       "  </tbody>\n",
       "</table>\n",
       "<p>577 rows × 10 columns</p>\n",
       "</div>"
      ],
      "text/plain": [
       "     Survived  Pclass                                          Name  Sex  \\\n",
       "0           0       2                       Braund, Mr. Owen Harris    1   \n",
       "1           1       2                        Heikkinen, Miss. Laina    0   \n",
       "2           1       0  Futrelle, Mrs. Jacques Heath (Lily May Peel)    0   \n",
       "3           0       2                      Allen, Mr. William Henry    1   \n",
       "4           0       2                              Moran, Mr. James    1   \n",
       "..        ...     ...                                           ...  ...   \n",
       "572         0       2                        Sutehall, Mr. Henry Jr    1   \n",
       "573         0       1                         Montvila, Rev. Juozas    1   \n",
       "574         1       0                  Graham, Miss. Margaret Edith    0   \n",
       "575         1       0                         Behr, Mr. Karl Howell    1   \n",
       "576         0       2                           Dooley, Mr. Patrick    1   \n",
       "\n",
       "      Age  SibSp  Parch     Fare  Embarked_Q  Embarked_S  \n",
       "0    22.0      1      0   7.2500       False        True  \n",
       "1    26.0      0      0   7.9250       False        True  \n",
       "2    35.0      1      0  53.1000       False        True  \n",
       "3    35.0      0      0   8.0500       False        True  \n",
       "4    28.0      0      0   8.4583        True       False  \n",
       "..    ...    ...    ...      ...         ...         ...  \n",
       "572  25.0      0      0   7.0500       False        True  \n",
       "573  27.0      0      0  13.0000       False        True  \n",
       "574  19.0      0      0  30.0000       False        True  \n",
       "575  26.0      0      0  30.0000       False       False  \n",
       "576  32.0      0      0   7.7500        True       False  \n",
       "\n",
       "[577 rows x 10 columns]"
      ]
     },
     "execution_count": 948,
     "metadata": {},
     "output_type": "execute_result"
    }
   ],
   "source": [
    "data_parch_dropped"
   ]
  },
  {
   "cell_type": "markdown",
   "id": "89e3067c",
   "metadata": {},
   "source": [
    "# handling Multicollinearity\n",
    "\n",
    "same relationship between multi variables(redundancy)\n",
    "where two or more predictors are highly correlated. \n",
    "one of the new columns can be predicted from the others.\n"
   ]
  },
  {
   "cell_type": "code",
   "execution_count": 951,
   "id": "3d59233a",
   "metadata": {},
   "outputs": [
    {
     "name": "stdout",
     "output_type": "stream",
     "text": [
      "Columns in DataFrame:\n",
      "Index(['Survived', 'Pclass', 'Name', 'Sex', 'Age', 'SibSp', 'Parch', 'Fare',\n",
      "       'Embarked_Q', 'Embarked_S'],\n",
      "      dtype='object')\n"
     ]
    }
   ],
   "source": [
    "print(\"Columns in DataFrame:\")\n",
    "print(data_parch_dropped.columns)\n"
   ]
  },
  {
   "cell_type": "code",
   "execution_count": 953,
   "id": "5d89b42c",
   "metadata": {},
   "outputs": [
    {
     "name": "stdout",
     "output_type": "stream",
     "text": [
      "Survived        int64\n",
      "Pclass          int64\n",
      "Name           object\n",
      "Sex             int64\n",
      "Age           float64\n",
      "SibSp           int64\n",
      "Parch           int64\n",
      "Fare          float64\n",
      "Embarked_Q       bool\n",
      "Embarked_S       bool\n",
      "dtype: object\n"
     ]
    }
   ],
   "source": [
    "print(data_parch_dropped.dtypes)\n"
   ]
  },
  {
   "cell_type": "code",
   "execution_count": 955,
   "id": "e90e10cf",
   "metadata": {},
   "outputs": [],
   "source": [
    "# Convert boolean columns to integers (0 and 1)\n",
    "data_parch_dropped[['Embarked_Q', 'Embarked_S']] = data_parch_dropped[['Embarked_Q', 'Embarked_S']].astype(int)"
   ]
  },
  {
   "cell_type": "code",
   "execution_count": 957,
   "id": "92bff634",
   "metadata": {},
   "outputs": [
    {
     "name": "stdout",
     "output_type": "stream",
     "text": [
      "Survived        int64\n",
      "Pclass          int64\n",
      "Name           object\n",
      "Sex             int64\n",
      "Age           float64\n",
      "SibSp           int64\n",
      "Parch           int64\n",
      "Fare          float64\n",
      "Embarked_Q      int32\n",
      "Embarked_S      int32\n",
      "dtype: object\n"
     ]
    }
   ],
   "source": [
    "print(data_parch_dropped.dtypes)"
   ]
  },
  {
   "cell_type": "code",
   "execution_count": 959,
   "id": "eb228049",
   "metadata": {},
   "outputs": [
    {
     "name": "stdout",
     "output_type": "stream",
     "text": [
      "\n",
      "Correlation Matrix:\n"
     ]
    },
    {
     "data": {
      "text/html": [
       "<div>\n",
       "<style scoped>\n",
       "    .dataframe tbody tr th:only-of-type {\n",
       "        vertical-align: middle;\n",
       "    }\n",
       "\n",
       "    .dataframe tbody tr th {\n",
       "        vertical-align: top;\n",
       "    }\n",
       "\n",
       "    .dataframe thead th {\n",
       "        text-align: right;\n",
       "    }\n",
       "</style>\n",
       "<table border=\"1\" class=\"dataframe\">\n",
       "  <thead>\n",
       "    <tr style=\"text-align: right;\">\n",
       "      <th></th>\n",
       "      <th>Survived</th>\n",
       "      <th>Pclass</th>\n",
       "      <th>Sex</th>\n",
       "      <th>Age</th>\n",
       "      <th>SibSp</th>\n",
       "      <th>Parch</th>\n",
       "      <th>Fare</th>\n",
       "      <th>Embarked_Q</th>\n",
       "      <th>Embarked_S</th>\n",
       "    </tr>\n",
       "  </thead>\n",
       "  <tbody>\n",
       "    <tr>\n",
       "      <th>Survived</th>\n",
       "      <td>1.000000</td>\n",
       "      <td>-0.242189</td>\n",
       "      <td>-0.526748</td>\n",
       "      <td>0.009310</td>\n",
       "      <td>0.097999</td>\n",
       "      <td>NaN</td>\n",
       "      <td>0.268890</td>\n",
       "      <td>0.118176</td>\n",
       "      <td>-0.147059</td>\n",
       "    </tr>\n",
       "    <tr>\n",
       "      <th>Pclass</th>\n",
       "      <td>-0.242189</td>\n",
       "      <td>1.000000</td>\n",
       "      <td>0.037617</td>\n",
       "      <td>-0.363467</td>\n",
       "      <td>-0.078664</td>\n",
       "      <td>NaN</td>\n",
       "      <td>-0.670942</td>\n",
       "      <td>0.224539</td>\n",
       "      <td>-0.085339</td>\n",
       "    </tr>\n",
       "    <tr>\n",
       "      <th>Sex</th>\n",
       "      <td>-0.526748</td>\n",
       "      <td>0.037617</td>\n",
       "      <td>1.000000</td>\n",
       "      <td>0.077456</td>\n",
       "      <td>-0.185057</td>\n",
       "      <td>NaN</td>\n",
       "      <td>-0.070345</td>\n",
       "      <td>-0.206292</td>\n",
       "      <td>0.169853</td>\n",
       "    </tr>\n",
       "    <tr>\n",
       "      <th>Age</th>\n",
       "      <td>0.009310</td>\n",
       "      <td>-0.363467</td>\n",
       "      <td>0.077456</td>\n",
       "      <td>1.000000</td>\n",
       "      <td>0.029707</td>\n",
       "      <td>NaN</td>\n",
       "      <td>0.265009</td>\n",
       "      <td>-0.094569</td>\n",
       "      <td>0.103431</td>\n",
       "    </tr>\n",
       "    <tr>\n",
       "      <th>SibSp</th>\n",
       "      <td>0.097999</td>\n",
       "      <td>-0.078664</td>\n",
       "      <td>-0.185057</td>\n",
       "      <td>0.029707</td>\n",
       "      <td>1.000000</td>\n",
       "      <td>NaN</td>\n",
       "      <td>0.345588</td>\n",
       "      <td>-0.009379</td>\n",
       "      <td>-0.029720</td>\n",
       "    </tr>\n",
       "    <tr>\n",
       "      <th>Parch</th>\n",
       "      <td>NaN</td>\n",
       "      <td>NaN</td>\n",
       "      <td>NaN</td>\n",
       "      <td>NaN</td>\n",
       "      <td>NaN</td>\n",
       "      <td>NaN</td>\n",
       "      <td>NaN</td>\n",
       "      <td>NaN</td>\n",
       "      <td>NaN</td>\n",
       "    </tr>\n",
       "    <tr>\n",
       "      <th>Fare</th>\n",
       "      <td>0.268890</td>\n",
       "      <td>-0.670942</td>\n",
       "      <td>-0.070345</td>\n",
       "      <td>0.265009</td>\n",
       "      <td>0.345588</td>\n",
       "      <td>NaN</td>\n",
       "      <td>1.000000</td>\n",
       "      <td>-0.142515</td>\n",
       "      <td>0.021408</td>\n",
       "    </tr>\n",
       "    <tr>\n",
       "      <th>Embarked_Q</th>\n",
       "      <td>0.118176</td>\n",
       "      <td>0.224539</td>\n",
       "      <td>-0.206292</td>\n",
       "      <td>-0.094569</td>\n",
       "      <td>-0.009379</td>\n",
       "      <td>NaN</td>\n",
       "      <td>-0.142515</td>\n",
       "      <td>1.000000</td>\n",
       "      <td>-0.612483</td>\n",
       "    </tr>\n",
       "    <tr>\n",
       "      <th>Embarked_S</th>\n",
       "      <td>-0.147059</td>\n",
       "      <td>-0.085339</td>\n",
       "      <td>0.169853</td>\n",
       "      <td>0.103431</td>\n",
       "      <td>-0.029720</td>\n",
       "      <td>NaN</td>\n",
       "      <td>0.021408</td>\n",
       "      <td>-0.612483</td>\n",
       "      <td>1.000000</td>\n",
       "    </tr>\n",
       "  </tbody>\n",
       "</table>\n",
       "</div>"
      ],
      "text/plain": [
       "            Survived    Pclass       Sex       Age     SibSp  Parch      Fare  \\\n",
       "Survived    1.000000 -0.242189 -0.526748  0.009310  0.097999    NaN  0.268890   \n",
       "Pclass     -0.242189  1.000000  0.037617 -0.363467 -0.078664    NaN -0.670942   \n",
       "Sex        -0.526748  0.037617  1.000000  0.077456 -0.185057    NaN -0.070345   \n",
       "Age         0.009310 -0.363467  0.077456  1.000000  0.029707    NaN  0.265009   \n",
       "SibSp       0.097999 -0.078664 -0.185057  0.029707  1.000000    NaN  0.345588   \n",
       "Parch            NaN       NaN       NaN       NaN       NaN    NaN       NaN   \n",
       "Fare        0.268890 -0.670942 -0.070345  0.265009  0.345588    NaN  1.000000   \n",
       "Embarked_Q  0.118176  0.224539 -0.206292 -0.094569 -0.009379    NaN -0.142515   \n",
       "Embarked_S -0.147059 -0.085339  0.169853  0.103431 -0.029720    NaN  0.021408   \n",
       "\n",
       "            Embarked_Q  Embarked_S  \n",
       "Survived      0.118176   -0.147059  \n",
       "Pclass        0.224539   -0.085339  \n",
       "Sex          -0.206292    0.169853  \n",
       "Age          -0.094569    0.103431  \n",
       "SibSp        -0.009379   -0.029720  \n",
       "Parch              NaN         NaN  \n",
       "Fare         -0.142515    0.021408  \n",
       "Embarked_Q    1.000000   -0.612483  \n",
       "Embarked_S   -0.612483    1.000000  "
      ]
     },
     "execution_count": 959,
     "metadata": {},
     "output_type": "execute_result"
    }
   ],
   "source": [
    "# Select only numeric columns for correlation\n",
    "numeric_data = data_parch_dropped.select_dtypes(include=[np.number])\n",
    "\n",
    "# Calculate the correlation matrix\n",
    "correlation_matrix = numeric_data.corr()\n",
    "\n",
    "print(\"\\nCorrelation Matrix:\")\n",
    "correlation_matrix"
   ]
  },
  {
   "cell_type": "code",
   "execution_count": 961,
   "id": "18708b61",
   "metadata": {},
   "outputs": [
    {
     "data": {
      "text/html": [
       "<div>\n",
       "<style scoped>\n",
       "    .dataframe tbody tr th:only-of-type {\n",
       "        vertical-align: middle;\n",
       "    }\n",
       "\n",
       "    .dataframe tbody tr th {\n",
       "        vertical-align: top;\n",
       "    }\n",
       "\n",
       "    .dataframe thead th {\n",
       "        text-align: right;\n",
       "    }\n",
       "</style>\n",
       "<table border=\"1\" class=\"dataframe\">\n",
       "  <thead>\n",
       "    <tr style=\"text-align: right;\">\n",
       "      <th></th>\n",
       "      <th>Survived</th>\n",
       "      <th>Pclass</th>\n",
       "      <th>Name</th>\n",
       "      <th>Sex</th>\n",
       "      <th>Age</th>\n",
       "      <th>SibSp</th>\n",
       "      <th>Parch</th>\n",
       "      <th>Fare</th>\n",
       "      <th>Embarked_S</th>\n",
       "    </tr>\n",
       "  </thead>\n",
       "  <tbody>\n",
       "    <tr>\n",
       "      <th>0</th>\n",
       "      <td>0</td>\n",
       "      <td>2</td>\n",
       "      <td>Braund, Mr. Owen Harris</td>\n",
       "      <td>1</td>\n",
       "      <td>22.0</td>\n",
       "      <td>1</td>\n",
       "      <td>0</td>\n",
       "      <td>7.2500</td>\n",
       "      <td>1</td>\n",
       "    </tr>\n",
       "    <tr>\n",
       "      <th>1</th>\n",
       "      <td>1</td>\n",
       "      <td>2</td>\n",
       "      <td>Heikkinen, Miss. Laina</td>\n",
       "      <td>0</td>\n",
       "      <td>26.0</td>\n",
       "      <td>0</td>\n",
       "      <td>0</td>\n",
       "      <td>7.9250</td>\n",
       "      <td>1</td>\n",
       "    </tr>\n",
       "    <tr>\n",
       "      <th>2</th>\n",
       "      <td>1</td>\n",
       "      <td>0</td>\n",
       "      <td>Futrelle, Mrs. Jacques Heath (Lily May Peel)</td>\n",
       "      <td>0</td>\n",
       "      <td>35.0</td>\n",
       "      <td>1</td>\n",
       "      <td>0</td>\n",
       "      <td>53.1000</td>\n",
       "      <td>1</td>\n",
       "    </tr>\n",
       "    <tr>\n",
       "      <th>3</th>\n",
       "      <td>0</td>\n",
       "      <td>2</td>\n",
       "      <td>Allen, Mr. William Henry</td>\n",
       "      <td>1</td>\n",
       "      <td>35.0</td>\n",
       "      <td>0</td>\n",
       "      <td>0</td>\n",
       "      <td>8.0500</td>\n",
       "      <td>1</td>\n",
       "    </tr>\n",
       "    <tr>\n",
       "      <th>4</th>\n",
       "      <td>0</td>\n",
       "      <td>2</td>\n",
       "      <td>Moran, Mr. James</td>\n",
       "      <td>1</td>\n",
       "      <td>28.0</td>\n",
       "      <td>0</td>\n",
       "      <td>0</td>\n",
       "      <td>8.4583</td>\n",
       "      <td>0</td>\n",
       "    </tr>\n",
       "    <tr>\n",
       "      <th>...</th>\n",
       "      <td>...</td>\n",
       "      <td>...</td>\n",
       "      <td>...</td>\n",
       "      <td>...</td>\n",
       "      <td>...</td>\n",
       "      <td>...</td>\n",
       "      <td>...</td>\n",
       "      <td>...</td>\n",
       "      <td>...</td>\n",
       "    </tr>\n",
       "    <tr>\n",
       "      <th>572</th>\n",
       "      <td>0</td>\n",
       "      <td>2</td>\n",
       "      <td>Sutehall, Mr. Henry Jr</td>\n",
       "      <td>1</td>\n",
       "      <td>25.0</td>\n",
       "      <td>0</td>\n",
       "      <td>0</td>\n",
       "      <td>7.0500</td>\n",
       "      <td>1</td>\n",
       "    </tr>\n",
       "    <tr>\n",
       "      <th>573</th>\n",
       "      <td>0</td>\n",
       "      <td>1</td>\n",
       "      <td>Montvila, Rev. Juozas</td>\n",
       "      <td>1</td>\n",
       "      <td>27.0</td>\n",
       "      <td>0</td>\n",
       "      <td>0</td>\n",
       "      <td>13.0000</td>\n",
       "      <td>1</td>\n",
       "    </tr>\n",
       "    <tr>\n",
       "      <th>574</th>\n",
       "      <td>1</td>\n",
       "      <td>0</td>\n",
       "      <td>Graham, Miss. Margaret Edith</td>\n",
       "      <td>0</td>\n",
       "      <td>19.0</td>\n",
       "      <td>0</td>\n",
       "      <td>0</td>\n",
       "      <td>30.0000</td>\n",
       "      <td>1</td>\n",
       "    </tr>\n",
       "    <tr>\n",
       "      <th>575</th>\n",
       "      <td>1</td>\n",
       "      <td>0</td>\n",
       "      <td>Behr, Mr. Karl Howell</td>\n",
       "      <td>1</td>\n",
       "      <td>26.0</td>\n",
       "      <td>0</td>\n",
       "      <td>0</td>\n",
       "      <td>30.0000</td>\n",
       "      <td>0</td>\n",
       "    </tr>\n",
       "    <tr>\n",
       "      <th>576</th>\n",
       "      <td>0</td>\n",
       "      <td>2</td>\n",
       "      <td>Dooley, Mr. Patrick</td>\n",
       "      <td>1</td>\n",
       "      <td>32.0</td>\n",
       "      <td>0</td>\n",
       "      <td>0</td>\n",
       "      <td>7.7500</td>\n",
       "      <td>0</td>\n",
       "    </tr>\n",
       "  </tbody>\n",
       "</table>\n",
       "<p>577 rows × 9 columns</p>\n",
       "</div>"
      ],
      "text/plain": [
       "     Survived  Pclass                                          Name  Sex  \\\n",
       "0           0       2                       Braund, Mr. Owen Harris    1   \n",
       "1           1       2                        Heikkinen, Miss. Laina    0   \n",
       "2           1       0  Futrelle, Mrs. Jacques Heath (Lily May Peel)    0   \n",
       "3           0       2                      Allen, Mr. William Henry    1   \n",
       "4           0       2                              Moran, Mr. James    1   \n",
       "..        ...     ...                                           ...  ...   \n",
       "572         0       2                        Sutehall, Mr. Henry Jr    1   \n",
       "573         0       1                         Montvila, Rev. Juozas    1   \n",
       "574         1       0                  Graham, Miss. Margaret Edith    0   \n",
       "575         1       0                         Behr, Mr. Karl Howell    1   \n",
       "576         0       2                           Dooley, Mr. Patrick    1   \n",
       "\n",
       "      Age  SibSp  Parch     Fare  Embarked_S  \n",
       "0    22.0      1      0   7.2500           1  \n",
       "1    26.0      0      0   7.9250           1  \n",
       "2    35.0      1      0  53.1000           1  \n",
       "3    35.0      0      0   8.0500           1  \n",
       "4    28.0      0      0   8.4583           0  \n",
       "..    ...    ...    ...      ...         ...  \n",
       "572  25.0      0      0   7.0500           1  \n",
       "573  27.0      0      0  13.0000           1  \n",
       "574  19.0      0      0  30.0000           1  \n",
       "575  26.0      0      0  30.0000           0  \n",
       "576  32.0      0      0   7.7500           0  \n",
       "\n",
       "[577 rows x 9 columns]"
      ]
     },
     "execution_count": 961,
     "metadata": {},
     "output_type": "execute_result"
    }
   ],
   "source": [
    "# Drop the selected columns\n",
    "data_cleaned = data_parch_dropped.drop(columns=['Embarked_Q'],axis=1)  # Drop one of the Embarked columns\n",
    "data_cleaned"
   ]
  },
  {
   "cell_type": "code",
   "execution_count": 963,
   "id": "91e122fc-a145-40f4-a4a2-8fe9d934fb20",
   "metadata": {},
   "outputs": [],
   "source": [
    "#pclass&fare :Strong negative correlation, indicating that passengers in higher classes paid more on average so can drop one of them\n",
    "#data_cleaned = data_parch_dropped.drop(columns=['fare']) \n"
   ]
  },
  {
   "cell_type": "code",
   "execution_count": 965,
   "id": "3fc83ef2",
   "metadata": {},
   "outputs": [],
   "source": [
    "data_cleaned = data_cleaned.drop(columns=['Name'],axis=1)\n",
    "#Removing irrelevant or non-numeric columns, like Name, reduces noise and helps improve model efficiency.\n",
    "#since names typically do not provide useful numerical information for the prediction task"
   ]
  },
  {
   "cell_type": "code",
   "execution_count": 967,
   "id": "f361ab83",
   "metadata": {},
   "outputs": [
    {
     "data": {
      "text/html": [
       "<div>\n",
       "<style scoped>\n",
       "    .dataframe tbody tr th:only-of-type {\n",
       "        vertical-align: middle;\n",
       "    }\n",
       "\n",
       "    .dataframe tbody tr th {\n",
       "        vertical-align: top;\n",
       "    }\n",
       "\n",
       "    .dataframe thead th {\n",
       "        text-align: right;\n",
       "    }\n",
       "</style>\n",
       "<table border=\"1\" class=\"dataframe\">\n",
       "  <thead>\n",
       "    <tr style=\"text-align: right;\">\n",
       "      <th></th>\n",
       "      <th>Survived</th>\n",
       "      <th>Pclass</th>\n",
       "      <th>Sex</th>\n",
       "      <th>Age</th>\n",
       "      <th>SibSp</th>\n",
       "      <th>Parch</th>\n",
       "      <th>Fare</th>\n",
       "      <th>Embarked_S</th>\n",
       "    </tr>\n",
       "  </thead>\n",
       "  <tbody>\n",
       "    <tr>\n",
       "      <th>0</th>\n",
       "      <td>0</td>\n",
       "      <td>2</td>\n",
       "      <td>1</td>\n",
       "      <td>22.0</td>\n",
       "      <td>1</td>\n",
       "      <td>0</td>\n",
       "      <td>7.2500</td>\n",
       "      <td>1</td>\n",
       "    </tr>\n",
       "    <tr>\n",
       "      <th>1</th>\n",
       "      <td>1</td>\n",
       "      <td>2</td>\n",
       "      <td>0</td>\n",
       "      <td>26.0</td>\n",
       "      <td>0</td>\n",
       "      <td>0</td>\n",
       "      <td>7.9250</td>\n",
       "      <td>1</td>\n",
       "    </tr>\n",
       "    <tr>\n",
       "      <th>2</th>\n",
       "      <td>1</td>\n",
       "      <td>0</td>\n",
       "      <td>0</td>\n",
       "      <td>35.0</td>\n",
       "      <td>1</td>\n",
       "      <td>0</td>\n",
       "      <td>53.1000</td>\n",
       "      <td>1</td>\n",
       "    </tr>\n",
       "    <tr>\n",
       "      <th>3</th>\n",
       "      <td>0</td>\n",
       "      <td>2</td>\n",
       "      <td>1</td>\n",
       "      <td>35.0</td>\n",
       "      <td>0</td>\n",
       "      <td>0</td>\n",
       "      <td>8.0500</td>\n",
       "      <td>1</td>\n",
       "    </tr>\n",
       "    <tr>\n",
       "      <th>4</th>\n",
       "      <td>0</td>\n",
       "      <td>2</td>\n",
       "      <td>1</td>\n",
       "      <td>28.0</td>\n",
       "      <td>0</td>\n",
       "      <td>0</td>\n",
       "      <td>8.4583</td>\n",
       "      <td>0</td>\n",
       "    </tr>\n",
       "    <tr>\n",
       "      <th>...</th>\n",
       "      <td>...</td>\n",
       "      <td>...</td>\n",
       "      <td>...</td>\n",
       "      <td>...</td>\n",
       "      <td>...</td>\n",
       "      <td>...</td>\n",
       "      <td>...</td>\n",
       "      <td>...</td>\n",
       "    </tr>\n",
       "    <tr>\n",
       "      <th>572</th>\n",
       "      <td>0</td>\n",
       "      <td>2</td>\n",
       "      <td>1</td>\n",
       "      <td>25.0</td>\n",
       "      <td>0</td>\n",
       "      <td>0</td>\n",
       "      <td>7.0500</td>\n",
       "      <td>1</td>\n",
       "    </tr>\n",
       "    <tr>\n",
       "      <th>573</th>\n",
       "      <td>0</td>\n",
       "      <td>1</td>\n",
       "      <td>1</td>\n",
       "      <td>27.0</td>\n",
       "      <td>0</td>\n",
       "      <td>0</td>\n",
       "      <td>13.0000</td>\n",
       "      <td>1</td>\n",
       "    </tr>\n",
       "    <tr>\n",
       "      <th>574</th>\n",
       "      <td>1</td>\n",
       "      <td>0</td>\n",
       "      <td>0</td>\n",
       "      <td>19.0</td>\n",
       "      <td>0</td>\n",
       "      <td>0</td>\n",
       "      <td>30.0000</td>\n",
       "      <td>1</td>\n",
       "    </tr>\n",
       "    <tr>\n",
       "      <th>575</th>\n",
       "      <td>1</td>\n",
       "      <td>0</td>\n",
       "      <td>1</td>\n",
       "      <td>26.0</td>\n",
       "      <td>0</td>\n",
       "      <td>0</td>\n",
       "      <td>30.0000</td>\n",
       "      <td>0</td>\n",
       "    </tr>\n",
       "    <tr>\n",
       "      <th>576</th>\n",
       "      <td>0</td>\n",
       "      <td>2</td>\n",
       "      <td>1</td>\n",
       "      <td>32.0</td>\n",
       "      <td>0</td>\n",
       "      <td>0</td>\n",
       "      <td>7.7500</td>\n",
       "      <td>0</td>\n",
       "    </tr>\n",
       "  </tbody>\n",
       "</table>\n",
       "<p>577 rows × 8 columns</p>\n",
       "</div>"
      ],
      "text/plain": [
       "     Survived  Pclass  Sex   Age  SibSp  Parch     Fare  Embarked_S\n",
       "0           0       2    1  22.0      1      0   7.2500           1\n",
       "1           1       2    0  26.0      0      0   7.9250           1\n",
       "2           1       0    0  35.0      1      0  53.1000           1\n",
       "3           0       2    1  35.0      0      0   8.0500           1\n",
       "4           0       2    1  28.0      0      0   8.4583           0\n",
       "..        ...     ...  ...   ...    ...    ...      ...         ...\n",
       "572         0       2    1  25.0      0      0   7.0500           1\n",
       "573         0       1    1  27.0      0      0  13.0000           1\n",
       "574         1       0    0  19.0      0      0  30.0000           1\n",
       "575         1       0    1  26.0      0      0  30.0000           0\n",
       "576         0       2    1  32.0      0      0   7.7500           0\n",
       "\n",
       "[577 rows x 8 columns]"
      ]
     },
     "execution_count": 967,
     "metadata": {},
     "output_type": "execute_result"
    }
   ],
   "source": [
    "data_cleaned"
   ]
  },
  {
   "cell_type": "code",
   "execution_count": 969,
   "id": "ea429608",
   "metadata": {},
   "outputs": [
    {
     "name": "stdout",
     "output_type": "stream",
     "text": [
      "<class 'pandas.core.frame.DataFrame'>\n",
      "RangeIndex: 577 entries, 0 to 576\n",
      "Data columns (total 8 columns):\n",
      " #   Column      Non-Null Count  Dtype  \n",
      "---  ------      --------------  -----  \n",
      " 0   Survived    577 non-null    int64  \n",
      " 1   Pclass      577 non-null    int64  \n",
      " 2   Sex         577 non-null    int64  \n",
      " 3   Age         577 non-null    float64\n",
      " 4   SibSp       577 non-null    int64  \n",
      " 5   Parch       577 non-null    int64  \n",
      " 6   Fare        577 non-null    float64\n",
      " 7   Embarked_S  577 non-null    int32  \n",
      "dtypes: float64(2), int32(1), int64(5)\n",
      "memory usage: 33.9 KB\n"
     ]
    }
   ],
   "source": [
    "data_cleaned.info()"
   ]
  },
  {
   "cell_type": "code",
   "execution_count": 971,
   "id": "472f9e4e",
   "metadata": {},
   "outputs": [
    {
     "name": "stdout",
     "output_type": "stream",
     "text": [
      "[0]\n"
     ]
    }
   ],
   "source": [
    "#it has limited unique values or if analysis shows it does not significantly impact the model's performance.no parents or children \n",
    "print(data_cleaned['Parch'].unique())\n",
    "data_cleaned = data_cleaned.drop(columns=['Parch'])\n"
   ]
  },
  {
   "cell_type": "code",
   "execution_count": 973,
   "id": "0c6927a4",
   "metadata": {},
   "outputs": [
    {
     "data": {
      "text/html": [
       "<div>\n",
       "<style scoped>\n",
       "    .dataframe tbody tr th:only-of-type {\n",
       "        vertical-align: middle;\n",
       "    }\n",
       "\n",
       "    .dataframe tbody tr th {\n",
       "        vertical-align: top;\n",
       "    }\n",
       "\n",
       "    .dataframe thead th {\n",
       "        text-align: right;\n",
       "    }\n",
       "</style>\n",
       "<table border=\"1\" class=\"dataframe\">\n",
       "  <thead>\n",
       "    <tr style=\"text-align: right;\">\n",
       "      <th></th>\n",
       "      <th>Survived</th>\n",
       "      <th>Pclass</th>\n",
       "      <th>Sex</th>\n",
       "      <th>Age</th>\n",
       "      <th>SibSp</th>\n",
       "      <th>Fare</th>\n",
       "      <th>Embarked_S</th>\n",
       "    </tr>\n",
       "  </thead>\n",
       "  <tbody>\n",
       "    <tr>\n",
       "      <th>0</th>\n",
       "      <td>0</td>\n",
       "      <td>2</td>\n",
       "      <td>1</td>\n",
       "      <td>22.0</td>\n",
       "      <td>1</td>\n",
       "      <td>7.2500</td>\n",
       "      <td>1</td>\n",
       "    </tr>\n",
       "    <tr>\n",
       "      <th>1</th>\n",
       "      <td>1</td>\n",
       "      <td>2</td>\n",
       "      <td>0</td>\n",
       "      <td>26.0</td>\n",
       "      <td>0</td>\n",
       "      <td>7.9250</td>\n",
       "      <td>1</td>\n",
       "    </tr>\n",
       "    <tr>\n",
       "      <th>2</th>\n",
       "      <td>1</td>\n",
       "      <td>0</td>\n",
       "      <td>0</td>\n",
       "      <td>35.0</td>\n",
       "      <td>1</td>\n",
       "      <td>53.1000</td>\n",
       "      <td>1</td>\n",
       "    </tr>\n",
       "    <tr>\n",
       "      <th>3</th>\n",
       "      <td>0</td>\n",
       "      <td>2</td>\n",
       "      <td>1</td>\n",
       "      <td>35.0</td>\n",
       "      <td>0</td>\n",
       "      <td>8.0500</td>\n",
       "      <td>1</td>\n",
       "    </tr>\n",
       "    <tr>\n",
       "      <th>4</th>\n",
       "      <td>0</td>\n",
       "      <td>2</td>\n",
       "      <td>1</td>\n",
       "      <td>28.0</td>\n",
       "      <td>0</td>\n",
       "      <td>8.4583</td>\n",
       "      <td>0</td>\n",
       "    </tr>\n",
       "    <tr>\n",
       "      <th>...</th>\n",
       "      <td>...</td>\n",
       "      <td>...</td>\n",
       "      <td>...</td>\n",
       "      <td>...</td>\n",
       "      <td>...</td>\n",
       "      <td>...</td>\n",
       "      <td>...</td>\n",
       "    </tr>\n",
       "    <tr>\n",
       "      <th>572</th>\n",
       "      <td>0</td>\n",
       "      <td>2</td>\n",
       "      <td>1</td>\n",
       "      <td>25.0</td>\n",
       "      <td>0</td>\n",
       "      <td>7.0500</td>\n",
       "      <td>1</td>\n",
       "    </tr>\n",
       "    <tr>\n",
       "      <th>573</th>\n",
       "      <td>0</td>\n",
       "      <td>1</td>\n",
       "      <td>1</td>\n",
       "      <td>27.0</td>\n",
       "      <td>0</td>\n",
       "      <td>13.0000</td>\n",
       "      <td>1</td>\n",
       "    </tr>\n",
       "    <tr>\n",
       "      <th>574</th>\n",
       "      <td>1</td>\n",
       "      <td>0</td>\n",
       "      <td>0</td>\n",
       "      <td>19.0</td>\n",
       "      <td>0</td>\n",
       "      <td>30.0000</td>\n",
       "      <td>1</td>\n",
       "    </tr>\n",
       "    <tr>\n",
       "      <th>575</th>\n",
       "      <td>1</td>\n",
       "      <td>0</td>\n",
       "      <td>1</td>\n",
       "      <td>26.0</td>\n",
       "      <td>0</td>\n",
       "      <td>30.0000</td>\n",
       "      <td>0</td>\n",
       "    </tr>\n",
       "    <tr>\n",
       "      <th>576</th>\n",
       "      <td>0</td>\n",
       "      <td>2</td>\n",
       "      <td>1</td>\n",
       "      <td>32.0</td>\n",
       "      <td>0</td>\n",
       "      <td>7.7500</td>\n",
       "      <td>0</td>\n",
       "    </tr>\n",
       "  </tbody>\n",
       "</table>\n",
       "<p>577 rows × 7 columns</p>\n",
       "</div>"
      ],
      "text/plain": [
       "     Survived  Pclass  Sex   Age  SibSp     Fare  Embarked_S\n",
       "0           0       2    1  22.0      1   7.2500           1\n",
       "1           1       2    0  26.0      0   7.9250           1\n",
       "2           1       0    0  35.0      1  53.1000           1\n",
       "3           0       2    1  35.0      0   8.0500           1\n",
       "4           0       2    1  28.0      0   8.4583           0\n",
       "..        ...     ...  ...   ...    ...      ...         ...\n",
       "572         0       2    1  25.0      0   7.0500           1\n",
       "573         0       1    1  27.0      0  13.0000           1\n",
       "574         1       0    0  19.0      0  30.0000           1\n",
       "575         1       0    1  26.0      0  30.0000           0\n",
       "576         0       2    1  32.0      0   7.7500           0\n",
       "\n",
       "[577 rows x 7 columns]"
      ]
     },
     "execution_count": 973,
     "metadata": {},
     "output_type": "execute_result"
    }
   ],
   "source": [
    "data_cleaned"
   ]
  },
  {
   "cell_type": "markdown",
   "id": "99ee6e2d",
   "metadata": {},
   "source": [
    "# Data Bining\n",
    "is a technique in data preprocessing where continuous variables are converted into discrete bins or intervals.\n",
    "\n",
    "Binning is often used to reduce noise in the data, make models more robust"
   ]
  },
  {
   "cell_type": "code",
   "execution_count": 976,
   "id": "9f8c0ee4",
   "metadata": {},
   "outputs": [
    {
     "name": "stdout",
     "output_type": "stream",
     "text": [
      "[22.  26.  35.  28.  54.  14.  20.  31.  34.  15.  40.  42.  21.  18.\n",
      " 27.  19.  29.  28.5 32.  25.  30.  17.  24.  46.  33.  37.  38.  47.\n",
      " 14.5 32.5 12.  45.  23.  16.  51.  50.  36.  44.  45.5 20.5 23.5 39.\n",
      " 52.  48.  40.5 53.  49.  43.  24.5 11.  41.  30.5  5.  13.  34.5]\n",
      "54.0\n"
     ]
    }
   ],
   "source": [
    "print(data_cleaned[\"Age\"].unique())\n",
    "print(data_cleaned[\"Age\"].max())"
   ]
  },
  {
   "cell_type": "raw",
   "id": "4ae3298f-664b-4a09-a5c1-127c5c0022f6",
   "metadata": {},
   "source": [
    "Child: 0 to 12\n",
    "Teenager:  13 to 18\n",
    "Young Adult:  19 to 35\n",
    "Adult: 36 to 54"
   ]
  },
  {
   "cell_type": "code",
   "execution_count": 978,
   "id": "921d3547-3db3-4c3e-a28e-1240e41ce3d8",
   "metadata": {},
   "outputs": [
    {
     "data": {
      "text/plain": [
       "0      22.0\n",
       "1      26.0\n",
       "2      35.0\n",
       "3      35.0\n",
       "4      28.0\n",
       "       ... \n",
       "572    25.0\n",
       "573    27.0\n",
       "574    19.0\n",
       "575    26.0\n",
       "576    32.0\n",
       "Name: Age, Length: 577, dtype: float64"
      ]
     },
     "execution_count": 978,
     "metadata": {},
     "output_type": "execute_result"
    }
   ],
   "source": [
    "data_cleaned[\"Age\"]"
   ]
  },
  {
   "cell_type": "code",
   "execution_count": 980,
   "id": "2ef13912",
   "metadata": {},
   "outputs": [
    {
     "name": "stdout",
     "output_type": "stream",
     "text": [
      "0    Young Adult\n",
      "1    Young Adult\n",
      "2    Young Adult\n",
      "3    Young Adult\n",
      "4    Young Adult\n",
      "Name: Age_Group, dtype: category\n",
      "Categories (4, object): ['Child' < 'Teenager' < 'Young Adult' < 'Adult']\n"
     ]
    }
   ],
   "source": [
    "# Binning Age into categories\n",
    "# cut() converts continous variables into discrete or categorical\n",
    "data_cleaned['Age_Group'] = pd.cut(data_cleaned['Age'], bins=[0, 12, 18, 35, 54], labels=['Child', 'Teenager', 'Young Adult', 'Adult'])\n",
    "print(data_cleaned['Age_Group'].head())"
   ]
  },
  {
   "cell_type": "code",
   "execution_count": 986,
   "id": "6166e7bf",
   "metadata": {},
   "outputs": [
    {
     "data": {
      "text/html": [
       "<div>\n",
       "<style scoped>\n",
       "    .dataframe tbody tr th:only-of-type {\n",
       "        vertical-align: middle;\n",
       "    }\n",
       "\n",
       "    .dataframe tbody tr th {\n",
       "        vertical-align: top;\n",
       "    }\n",
       "\n",
       "    .dataframe thead th {\n",
       "        text-align: right;\n",
       "    }\n",
       "</style>\n",
       "<table border=\"1\" class=\"dataframe\">\n",
       "  <thead>\n",
       "    <tr style=\"text-align: right;\">\n",
       "      <th></th>\n",
       "      <th>Survived</th>\n",
       "      <th>Pclass</th>\n",
       "      <th>Sex</th>\n",
       "      <th>Age</th>\n",
       "      <th>SibSp</th>\n",
       "      <th>Fare</th>\n",
       "      <th>Embarked_S</th>\n",
       "      <th>Age_Group</th>\n",
       "    </tr>\n",
       "  </thead>\n",
       "  <tbody>\n",
       "    <tr>\n",
       "      <th>0</th>\n",
       "      <td>0</td>\n",
       "      <td>2</td>\n",
       "      <td>1</td>\n",
       "      <td>22.0</td>\n",
       "      <td>1</td>\n",
       "      <td>7.2500</td>\n",
       "      <td>1</td>\n",
       "      <td>Young Adult</td>\n",
       "    </tr>\n",
       "    <tr>\n",
       "      <th>1</th>\n",
       "      <td>1</td>\n",
       "      <td>2</td>\n",
       "      <td>0</td>\n",
       "      <td>26.0</td>\n",
       "      <td>0</td>\n",
       "      <td>7.9250</td>\n",
       "      <td>1</td>\n",
       "      <td>Young Adult</td>\n",
       "    </tr>\n",
       "    <tr>\n",
       "      <th>2</th>\n",
       "      <td>1</td>\n",
       "      <td>0</td>\n",
       "      <td>0</td>\n",
       "      <td>35.0</td>\n",
       "      <td>1</td>\n",
       "      <td>53.1000</td>\n",
       "      <td>1</td>\n",
       "      <td>Young Adult</td>\n",
       "    </tr>\n",
       "    <tr>\n",
       "      <th>3</th>\n",
       "      <td>0</td>\n",
       "      <td>2</td>\n",
       "      <td>1</td>\n",
       "      <td>35.0</td>\n",
       "      <td>0</td>\n",
       "      <td>8.0500</td>\n",
       "      <td>1</td>\n",
       "      <td>Young Adult</td>\n",
       "    </tr>\n",
       "    <tr>\n",
       "      <th>4</th>\n",
       "      <td>0</td>\n",
       "      <td>2</td>\n",
       "      <td>1</td>\n",
       "      <td>28.0</td>\n",
       "      <td>0</td>\n",
       "      <td>8.4583</td>\n",
       "      <td>0</td>\n",
       "      <td>Young Adult</td>\n",
       "    </tr>\n",
       "    <tr>\n",
       "      <th>...</th>\n",
       "      <td>...</td>\n",
       "      <td>...</td>\n",
       "      <td>...</td>\n",
       "      <td>...</td>\n",
       "      <td>...</td>\n",
       "      <td>...</td>\n",
       "      <td>...</td>\n",
       "      <td>...</td>\n",
       "    </tr>\n",
       "    <tr>\n",
       "      <th>572</th>\n",
       "      <td>0</td>\n",
       "      <td>2</td>\n",
       "      <td>1</td>\n",
       "      <td>25.0</td>\n",
       "      <td>0</td>\n",
       "      <td>7.0500</td>\n",
       "      <td>1</td>\n",
       "      <td>Young Adult</td>\n",
       "    </tr>\n",
       "    <tr>\n",
       "      <th>573</th>\n",
       "      <td>0</td>\n",
       "      <td>1</td>\n",
       "      <td>1</td>\n",
       "      <td>27.0</td>\n",
       "      <td>0</td>\n",
       "      <td>13.0000</td>\n",
       "      <td>1</td>\n",
       "      <td>Young Adult</td>\n",
       "    </tr>\n",
       "    <tr>\n",
       "      <th>574</th>\n",
       "      <td>1</td>\n",
       "      <td>0</td>\n",
       "      <td>0</td>\n",
       "      <td>19.0</td>\n",
       "      <td>0</td>\n",
       "      <td>30.0000</td>\n",
       "      <td>1</td>\n",
       "      <td>Young Adult</td>\n",
       "    </tr>\n",
       "    <tr>\n",
       "      <th>575</th>\n",
       "      <td>1</td>\n",
       "      <td>0</td>\n",
       "      <td>1</td>\n",
       "      <td>26.0</td>\n",
       "      <td>0</td>\n",
       "      <td>30.0000</td>\n",
       "      <td>0</td>\n",
       "      <td>Young Adult</td>\n",
       "    </tr>\n",
       "    <tr>\n",
       "      <th>576</th>\n",
       "      <td>0</td>\n",
       "      <td>2</td>\n",
       "      <td>1</td>\n",
       "      <td>32.0</td>\n",
       "      <td>0</td>\n",
       "      <td>7.7500</td>\n",
       "      <td>0</td>\n",
       "      <td>Young Adult</td>\n",
       "    </tr>\n",
       "  </tbody>\n",
       "</table>\n",
       "<p>577 rows × 8 columns</p>\n",
       "</div>"
      ],
      "text/plain": [
       "     Survived  Pclass  Sex   Age  SibSp     Fare  Embarked_S    Age_Group\n",
       "0           0       2    1  22.0      1   7.2500           1  Young Adult\n",
       "1           1       2    0  26.0      0   7.9250           1  Young Adult\n",
       "2           1       0    0  35.0      1  53.1000           1  Young Adult\n",
       "3           0       2    1  35.0      0   8.0500           1  Young Adult\n",
       "4           0       2    1  28.0      0   8.4583           0  Young Adult\n",
       "..        ...     ...  ...   ...    ...      ...         ...          ...\n",
       "572         0       2    1  25.0      0   7.0500           1  Young Adult\n",
       "573         0       1    1  27.0      0  13.0000           1  Young Adult\n",
       "574         1       0    0  19.0      0  30.0000           1  Young Adult\n",
       "575         1       0    1  26.0      0  30.0000           0  Young Adult\n",
       "576         0       2    1  32.0      0   7.7500           0  Young Adult\n",
       "\n",
       "[577 rows x 8 columns]"
      ]
     },
     "execution_count": 986,
     "metadata": {},
     "output_type": "execute_result"
    }
   ],
   "source": [
    "data_cleaned"
   ]
  },
  {
   "cell_type": "code",
   "execution_count": 992,
   "id": "7aab6ab3-2d25-424e-930b-c8c828711c3c",
   "metadata": {},
   "outputs": [
    {
     "name": "stdout",
     "output_type": "stream",
     "text": [
      "Age_Group\n",
      "Young Adult    423\n",
      "Adult          109\n",
      "Teenager        42\n",
      "Child            3\n",
      "Name: count, dtype: int64\n"
     ]
    }
   ],
   "source": [
    "print(data_cleaned['Age_Group'].value_counts()) "
   ]
  },
  {
   "cell_type": "code",
   "execution_count": 996,
   "id": "16e83e01-58e3-4311-8d4d-08c3a86ec5b5",
   "metadata": {},
   "outputs": [],
   "source": [
    "adult_passengers = data_cleaned[data_cleaned['Age_Group'] == 'Adult']"
   ]
  },
  {
   "cell_type": "code",
   "execution_count": 998,
   "id": "fb4f663b-8cc1-4d8d-8d5b-eec70cc7fe57",
   "metadata": {},
   "outputs": [
    {
     "data": {
      "text/html": [
       "<div>\n",
       "<style scoped>\n",
       "    .dataframe tbody tr th:only-of-type {\n",
       "        vertical-align: middle;\n",
       "    }\n",
       "\n",
       "    .dataframe tbody tr th {\n",
       "        vertical-align: top;\n",
       "    }\n",
       "\n",
       "    .dataframe thead th {\n",
       "        text-align: right;\n",
       "    }\n",
       "</style>\n",
       "<table border=\"1\" class=\"dataframe\">\n",
       "  <thead>\n",
       "    <tr style=\"text-align: right;\">\n",
       "      <th></th>\n",
       "      <th>Survived</th>\n",
       "      <th>Pclass</th>\n",
       "      <th>Sex</th>\n",
       "      <th>Age</th>\n",
       "      <th>SibSp</th>\n",
       "      <th>Fare</th>\n",
       "      <th>Embarked_S</th>\n",
       "      <th>Age_Group</th>\n",
       "    </tr>\n",
       "  </thead>\n",
       "  <tbody>\n",
       "    <tr>\n",
       "      <th>5</th>\n",
       "      <td>0</td>\n",
       "      <td>0</td>\n",
       "      <td>1</td>\n",
       "      <td>54.0</td>\n",
       "      <td>0</td>\n",
       "      <td>51.8625</td>\n",
       "      <td>1</td>\n",
       "      <td>Adult</td>\n",
       "    </tr>\n",
       "    <tr>\n",
       "      <th>19</th>\n",
       "      <td>0</td>\n",
       "      <td>0</td>\n",
       "      <td>1</td>\n",
       "      <td>40.0</td>\n",
       "      <td>0</td>\n",
       "      <td>27.7208</td>\n",
       "      <td>0</td>\n",
       "      <td>Adult</td>\n",
       "    </tr>\n",
       "    <tr>\n",
       "      <th>21</th>\n",
       "      <td>0</td>\n",
       "      <td>0</td>\n",
       "      <td>1</td>\n",
       "      <td>42.0</td>\n",
       "      <td>1</td>\n",
       "      <td>52.0000</td>\n",
       "      <td>1</td>\n",
       "      <td>Adult</td>\n",
       "    </tr>\n",
       "    <tr>\n",
       "      <th>26</th>\n",
       "      <td>0</td>\n",
       "      <td>2</td>\n",
       "      <td>0</td>\n",
       "      <td>40.0</td>\n",
       "      <td>1</td>\n",
       "      <td>9.4750</td>\n",
       "      <td>1</td>\n",
       "      <td>Adult</td>\n",
       "    </tr>\n",
       "    <tr>\n",
       "      <th>61</th>\n",
       "      <td>0</td>\n",
       "      <td>0</td>\n",
       "      <td>1</td>\n",
       "      <td>46.0</td>\n",
       "      <td>1</td>\n",
       "      <td>61.1750</td>\n",
       "      <td>1</td>\n",
       "      <td>Adult</td>\n",
       "    </tr>\n",
       "    <tr>\n",
       "      <th>...</th>\n",
       "      <td>...</td>\n",
       "      <td>...</td>\n",
       "      <td>...</td>\n",
       "      <td>...</td>\n",
       "      <td>...</td>\n",
       "      <td>...</td>\n",
       "      <td>...</td>\n",
       "      <td>...</td>\n",
       "    </tr>\n",
       "    <tr>\n",
       "      <th>551</th>\n",
       "      <td>1</td>\n",
       "      <td>0</td>\n",
       "      <td>1</td>\n",
       "      <td>51.0</td>\n",
       "      <td>0</td>\n",
       "      <td>26.5500</td>\n",
       "      <td>1</td>\n",
       "      <td>Adult</td>\n",
       "    </tr>\n",
       "    <tr>\n",
       "      <th>553</th>\n",
       "      <td>0</td>\n",
       "      <td>2</td>\n",
       "      <td>1</td>\n",
       "      <td>41.0</td>\n",
       "      <td>2</td>\n",
       "      <td>14.1083</td>\n",
       "      <td>1</td>\n",
       "      <td>Adult</td>\n",
       "    </tr>\n",
       "    <tr>\n",
       "      <th>555</th>\n",
       "      <td>1</td>\n",
       "      <td>0</td>\n",
       "      <td>0</td>\n",
       "      <td>48.0</td>\n",
       "      <td>0</td>\n",
       "      <td>25.9292</td>\n",
       "      <td>1</td>\n",
       "      <td>Adult</td>\n",
       "    </tr>\n",
       "    <tr>\n",
       "      <th>557</th>\n",
       "      <td>1</td>\n",
       "      <td>1</td>\n",
       "      <td>0</td>\n",
       "      <td>42.0</td>\n",
       "      <td>0</td>\n",
       "      <td>13.0000</td>\n",
       "      <td>1</td>\n",
       "      <td>Adult</td>\n",
       "    </tr>\n",
       "    <tr>\n",
       "      <th>563</th>\n",
       "      <td>0</td>\n",
       "      <td>2</td>\n",
       "      <td>1</td>\n",
       "      <td>47.0</td>\n",
       "      <td>0</td>\n",
       "      <td>9.0000</td>\n",
       "      <td>1</td>\n",
       "      <td>Adult</td>\n",
       "    </tr>\n",
       "  </tbody>\n",
       "</table>\n",
       "<p>109 rows × 8 columns</p>\n",
       "</div>"
      ],
      "text/plain": [
       "     Survived  Pclass  Sex   Age  SibSp     Fare  Embarked_S Age_Group\n",
       "5           0       0    1  54.0      0  51.8625           1     Adult\n",
       "19          0       0    1  40.0      0  27.7208           0     Adult\n",
       "21          0       0    1  42.0      1  52.0000           1     Adult\n",
       "26          0       2    0  40.0      1   9.4750           1     Adult\n",
       "61          0       0    1  46.0      1  61.1750           1     Adult\n",
       "..        ...     ...  ...   ...    ...      ...         ...       ...\n",
       "551         1       0    1  51.0      0  26.5500           1     Adult\n",
       "553         0       2    1  41.0      2  14.1083           1     Adult\n",
       "555         1       0    0  48.0      0  25.9292           1     Adult\n",
       "557         1       1    0  42.0      0  13.0000           1     Adult\n",
       "563         0       2    1  47.0      0   9.0000           1     Adult\n",
       "\n",
       "[109 rows x 8 columns]"
      ]
     },
     "execution_count": 998,
     "metadata": {},
     "output_type": "execute_result"
    }
   ],
   "source": [
    "adult_passengers"
   ]
  },
  {
   "cell_type": "code",
   "execution_count": 137,
   "id": "47146cc9-f4f0-4cff-bbe6-46029993e38a",
   "metadata": {},
   "outputs": [],
   "source": [
    "child_passengers = without_name[without_name['Age_Group'] == 'Child']"
   ]
  },
  {
   "cell_type": "code",
   "execution_count": 139,
   "id": "f0a57f05-3a81-4694-ad75-ff2482e8abe3",
   "metadata": {},
   "outputs": [
    {
     "data": {
      "text/html": [
       "<div>\n",
       "<style scoped>\n",
       "    .dataframe tbody tr th:only-of-type {\n",
       "        vertical-align: middle;\n",
       "    }\n",
       "\n",
       "    .dataframe tbody tr th {\n",
       "        vertical-align: top;\n",
       "    }\n",
       "\n",
       "    .dataframe thead th {\n",
       "        text-align: right;\n",
       "    }\n",
       "</style>\n",
       "<table border=\"1\" class=\"dataframe\">\n",
       "  <thead>\n",
       "    <tr style=\"text-align: right;\">\n",
       "      <th></th>\n",
       "      <th>Survived</th>\n",
       "      <th>Pclass</th>\n",
       "      <th>Age</th>\n",
       "      <th>SibSp</th>\n",
       "      <th>Fare</th>\n",
       "      <th>Sex_male</th>\n",
       "      <th>Embarked_S</th>\n",
       "      <th>Age_Group</th>\n",
       "    </tr>\n",
       "  </thead>\n",
       "  <tbody>\n",
       "    <tr>\n",
       "      <th>125</th>\n",
       "      <td>1</td>\n",
       "      <td>2</td>\n",
       "      <td>12.0</td>\n",
       "      <td>1</td>\n",
       "      <td>11.2417</td>\n",
       "      <td>1</td>\n",
       "      <td>0</td>\n",
       "      <td>Child</td>\n",
       "    </tr>\n",
       "    <tr>\n",
       "      <th>731</th>\n",
       "      <td>0</td>\n",
       "      <td>2</td>\n",
       "      <td>11.0</td>\n",
       "      <td>0</td>\n",
       "      <td>18.7875</td>\n",
       "      <td>1</td>\n",
       "      <td>0</td>\n",
       "      <td>Child</td>\n",
       "    </tr>\n",
       "    <tr>\n",
       "      <th>777</th>\n",
       "      <td>1</td>\n",
       "      <td>2</td>\n",
       "      <td>5.0</td>\n",
       "      <td>0</td>\n",
       "      <td>12.4750</td>\n",
       "      <td>0</td>\n",
       "      <td>1</td>\n",
       "      <td>Child</td>\n",
       "    </tr>\n",
       "  </tbody>\n",
       "</table>\n",
       "</div>"
      ],
      "text/plain": [
       "     Survived  Pclass   Age  SibSp     Fare  Sex_male  Embarked_S Age_Group\n",
       "125         1       2  12.0      1  11.2417         1           0     Child\n",
       "731         0       2  11.0      0  18.7875         1           0     Child\n",
       "777         1       2   5.0      0  12.4750         0           1     Child"
      ]
     },
     "execution_count": 139,
     "metadata": {},
     "output_type": "execute_result"
    }
   ],
   "source": [
    "child_passengers"
   ]
  },
  {
   "cell_type": "code",
   "execution_count": 1001,
   "id": "afc5ed97-b33a-45e7-b4b5-cd2040128a7a",
   "metadata": {},
   "outputs": [],
   "source": [
    "#applying label encoding in Age_Group to be (0,1,2,3)\n",
    "data_cleaned['Age_Group'] = label_encoder.fit_transform(data_cleaned['Age_Group'])"
   ]
  },
  {
   "cell_type": "code",
   "execution_count": 1003,
   "id": "b16801be-776a-4b5e-a2c3-6f870fc4abc1",
   "metadata": {},
   "outputs": [
    {
     "data": {
      "text/html": [
       "<div>\n",
       "<style scoped>\n",
       "    .dataframe tbody tr th:only-of-type {\n",
       "        vertical-align: middle;\n",
       "    }\n",
       "\n",
       "    .dataframe tbody tr th {\n",
       "        vertical-align: top;\n",
       "    }\n",
       "\n",
       "    .dataframe thead th {\n",
       "        text-align: right;\n",
       "    }\n",
       "</style>\n",
       "<table border=\"1\" class=\"dataframe\">\n",
       "  <thead>\n",
       "    <tr style=\"text-align: right;\">\n",
       "      <th></th>\n",
       "      <th>Survived</th>\n",
       "      <th>Pclass</th>\n",
       "      <th>Sex</th>\n",
       "      <th>Age</th>\n",
       "      <th>SibSp</th>\n",
       "      <th>Fare</th>\n",
       "      <th>Embarked_S</th>\n",
       "      <th>Age_Group</th>\n",
       "    </tr>\n",
       "  </thead>\n",
       "  <tbody>\n",
       "    <tr>\n",
       "      <th>0</th>\n",
       "      <td>0</td>\n",
       "      <td>2</td>\n",
       "      <td>1</td>\n",
       "      <td>22.0</td>\n",
       "      <td>1</td>\n",
       "      <td>7.2500</td>\n",
       "      <td>1</td>\n",
       "      <td>3</td>\n",
       "    </tr>\n",
       "    <tr>\n",
       "      <th>1</th>\n",
       "      <td>1</td>\n",
       "      <td>2</td>\n",
       "      <td>0</td>\n",
       "      <td>26.0</td>\n",
       "      <td>0</td>\n",
       "      <td>7.9250</td>\n",
       "      <td>1</td>\n",
       "      <td>3</td>\n",
       "    </tr>\n",
       "    <tr>\n",
       "      <th>2</th>\n",
       "      <td>1</td>\n",
       "      <td>0</td>\n",
       "      <td>0</td>\n",
       "      <td>35.0</td>\n",
       "      <td>1</td>\n",
       "      <td>53.1000</td>\n",
       "      <td>1</td>\n",
       "      <td>3</td>\n",
       "    </tr>\n",
       "    <tr>\n",
       "      <th>3</th>\n",
       "      <td>0</td>\n",
       "      <td>2</td>\n",
       "      <td>1</td>\n",
       "      <td>35.0</td>\n",
       "      <td>0</td>\n",
       "      <td>8.0500</td>\n",
       "      <td>1</td>\n",
       "      <td>3</td>\n",
       "    </tr>\n",
       "    <tr>\n",
       "      <th>4</th>\n",
       "      <td>0</td>\n",
       "      <td>2</td>\n",
       "      <td>1</td>\n",
       "      <td>28.0</td>\n",
       "      <td>0</td>\n",
       "      <td>8.4583</td>\n",
       "      <td>0</td>\n",
       "      <td>3</td>\n",
       "    </tr>\n",
       "    <tr>\n",
       "      <th>...</th>\n",
       "      <td>...</td>\n",
       "      <td>...</td>\n",
       "      <td>...</td>\n",
       "      <td>...</td>\n",
       "      <td>...</td>\n",
       "      <td>...</td>\n",
       "      <td>...</td>\n",
       "      <td>...</td>\n",
       "    </tr>\n",
       "    <tr>\n",
       "      <th>572</th>\n",
       "      <td>0</td>\n",
       "      <td>2</td>\n",
       "      <td>1</td>\n",
       "      <td>25.0</td>\n",
       "      <td>0</td>\n",
       "      <td>7.0500</td>\n",
       "      <td>1</td>\n",
       "      <td>3</td>\n",
       "    </tr>\n",
       "    <tr>\n",
       "      <th>573</th>\n",
       "      <td>0</td>\n",
       "      <td>1</td>\n",
       "      <td>1</td>\n",
       "      <td>27.0</td>\n",
       "      <td>0</td>\n",
       "      <td>13.0000</td>\n",
       "      <td>1</td>\n",
       "      <td>3</td>\n",
       "    </tr>\n",
       "    <tr>\n",
       "      <th>574</th>\n",
       "      <td>1</td>\n",
       "      <td>0</td>\n",
       "      <td>0</td>\n",
       "      <td>19.0</td>\n",
       "      <td>0</td>\n",
       "      <td>30.0000</td>\n",
       "      <td>1</td>\n",
       "      <td>3</td>\n",
       "    </tr>\n",
       "    <tr>\n",
       "      <th>575</th>\n",
       "      <td>1</td>\n",
       "      <td>0</td>\n",
       "      <td>1</td>\n",
       "      <td>26.0</td>\n",
       "      <td>0</td>\n",
       "      <td>30.0000</td>\n",
       "      <td>0</td>\n",
       "      <td>3</td>\n",
       "    </tr>\n",
       "    <tr>\n",
       "      <th>576</th>\n",
       "      <td>0</td>\n",
       "      <td>2</td>\n",
       "      <td>1</td>\n",
       "      <td>32.0</td>\n",
       "      <td>0</td>\n",
       "      <td>7.7500</td>\n",
       "      <td>0</td>\n",
       "      <td>3</td>\n",
       "    </tr>\n",
       "  </tbody>\n",
       "</table>\n",
       "<p>577 rows × 8 columns</p>\n",
       "</div>"
      ],
      "text/plain": [
       "     Survived  Pclass  Sex   Age  SibSp     Fare  Embarked_S  Age_Group\n",
       "0           0       2    1  22.0      1   7.2500           1          3\n",
       "1           1       2    0  26.0      0   7.9250           1          3\n",
       "2           1       0    0  35.0      1  53.1000           1          3\n",
       "3           0       2    1  35.0      0   8.0500           1          3\n",
       "4           0       2    1  28.0      0   8.4583           0          3\n",
       "..        ...     ...  ...   ...    ...      ...         ...        ...\n",
       "572         0       2    1  25.0      0   7.0500           1          3\n",
       "573         0       1    1  27.0      0  13.0000           1          3\n",
       "574         1       0    0  19.0      0  30.0000           1          3\n",
       "575         1       0    1  26.0      0  30.0000           0          3\n",
       "576         0       2    1  32.0      0   7.7500           0          3\n",
       "\n",
       "[577 rows x 8 columns]"
      ]
     },
     "execution_count": 1003,
     "metadata": {},
     "output_type": "execute_result"
    }
   ],
   "source": [
    "data_cleaned"
   ]
  },
  {
   "cell_type": "code",
   "execution_count": 1005,
   "id": "1efe1b74-1c4f-4bdf-b0ff-b10cf4250fbb",
   "metadata": {},
   "outputs": [
    {
     "data": {
      "text/plain": [
       "array([3, 0, 2, 1])"
      ]
     },
     "execution_count": 1005,
     "metadata": {},
     "output_type": "execute_result"
    }
   ],
   "source": [
    "data_cleaned[\"Age_Group\"].unique()"
   ]
  },
  {
   "cell_type": "markdown",
   "id": "5335bca7-2938-49eb-ac00-05590ca3e314",
   "metadata": {},
   "source": [
    "# feature engineering\n",
    "is the process of creating new features from existing ones "
   ]
  },
  {
   "cell_type": "code",
   "execution_count": 1007,
   "id": "971778f6-1199-43ae-8a8a-aa39c8c1a2de",
   "metadata": {},
   "outputs": [],
   "source": [
    "# Combine Pclass and Age_Group into a new feature\n",
    "data_cleaned['Class_AgeGroup'] = data_cleaned['Pclass'].astype(str) + '_' + data_cleaned['Age_Group'].astype(str)\n",
    "#pclass[0,1,2][class 1,class 2 ,class 3]\n",
    "#Age_Group[0,1,2,3]) [child ,teen,young adult,adult]"
   ]
  },
  {
   "cell_type": "code",
   "execution_count": 1009,
   "id": "b9f3c1a6-ca20-4d79-9cae-d72c67ce8cd2",
   "metadata": {},
   "outputs": [
    {
     "data": {
      "text/html": [
       "<div>\n",
       "<style scoped>\n",
       "    .dataframe tbody tr th:only-of-type {\n",
       "        vertical-align: middle;\n",
       "    }\n",
       "\n",
       "    .dataframe tbody tr th {\n",
       "        vertical-align: top;\n",
       "    }\n",
       "\n",
       "    .dataframe thead th {\n",
       "        text-align: right;\n",
       "    }\n",
       "</style>\n",
       "<table border=\"1\" class=\"dataframe\">\n",
       "  <thead>\n",
       "    <tr style=\"text-align: right;\">\n",
       "      <th></th>\n",
       "      <th>Survived</th>\n",
       "      <th>Pclass</th>\n",
       "      <th>Sex</th>\n",
       "      <th>Age</th>\n",
       "      <th>SibSp</th>\n",
       "      <th>Fare</th>\n",
       "      <th>Embarked_S</th>\n",
       "      <th>Age_Group</th>\n",
       "      <th>Class_AgeGroup</th>\n",
       "    </tr>\n",
       "  </thead>\n",
       "  <tbody>\n",
       "    <tr>\n",
       "      <th>0</th>\n",
       "      <td>0</td>\n",
       "      <td>2</td>\n",
       "      <td>1</td>\n",
       "      <td>22.0</td>\n",
       "      <td>1</td>\n",
       "      <td>7.2500</td>\n",
       "      <td>1</td>\n",
       "      <td>3</td>\n",
       "      <td>2_3</td>\n",
       "    </tr>\n",
       "    <tr>\n",
       "      <th>1</th>\n",
       "      <td>1</td>\n",
       "      <td>2</td>\n",
       "      <td>0</td>\n",
       "      <td>26.0</td>\n",
       "      <td>0</td>\n",
       "      <td>7.9250</td>\n",
       "      <td>1</td>\n",
       "      <td>3</td>\n",
       "      <td>2_3</td>\n",
       "    </tr>\n",
       "    <tr>\n",
       "      <th>2</th>\n",
       "      <td>1</td>\n",
       "      <td>0</td>\n",
       "      <td>0</td>\n",
       "      <td>35.0</td>\n",
       "      <td>1</td>\n",
       "      <td>53.1000</td>\n",
       "      <td>1</td>\n",
       "      <td>3</td>\n",
       "      <td>0_3</td>\n",
       "    </tr>\n",
       "    <tr>\n",
       "      <th>3</th>\n",
       "      <td>0</td>\n",
       "      <td>2</td>\n",
       "      <td>1</td>\n",
       "      <td>35.0</td>\n",
       "      <td>0</td>\n",
       "      <td>8.0500</td>\n",
       "      <td>1</td>\n",
       "      <td>3</td>\n",
       "      <td>2_3</td>\n",
       "    </tr>\n",
       "    <tr>\n",
       "      <th>4</th>\n",
       "      <td>0</td>\n",
       "      <td>2</td>\n",
       "      <td>1</td>\n",
       "      <td>28.0</td>\n",
       "      <td>0</td>\n",
       "      <td>8.4583</td>\n",
       "      <td>0</td>\n",
       "      <td>3</td>\n",
       "      <td>2_3</td>\n",
       "    </tr>\n",
       "    <tr>\n",
       "      <th>...</th>\n",
       "      <td>...</td>\n",
       "      <td>...</td>\n",
       "      <td>...</td>\n",
       "      <td>...</td>\n",
       "      <td>...</td>\n",
       "      <td>...</td>\n",
       "      <td>...</td>\n",
       "      <td>...</td>\n",
       "      <td>...</td>\n",
       "    </tr>\n",
       "    <tr>\n",
       "      <th>572</th>\n",
       "      <td>0</td>\n",
       "      <td>2</td>\n",
       "      <td>1</td>\n",
       "      <td>25.0</td>\n",
       "      <td>0</td>\n",
       "      <td>7.0500</td>\n",
       "      <td>1</td>\n",
       "      <td>3</td>\n",
       "      <td>2_3</td>\n",
       "    </tr>\n",
       "    <tr>\n",
       "      <th>573</th>\n",
       "      <td>0</td>\n",
       "      <td>1</td>\n",
       "      <td>1</td>\n",
       "      <td>27.0</td>\n",
       "      <td>0</td>\n",
       "      <td>13.0000</td>\n",
       "      <td>1</td>\n",
       "      <td>3</td>\n",
       "      <td>1_3</td>\n",
       "    </tr>\n",
       "    <tr>\n",
       "      <th>574</th>\n",
       "      <td>1</td>\n",
       "      <td>0</td>\n",
       "      <td>0</td>\n",
       "      <td>19.0</td>\n",
       "      <td>0</td>\n",
       "      <td>30.0000</td>\n",
       "      <td>1</td>\n",
       "      <td>3</td>\n",
       "      <td>0_3</td>\n",
       "    </tr>\n",
       "    <tr>\n",
       "      <th>575</th>\n",
       "      <td>1</td>\n",
       "      <td>0</td>\n",
       "      <td>1</td>\n",
       "      <td>26.0</td>\n",
       "      <td>0</td>\n",
       "      <td>30.0000</td>\n",
       "      <td>0</td>\n",
       "      <td>3</td>\n",
       "      <td>0_3</td>\n",
       "    </tr>\n",
       "    <tr>\n",
       "      <th>576</th>\n",
       "      <td>0</td>\n",
       "      <td>2</td>\n",
       "      <td>1</td>\n",
       "      <td>32.0</td>\n",
       "      <td>0</td>\n",
       "      <td>7.7500</td>\n",
       "      <td>0</td>\n",
       "      <td>3</td>\n",
       "      <td>2_3</td>\n",
       "    </tr>\n",
       "  </tbody>\n",
       "</table>\n",
       "<p>577 rows × 9 columns</p>\n",
       "</div>"
      ],
      "text/plain": [
       "     Survived  Pclass  Sex   Age  SibSp     Fare  Embarked_S  Age_Group  \\\n",
       "0           0       2    1  22.0      1   7.2500           1          3   \n",
       "1           1       2    0  26.0      0   7.9250           1          3   \n",
       "2           1       0    0  35.0      1  53.1000           1          3   \n",
       "3           0       2    1  35.0      0   8.0500           1          3   \n",
       "4           0       2    1  28.0      0   8.4583           0          3   \n",
       "..        ...     ...  ...   ...    ...      ...         ...        ...   \n",
       "572         0       2    1  25.0      0   7.0500           1          3   \n",
       "573         0       1    1  27.0      0  13.0000           1          3   \n",
       "574         1       0    0  19.0      0  30.0000           1          3   \n",
       "575         1       0    1  26.0      0  30.0000           0          3   \n",
       "576         0       2    1  32.0      0   7.7500           0          3   \n",
       "\n",
       "    Class_AgeGroup  \n",
       "0              2_3  \n",
       "1              2_3  \n",
       "2              0_3  \n",
       "3              2_3  \n",
       "4              2_3  \n",
       "..             ...  \n",
       "572            2_3  \n",
       "573            1_3  \n",
       "574            0_3  \n",
       "575            0_3  \n",
       "576            2_3  \n",
       "\n",
       "[577 rows x 9 columns]"
      ]
     },
     "execution_count": 1009,
     "metadata": {},
     "output_type": "execute_result"
    }
   ],
   "source": [
    "data_cleaned"
   ]
  },
  {
   "cell_type": "markdown",
   "id": "848471d1-8986-4638-bb39-78403dcea3bb",
   "metadata": {},
   "source": [
    "# groupby\n",
    "\n",
    "Group the data based on one or more categorical columns.\n",
    "\r",
    ".\n",
    "Class Influence:Passengers in first class (Pclass 0) generally have higher survival rates, especially females. Second and third-class passengers tend to have lower survival probabilities, particularly for males.\n",
    "\n",
    "Age Influence:Children (0-12) appear to have a much higher survival rate, especially females, compared to adults."
   ]
  },
  {
   "cell_type": "code",
   "execution_count": 1034,
   "id": "74c9ad78-e503-44bc-bb16-91c4a5fb9ea7",
   "metadata": {},
   "outputs": [
    {
     "name": "stdout",
     "output_type": "stream",
     "text": [
      "   Class_AgeGroup  Sex  Survived\n",
      "0             0_0    0  0.875000\n",
      "1             0_0    1  0.392857\n",
      "2             0_2    0  1.000000\n",
      "3             0_3    0  1.000000\n",
      "4             0_3    1  0.432432\n",
      "5             1_0    0  0.833333\n",
      "6             1_0    1  0.047619\n",
      "7             1_2    0  1.000000\n",
      "8             1_2    1  0.000000\n",
      "9             1_3    0  0.925926\n",
      "10            1_3    1  0.113208\n",
      "11            2_0    0  0.200000\n",
      "12            2_0    1  0.085714\n",
      "13            2_1    0  1.000000\n",
      "14            2_1    1  0.500000\n",
      "15            2_2    0  0.562500\n",
      "16            2_2    1  0.117647\n",
      "17            2_3    0  0.606557\n",
      "18            2_3    1  0.127119\n"
     ]
    }
   ],
   "source": [
    "\n",
    "survival_rates = data_cleaned.groupby(['Class_AgeGroup', 'Sex'])['Survived'].mean().reset_index()\n",
    "print(survival_rates)\n"
   ]
  },
  {
   "cell_type": "code",
   "execution_count": 1036,
   "id": "c26860a9-2274-4cec-9f05-b9161f85fda3",
   "metadata": {},
   "outputs": [
    {
     "name": "stdout",
     "output_type": "stream",
     "text": [
      "Pclass\n",
      "0    0.530120\n",
      "1    0.371901\n",
      "2    0.225201\n",
      "Name: Survived, dtype: float64\n"
     ]
    }
   ],
   "source": [
    "class_fare=data_cleaned.groupby('Pclass')['Survived'].mean()\n",
    "print(class_fare)"
   ]
  },
  {
   "cell_type": "markdown",
   "id": "c7287eb3-e09a-463a-be28-4fc942a0026f",
   "metadata": {},
   "source": [
    "# Aggregation\n"
   ]
  },
  {
   "cell_type": "code",
   "execution_count": 1042,
   "id": "1acab0fc-b584-4629-a889-bdc59e6ebcaf",
   "metadata": {},
   "outputs": [
    {
     "name": "stdout",
     "output_type": "stream",
     "text": [
      "  Pclass  Survived             Fare     SibSp\n",
      "              mean count       mean      mean\n",
      "0      0  0.530120    83  36.091466  0.277108\n",
      "1      1  0.371901   121  15.440047  0.214876\n",
      "2      2  0.225201   373  10.050054  0.176944\n"
     ]
    }
   ],
   "source": [
    "# Aggregating statistics\n",
    "pclass_aggr = data_cleaned.groupby(['Pclass']).agg({\n",
    "    'Survived': ['mean', 'count'],\n",
    "    'Fare': ['mean'],\n",
    "    'SibSp': ['mean'],\n",
    "}).reset_index()\n",
    "\n",
    "print(pclass_aggr)"
   ]
  },
  {
   "cell_type": "markdown",
   "id": "673ce85a-8faa-4e0b-8657-eb5b2bbde11f",
   "metadata": {},
   "source": [
    "# feature scaling & normalization techniques \n",
    "\n",
    "# 1.Min-Max Scaling:\n",
    "When to Use: Common in machine learning models that require features to be in a specific range, like neural networks and KNN.\n",
    "Why: Scales data to a specified range **(usually [0, 1])**, retaining the original data distribution.\n",
    "**Formula:** `Xscaled=(X−Xmin)/(Xmax−Xmin)`\n",
    "\n",
    "# 2.Z-score Normalization (Standardization):\n",
    "When to Use: When data needs to be centered around zero and have unit variance, often in algorithms sensitive to data distributions, like linear regression,logistic regression, and K-means .\n",
    "Why: Ensures features are comparable by transforming data into a distribution **with mean zero and standard deviation one**.\n",
    "**Formula:** `𝑧=(𝑥−mean)/standard deviation`\n",
    "preferred than minmax scaling when data is normal distribution \n",
    "\n",
    "# 3.Robust Scaling:\n",
    "When to Use: **With data that contains outliers** as it reduces the impact of outliers,it’s less sensitive to extreme values.\n",
    "Why: It scales data using the interquartile range (IQR) and median, providing more robust scaling than standardization.\n",
    "**Formula:** `Xscaled = (X−median)/IQR`\n",
    "\n",
    "# 4.Max Abs Scaling:\n",
    "When to Use: **Ideal for sparse data (many zeros)**,scaling to a range of **-1 to 1**is beneficial without altering zero values.\n",
    "Why: Divides each feature by its maximum absolute value \n",
    "**Formula:** `Xscaled = X / ∣Xmax∣`\n",
    "\n",
    "# 5.L1 and L2 Normalization:\n",
    "When to Use: Suitable for algorithms relying on distance or dot product, like k-nearest neighbors or support vector machines.\n",
    "Why: L1 normalization scales each observation by the absolute sum of values (Manhattan norm), while L2 scales by the square root of the sum of the squared values (the Euclidean norm), ensuring each observation has unit length.\n",
    "    **Formulas:**\n",
    "        - L1: `𝑋scaled = 𝑋 / ∑∣𝑋∣`\n",
    "        - L2: `Xscaled = 𝑋 / √∑X²`²`²`\n",
    "# 6.Decimal Scaling:\n",
    "When to Use: When data values vary significantly and need reduction to a similar range without losing interpretability, common in applications with strictly positive data.\n",
    "Why: Shifts the decimal place to bring all values to a manageable scale, maintaining interpretabili**Formula:** `Xscaled = X / 10^𝑗` where 𝑗 is the smallest integer such that all values fall between -1 and 1.`y.\n",
    "\n",
    "# 7.Log Transformation:\n",
    "When to Use: For data with a highly skewed distribution, such as income or population data, where linear relationships are important.\n",
    "Why: Compresses large values and expands smaller values, improving the normality of data**Formula:*\n",
    "* `𝑋transformed = log(𝑋+𝑐)X` \n",
    ".\n",
    "\n",
    "# 8.Power Transformation:\n",
    "When to Use: When the data shows skewness that impacts model performance, especially in linear models and regression.\n",
    "Why: The Box-Cox or Yeo-Johnson transformations make the data more normal-like and can stabilize varianc\n",
    "**Formulas:**\r\n",
    "        - Box-Cox: For positive data onl    \r\n",
    "            `𝑋transformed = (𝑋^𝜆 − 1) / 𝜆`  for `𝜆≠0`.\r\n",
    "            - Yeo-Johnson: Extends to both positive and negative .an L1.\r\n",
    "​alues.e."
   ]
  },
  {
   "cell_type": "markdown",
   "id": "58488ecb-8d0e-479b-88fd-f0c8372c56f2",
   "metadata": {},
   "source": [
    "**Since 'Embarked_S', and 'Survived' are already binary with values between 0 and 1, they don’t need further scaling**."
   ]
  },
  {
   "cell_type": "code",
   "execution_count": 1053,
   "id": "39cae864-fdb5-45d0-b749-984127f933ca",
   "metadata": {},
   "outputs": [],
   "source": [
    "# Initialize the scaler\n",
    "scaler = MinMaxScaler()\n",
    "# Select the columns to normalize\n",
    "columns_to_normalize = ['SibSp', 'Fare','Age']\n",
    "data_cleaned[columns_to_normalize] = scaler.fit_transform(data_cleaned[columns_to_normalize])\n"
   ]
  },
  {
   "cell_type": "code",
   "execution_count": 1055,
   "id": "875e036b-db4f-405b-ad8a-41079b099d08",
   "metadata": {},
   "outputs": [
    {
     "data": {
      "text/html": [
       "<div>\n",
       "<style scoped>\n",
       "    .dataframe tbody tr th:only-of-type {\n",
       "        vertical-align: middle;\n",
       "    }\n",
       "\n",
       "    .dataframe tbody tr th {\n",
       "        vertical-align: top;\n",
       "    }\n",
       "\n",
       "    .dataframe thead th {\n",
       "        text-align: right;\n",
       "    }\n",
       "</style>\n",
       "<table border=\"1\" class=\"dataframe\">\n",
       "  <thead>\n",
       "    <tr style=\"text-align: right;\">\n",
       "      <th></th>\n",
       "      <th>Survived</th>\n",
       "      <th>Pclass</th>\n",
       "      <th>Sex</th>\n",
       "      <th>Age</th>\n",
       "      <th>SibSp</th>\n",
       "      <th>Fare</th>\n",
       "      <th>Embarked_S</th>\n",
       "      <th>Age_Group</th>\n",
       "    </tr>\n",
       "  </thead>\n",
       "  <tbody>\n",
       "    <tr>\n",
       "      <th>count</th>\n",
       "      <td>577.000000</td>\n",
       "      <td>577.000000</td>\n",
       "      <td>577.000000</td>\n",
       "      <td>577.000000</td>\n",
       "      <td>577.000000</td>\n",
       "      <td>577.000000</td>\n",
       "      <td>577.000000</td>\n",
       "      <td>577.000000</td>\n",
       "    </tr>\n",
       "    <tr>\n",
       "      <th>mean</th>\n",
       "      <td>0.299827</td>\n",
       "      <td>1.502600</td>\n",
       "      <td>0.752166</td>\n",
       "      <td>0.495986</td>\n",
       "      <td>0.099653</td>\n",
       "      <td>0.243994</td>\n",
       "      <td>0.750433</td>\n",
       "      <td>2.350087</td>\n",
       "    </tr>\n",
       "    <tr>\n",
       "      <th>std</th>\n",
       "      <td>0.458579</td>\n",
       "      <td>0.733909</td>\n",
       "      <td>0.432129</td>\n",
       "      <td>0.174524</td>\n",
       "      <td>0.222517</td>\n",
       "      <td>0.206073</td>\n",
       "      <td>0.433138</td>\n",
       "      <td>1.172073</td>\n",
       "    </tr>\n",
       "    <tr>\n",
       "      <th>min</th>\n",
       "      <td>0.000000</td>\n",
       "      <td>0.000000</td>\n",
       "      <td>0.000000</td>\n",
       "      <td>0.000000</td>\n",
       "      <td>0.000000</td>\n",
       "      <td>0.000000</td>\n",
       "      <td>0.000000</td>\n",
       "      <td>0.000000</td>\n",
       "    </tr>\n",
       "    <tr>\n",
       "      <th>25%</th>\n",
       "      <td>0.000000</td>\n",
       "      <td>1.000000</td>\n",
       "      <td>1.000000</td>\n",
       "      <td>0.387755</td>\n",
       "      <td>0.000000</td>\n",
       "      <td>0.127094</td>\n",
       "      <td>1.000000</td>\n",
       "      <td>2.000000</td>\n",
       "    </tr>\n",
       "    <tr>\n",
       "      <th>50%</th>\n",
       "      <td>0.000000</td>\n",
       "      <td>2.000000</td>\n",
       "      <td>1.000000</td>\n",
       "      <td>0.469388</td>\n",
       "      <td>0.000000</td>\n",
       "      <td>0.141602</td>\n",
       "      <td>1.000000</td>\n",
       "      <td>3.000000</td>\n",
       "    </tr>\n",
       "    <tr>\n",
       "      <th>75%</th>\n",
       "      <td>1.000000</td>\n",
       "      <td>2.000000</td>\n",
       "      <td>1.000000</td>\n",
       "      <td>0.561224</td>\n",
       "      <td>0.000000</td>\n",
       "      <td>0.259093</td>\n",
       "      <td>1.000000</td>\n",
       "      <td>3.000000</td>\n",
       "    </tr>\n",
       "    <tr>\n",
       "      <th>max</th>\n",
       "      <td>1.000000</td>\n",
       "      <td>2.000000</td>\n",
       "      <td>1.000000</td>\n",
       "      <td>1.000000</td>\n",
       "      <td>1.000000</td>\n",
       "      <td>1.000000</td>\n",
       "      <td>1.000000</td>\n",
       "      <td>3.000000</td>\n",
       "    </tr>\n",
       "  </tbody>\n",
       "</table>\n",
       "</div>"
      ],
      "text/plain": [
       "         Survived      Pclass         Sex         Age       SibSp        Fare  \\\n",
       "count  577.000000  577.000000  577.000000  577.000000  577.000000  577.000000   \n",
       "mean     0.299827    1.502600    0.752166    0.495986    0.099653    0.243994   \n",
       "std      0.458579    0.733909    0.432129    0.174524    0.222517    0.206073   \n",
       "min      0.000000    0.000000    0.000000    0.000000    0.000000    0.000000   \n",
       "25%      0.000000    1.000000    1.000000    0.387755    0.000000    0.127094   \n",
       "50%      0.000000    2.000000    1.000000    0.469388    0.000000    0.141602   \n",
       "75%      1.000000    2.000000    1.000000    0.561224    0.000000    0.259093   \n",
       "max      1.000000    2.000000    1.000000    1.000000    1.000000    1.000000   \n",
       "\n",
       "       Embarked_S   Age_Group  \n",
       "count  577.000000  577.000000  \n",
       "mean     0.750433    2.350087  \n",
       "std      0.433138    1.172073  \n",
       "min      0.000000    0.000000  \n",
       "25%      1.000000    2.000000  \n",
       "50%      1.000000    3.000000  \n",
       "75%      1.000000    3.000000  \n",
       "max      1.000000    3.000000  "
      ]
     },
     "execution_count": 1055,
     "metadata": {},
     "output_type": "execute_result"
    }
   ],
   "source": [
    "data_cleaned.describe() #min=0 & max=1"
   ]
  },
  {
   "cell_type": "code",
   "execution_count": null,
   "id": "3a5e38be-e66e-4fc2-a737-95d452e63279",
   "metadata": {},
   "outputs": [],
   "source": [
    "#standardization\n",
    "#scaler = StandardScaler()\n",
    "#without_name[columns_to_normalize] = scaler.fit_transform(without_name[columns_to_normalize])"
   ]
  },
  {
   "cell_type": "markdown",
   "id": "979a44e6-2df0-400c-8a01-9828772d7265",
   "metadata": {},
   "source": [
    "# Reshaping Data\n",
    "refers to the process of transforming the structure or format of a dataset to better fit the requirements of the model.\n",
    "\n",
    "1.**pivoting**:Pivot tables are a useful to summarize and aggregate data.\n",
    "\n",
    "2.**transpose**:This means that the rows become columns, and the columns become rows. This can be particularly useful when you want to view the data in a different orientation\n",
    "\n",
    "3.**stack & unstack**: stack Converts columns into rows and creates a hierarchical index(multi columns into single column),\n",
    "unstack Converts rows back into columns\n"
   ]
  },
  {
   "cell_type": "code",
   "execution_count": 152,
   "id": "aa0b214c-d6f5-41c1-a753-20759a598d0d",
   "metadata": {},
   "outputs": [
    {
     "name": "stdout",
     "output_type": "stream",
     "text": [
      "Sex       female      male\n",
      "Pclass                    \n",
      "1       0.968085  0.368852\n",
      "2       0.921053  0.157407\n",
      "3       0.500000  0.135447\n"
     ]
    }
   ],
   "source": [
    "#This pivot table shows the average survival rate for each Pclass (1, 2, 3) by Sex (male, female).\n",
    "pivot_copy3 = pd.pivot_table(data_copy3, values='Survived', index='Pclass', columns='Sex', aggfunc='mean')\n",
    "print(pivot_copy3)\n"
   ]
  },
  {
   "cell_type": "code",
   "execution_count": 154,
   "id": "7b26595a-9086-4489-8d80-fcfb3cdd9cc9",
   "metadata": {},
   "outputs": [
    {
     "data": {
      "text/html": [
       "<div>\n",
       "<style scoped>\n",
       "    .dataframe tbody tr th:only-of-type {\n",
       "        vertical-align: middle;\n",
       "    }\n",
       "\n",
       "    .dataframe tbody tr th {\n",
       "        vertical-align: top;\n",
       "    }\n",
       "\n",
       "    .dataframe thead th {\n",
       "        text-align: right;\n",
       "    }\n",
       "</style>\n",
       "<table border=\"1\" class=\"dataframe\">\n",
       "  <thead>\n",
       "    <tr style=\"text-align: right;\">\n",
       "      <th></th>\n",
       "      <th>0</th>\n",
       "      <th>1</th>\n",
       "      <th>2</th>\n",
       "      <th>3</th>\n",
       "      <th>4</th>\n",
       "    </tr>\n",
       "  </thead>\n",
       "  <tbody>\n",
       "    <tr>\n",
       "      <th>Pclass</th>\n",
       "      <td>3</td>\n",
       "      <td>1</td>\n",
       "      <td>3</td>\n",
       "      <td>1</td>\n",
       "      <td>3</td>\n",
       "    </tr>\n",
       "    <tr>\n",
       "      <th>Name</th>\n",
       "      <td>Braund, Mr. Owen Harris</td>\n",
       "      <td>Cumings, Mrs. John Bradley (Florence Briggs Th...</td>\n",
       "      <td>Heikkinen, Miss. Laina</td>\n",
       "      <td>Futrelle, Mrs. Jacques Heath (Lily May Peel)</td>\n",
       "      <td>Allen, Mr. William Henry</td>\n",
       "    </tr>\n",
       "    <tr>\n",
       "      <th>Survived</th>\n",
       "      <td>0</td>\n",
       "      <td>1</td>\n",
       "      <td>1</td>\n",
       "      <td>1</td>\n",
       "      <td>0</td>\n",
       "    </tr>\n",
       "  </tbody>\n",
       "</table>\n",
       "</div>"
      ],
      "text/plain": [
       "                                0  \\\n",
       "Pclass                          3   \n",
       "Name      Braund, Mr. Owen Harris   \n",
       "Survived                        0   \n",
       "\n",
       "                                                          1  \\\n",
       "Pclass                                                    1   \n",
       "Name      Cumings, Mrs. John Bradley (Florence Briggs Th...   \n",
       "Survived                                                  1   \n",
       "\n",
       "                               2  \\\n",
       "Pclass                         3   \n",
       "Name      Heikkinen, Miss. Laina   \n",
       "Survived                       1   \n",
       "\n",
       "                                                     3  \\\n",
       "Pclass                                               1   \n",
       "Name      Futrelle, Mrs. Jacques Heath (Lily May Peel)   \n",
       "Survived                                             1   \n",
       "\n",
       "                                 4  \n",
       "Pclass                           3  \n",
       "Name      Allen, Mr. William Henry  \n",
       "Survived                         0  "
      ]
     },
     "execution_count": 154,
     "metadata": {},
     "output_type": "execute_result"
    }
   ],
   "source": [
    "#swaps rows and columns in a DataFrame\n",
    "transposed_copy3 = data_copy3[['Pclass', 'Name','Survived']].head().T #or transpose()\n",
    "transposed_copy3"
   ]
  },
  {
   "cell_type": "code",
   "execution_count": 162,
   "id": "ea587a33-a50a-414d-baa8-2a798d9167e2",
   "metadata": {},
   "outputs": [
    {
     "name": "stdout",
     "output_type": "stream",
     "text": [
      "   Pclass   Age\n",
      "0       3  22.0\n",
      "1       1  38.0\n",
      "2       3  26.0\n",
      "3       1  35.0\n",
      "4       3  35.0\n",
      "\n",
      " After stacking \n",
      "\n",
      "0  Pclass     3.0\n",
      "   Age       22.0\n",
      "1  Pclass     1.0\n",
      "   Age       38.0\n",
      "2  Pclass     3.0\n",
      "dtype: float64\n"
     ]
    }
   ],
   "source": [
    "#before stacking\n",
    "subset = data_copy3[['Pclass', 'Age']]\n",
    "print(subset.head())\n",
    "\n",
    "print(\"\\n After stacking \\n\")\n",
    "stacked = subset.stack()\n",
    "print(stacked.head())"
   ]
  },
  {
   "cell_type": "code",
   "execution_count": 166,
   "id": "3992c897-19d2-47ee-9097-759c2b232e38",
   "metadata": {},
   "outputs": [
    {
     "name": "stdout",
     "output_type": "stream",
     "text": [
      "After unstacking:\n",
      "     Pclass   Age\n",
      "0       3.0  22.0\n",
      "1       1.0  38.0\n",
      "2       3.0  26.0\n",
      "3       1.0  35.0\n",
      "4       3.0  35.0\n",
      "..      ...   ...\n",
      "886     2.0  27.0\n",
      "887     1.0  19.0\n",
      "888     3.0   NaN\n",
      "889     1.0  26.0\n",
      "890     3.0  32.0\n",
      "\n",
      "[891 rows x 2 columns]\n"
     ]
    }
   ],
   "source": [
    "# Unstack the result back into a DataFrame\n",
    "unstacked = stacked.unstack()\n",
    "print(\"After unstacking:\")\n",
    "print(unstacked)"
   ]
  },
  {
   "cell_type": "markdown",
   "id": "e5b550b9-2163-49f7-8f7d-c7b81a01f154",
   "metadata": {},
   "source": [
    "# Dealing with sparse date :\n",
    "handling columns with many missing or zero values\n",
    "\n",
    "1.**Drop Sparse Columns**:If a column has a high proportion of missing or zero values, it won't be useful for analysis or model so can remove these columns.\n",
    "\n",
    "2.**sparse format**:Sparse formats (sparse representations) store only the non-zero and non-null values in a dataset,\n",
    "the memory does not store any information about zeros or missing data, either as values or as indices.\n",
    "it keeps track of the locations of these values, but does not explicitly store them in memory\n"
   ]
  },
  {
   "cell_type": "code",
   "execution_count": 97,
   "id": "1d5b54c2-cc61-4397-aad4-33dbba55e176",
   "metadata": {},
   "outputs": [
    {
     "name": "stdout",
     "output_type": "stream",
     "text": [
      "<class 'pandas.core.frame.DataFrame'>\n",
      "RangeIndex: 891 entries, 0 to 890\n",
      "Data columns (total 12 columns):\n",
      " #   Column       Non-Null Count  Dtype              \n",
      "---  ------       --------------  -----              \n",
      " 0   PassengerId  891 non-null    int64              \n",
      " 1   Survived     891 non-null    int64              \n",
      " 2   Pclass       891 non-null    int64              \n",
      " 3   Name         891 non-null    object             \n",
      " 4   Sex          891 non-null    object             \n",
      " 5   Age          714 non-null    float64            \n",
      " 6   SibSp        891 non-null    int64              \n",
      " 7   Parch        891 non-null    int64              \n",
      " 8   Ticket       891 non-null    object             \n",
      " 9   Fare         891 non-null    float64            \n",
      " 10  Cabin        1 non-null      Sparse[object, nan]\n",
      " 11  Embarked     889 non-null    object             \n",
      "dtypes: Sparse[object, nan](1), float64(2), int64(5), object(4)\n",
      "memory usage: 79.1+ KB\n"
     ]
    },
    {
     "name": "stderr",
     "output_type": "stream",
     "text": [
      "C:\\Users\\rowaida.montaser\\AppData\\Local\\Temp\\ipykernel_23036\\2580278684.py:5: FutureWarning: Allowing arbitrary scalar fill_value in SparseDtype is deprecated. In a future version, the fill_value must be a valid value for the SparseDtype.subtype.\n",
      "  data_copy3.info()\n"
     ]
    }
   ],
   "source": [
    "#data_copy3['Cabin'] = data_copy3['Cabin'].replace({np.nan: None})\n",
    "\n",
    "# Convert Cabin column to sparse type with appropriate fill_value\n",
    "data_copy3['Cabin'] = pd.arrays.SparseArray(data_copy3['Cabin'])\n",
    "data_copy3.info()\n",
    "\n",
    "#data_copy3['Cabin'] = data_copy3['Cabin'].astype(pd.SparseDtype('str', fill_value=''))"
   ]
  },
  {
   "cell_type": "code",
   "execution_count": 99,
   "id": "70627294-184b-4c31-9287-0a06f34ed26f",
   "metadata": {},
   "outputs": [
    {
     "name": "stderr",
     "output_type": "stream",
     "text": [
      "C:\\Users\\rowaida.montaser\\AppData\\Local\\Temp\\ipykernel_23036\\2252457782.py:5: FutureWarning: Allowing arbitrary scalar fill_value in SparseDtype is deprecated. In a future version, the fill_value must be a valid value for the SparseDtype.subtype.\n",
      "  data_copy3.dropna(axis=1, thresh=int(0.8*len(data_copy3)),inplace=True)\n"
     ]
    },
    {
     "data": {
      "text/html": [
       "<div>\n",
       "<style scoped>\n",
       "    .dataframe tbody tr th:only-of-type {\n",
       "        vertical-align: middle;\n",
       "    }\n",
       "\n",
       "    .dataframe tbody tr th {\n",
       "        vertical-align: top;\n",
       "    }\n",
       "\n",
       "    .dataframe thead th {\n",
       "        text-align: right;\n",
       "    }\n",
       "</style>\n",
       "<table border=\"1\" class=\"dataframe\">\n",
       "  <thead>\n",
       "    <tr style=\"text-align: right;\">\n",
       "      <th></th>\n",
       "      <th>PassengerId</th>\n",
       "      <th>Survived</th>\n",
       "      <th>Pclass</th>\n",
       "      <th>Name</th>\n",
       "      <th>Sex</th>\n",
       "      <th>Age</th>\n",
       "      <th>SibSp</th>\n",
       "      <th>Parch</th>\n",
       "      <th>Ticket</th>\n",
       "      <th>Fare</th>\n",
       "      <th>Embarked</th>\n",
       "    </tr>\n",
       "  </thead>\n",
       "  <tbody>\n",
       "    <tr>\n",
       "      <th>0</th>\n",
       "      <td>1</td>\n",
       "      <td>0</td>\n",
       "      <td>3</td>\n",
       "      <td>Braund, Mr. Owen Harris</td>\n",
       "      <td>male</td>\n",
       "      <td>22.0</td>\n",
       "      <td>1</td>\n",
       "      <td>0</td>\n",
       "      <td>A/5 21171</td>\n",
       "      <td>7.2500</td>\n",
       "      <td>S</td>\n",
       "    </tr>\n",
       "    <tr>\n",
       "      <th>1</th>\n",
       "      <td>2</td>\n",
       "      <td>1</td>\n",
       "      <td>1</td>\n",
       "      <td>Cumings, Mrs. John Bradley (Florence Briggs Th...</td>\n",
       "      <td>female</td>\n",
       "      <td>38.0</td>\n",
       "      <td>1</td>\n",
       "      <td>0</td>\n",
       "      <td>PC 17599</td>\n",
       "      <td>71.2833</td>\n",
       "      <td>C</td>\n",
       "    </tr>\n",
       "    <tr>\n",
       "      <th>2</th>\n",
       "      <td>3</td>\n",
       "      <td>1</td>\n",
       "      <td>3</td>\n",
       "      <td>Heikkinen, Miss. Laina</td>\n",
       "      <td>female</td>\n",
       "      <td>26.0</td>\n",
       "      <td>0</td>\n",
       "      <td>0</td>\n",
       "      <td>STON/O2. 3101282</td>\n",
       "      <td>7.9250</td>\n",
       "      <td>S</td>\n",
       "    </tr>\n",
       "    <tr>\n",
       "      <th>3</th>\n",
       "      <td>4</td>\n",
       "      <td>1</td>\n",
       "      <td>1</td>\n",
       "      <td>Futrelle, Mrs. Jacques Heath (Lily May Peel)</td>\n",
       "      <td>female</td>\n",
       "      <td>35.0</td>\n",
       "      <td>1</td>\n",
       "      <td>0</td>\n",
       "      <td>113803</td>\n",
       "      <td>53.1000</td>\n",
       "      <td>S</td>\n",
       "    </tr>\n",
       "    <tr>\n",
       "      <th>4</th>\n",
       "      <td>5</td>\n",
       "      <td>0</td>\n",
       "      <td>3</td>\n",
       "      <td>Allen, Mr. William Henry</td>\n",
       "      <td>male</td>\n",
       "      <td>35.0</td>\n",
       "      <td>0</td>\n",
       "      <td>0</td>\n",
       "      <td>373450</td>\n",
       "      <td>8.0500</td>\n",
       "      <td>S</td>\n",
       "    </tr>\n",
       "    <tr>\n",
       "      <th>...</th>\n",
       "      <td>...</td>\n",
       "      <td>...</td>\n",
       "      <td>...</td>\n",
       "      <td>...</td>\n",
       "      <td>...</td>\n",
       "      <td>...</td>\n",
       "      <td>...</td>\n",
       "      <td>...</td>\n",
       "      <td>...</td>\n",
       "      <td>...</td>\n",
       "      <td>...</td>\n",
       "    </tr>\n",
       "    <tr>\n",
       "      <th>886</th>\n",
       "      <td>887</td>\n",
       "      <td>0</td>\n",
       "      <td>2</td>\n",
       "      <td>Montvila, Rev. Juozas</td>\n",
       "      <td>male</td>\n",
       "      <td>27.0</td>\n",
       "      <td>0</td>\n",
       "      <td>0</td>\n",
       "      <td>211536</td>\n",
       "      <td>13.0000</td>\n",
       "      <td>S</td>\n",
       "    </tr>\n",
       "    <tr>\n",
       "      <th>887</th>\n",
       "      <td>888</td>\n",
       "      <td>1</td>\n",
       "      <td>1</td>\n",
       "      <td>Graham, Miss. Margaret Edith</td>\n",
       "      <td>female</td>\n",
       "      <td>19.0</td>\n",
       "      <td>0</td>\n",
       "      <td>0</td>\n",
       "      <td>112053</td>\n",
       "      <td>30.0000</td>\n",
       "      <td>S</td>\n",
       "    </tr>\n",
       "    <tr>\n",
       "      <th>888</th>\n",
       "      <td>889</td>\n",
       "      <td>0</td>\n",
       "      <td>3</td>\n",
       "      <td>Johnston, Miss. Catherine Helen \"Carrie\"</td>\n",
       "      <td>female</td>\n",
       "      <td>NaN</td>\n",
       "      <td>1</td>\n",
       "      <td>2</td>\n",
       "      <td>W./C. 6607</td>\n",
       "      <td>23.4500</td>\n",
       "      <td>S</td>\n",
       "    </tr>\n",
       "    <tr>\n",
       "      <th>889</th>\n",
       "      <td>890</td>\n",
       "      <td>1</td>\n",
       "      <td>1</td>\n",
       "      <td>Behr, Mr. Karl Howell</td>\n",
       "      <td>male</td>\n",
       "      <td>26.0</td>\n",
       "      <td>0</td>\n",
       "      <td>0</td>\n",
       "      <td>111369</td>\n",
       "      <td>30.0000</td>\n",
       "      <td>C</td>\n",
       "    </tr>\n",
       "    <tr>\n",
       "      <th>890</th>\n",
       "      <td>891</td>\n",
       "      <td>0</td>\n",
       "      <td>3</td>\n",
       "      <td>Dooley, Mr. Patrick</td>\n",
       "      <td>male</td>\n",
       "      <td>32.0</td>\n",
       "      <td>0</td>\n",
       "      <td>0</td>\n",
       "      <td>370376</td>\n",
       "      <td>7.7500</td>\n",
       "      <td>Q</td>\n",
       "    </tr>\n",
       "  </tbody>\n",
       "</table>\n",
       "<p>891 rows × 11 columns</p>\n",
       "</div>"
      ],
      "text/plain": [
       "     PassengerId  Survived  Pclass  \\\n",
       "0              1         0       3   \n",
       "1              2         1       1   \n",
       "2              3         1       3   \n",
       "3              4         1       1   \n",
       "4              5         0       3   \n",
       "..           ...       ...     ...   \n",
       "886          887         0       2   \n",
       "887          888         1       1   \n",
       "888          889         0       3   \n",
       "889          890         1       1   \n",
       "890          891         0       3   \n",
       "\n",
       "                                                  Name     Sex   Age  SibSp  \\\n",
       "0                              Braund, Mr. Owen Harris    male  22.0      1   \n",
       "1    Cumings, Mrs. John Bradley (Florence Briggs Th...  female  38.0      1   \n",
       "2                               Heikkinen, Miss. Laina  female  26.0      0   \n",
       "3         Futrelle, Mrs. Jacques Heath (Lily May Peel)  female  35.0      1   \n",
       "4                             Allen, Mr. William Henry    male  35.0      0   \n",
       "..                                                 ...     ...   ...    ...   \n",
       "886                              Montvila, Rev. Juozas    male  27.0      0   \n",
       "887                       Graham, Miss. Margaret Edith  female  19.0      0   \n",
       "888           Johnston, Miss. Catherine Helen \"Carrie\"  female   NaN      1   \n",
       "889                              Behr, Mr. Karl Howell    male  26.0      0   \n",
       "890                                Dooley, Mr. Patrick    male  32.0      0   \n",
       "\n",
       "     Parch            Ticket     Fare Embarked  \n",
       "0        0         A/5 21171   7.2500        S  \n",
       "1        0          PC 17599  71.2833        C  \n",
       "2        0  STON/O2. 3101282   7.9250        S  \n",
       "3        0            113803  53.1000        S  \n",
       "4        0            373450   8.0500        S  \n",
       "..     ...               ...      ...      ...  \n",
       "886      0            211536  13.0000        S  \n",
       "887      0            112053  30.0000        S  \n",
       "888      2        W./C. 6607  23.4500        S  \n",
       "889      0            111369  30.0000        C  \n",
       "890      0            370376   7.7500        Q  \n",
       "\n",
       "[891 rows x 11 columns]"
      ]
     },
     "execution_count": 99,
     "metadata": {},
     "output_type": "execute_result"
    }
   ],
   "source": [
    "#The thresh(threshold) parameter specifies the minimum number of non-null (non-missing) values required to keep a column,\n",
    "#the common percentages are 80%,90%,70% ,increase the thresh with the important features you want to keep them\n",
    "\n",
    "#drop any column in the Data  that has fewer than 80% non-null values\n",
    "data_copy3.dropna(axis=1, thresh=int(0.8*len(data_copy3)),inplace=True)\n",
    "data_copy3"
   ]
  },
  {
   "cell_type": "code",
   "execution_count": null,
   "id": "d00a72ce-6ad6-49b7-ab28-e27c1bb62c5e",
   "metadata": {},
   "outputs": [],
   "source": []
  },
  {
   "cell_type": "markdown",
   "id": "661d1f1b-cb8f-4c8d-a417-8c0bd605b5a5",
   "metadata": {},
   "source": [
    "# Type casting\n",
    "type casting is the process of changing the data type of a column to a more appropriate or efficient type to improve memory usage.\n",
    "\n",
    "**Float to Integer:**\n",
    "when the precision of a float isn't necessary, and values can be rounded or truncated without losing significant information\n",
    "(converting ages or income).\n",
    "\n",
    "**Object/String to Category:**\n",
    "Converting string/object data types to categorical types(like \"sex\" \"Eembarked\")helps save memory.\n",
    "\n",
    "**Object/Date to DateTime:**\n",
    "Date strings should be converted to datetime types to enable easy manipulation (extracting day, month, year).\n",
    "\n",
    "**Binary Columns to Boolean:**\n",
    "Converting binary columns (0/1 or True/False) to boolean types (T/F)can make logical operations faster and save memory.\n",
    "\n",
    "\n"
   ]
  },
  {
   "cell_type": "code",
   "execution_count": 42,
   "id": "de17cbb5-c5ca-4a1c-9e1c-19d04335aab1",
   "metadata": {},
   "outputs": [],
   "source": [
    "#Convert categorical columns to 'category' type\n",
    "data_copy3['Sex'] = data_copy3['Sex'].astype('category')\n",
    "data_copy3['Embarked'] = data_copy3['Embarked'].astype('category')\n",
    "#convert binary column to boolean\n",
    "data_copy3['Survived'] = data_copy3['Survived'].astype('bool')"
   ]
  },
  {
   "cell_type": "code",
   "execution_count": 44,
   "id": "e09d2808-83e5-4dc7-af68-9bbd38c40547",
   "metadata": {},
   "outputs": [
    {
     "name": "stdout",
     "output_type": "stream",
     "text": [
      "<class 'pandas.core.frame.DataFrame'>\n",
      "RangeIndex: 891 entries, 0 to 890\n",
      "Data columns (total 12 columns):\n",
      " #   Column       Non-Null Count  Dtype   \n",
      "---  ------       --------------  -----   \n",
      " 0   PassengerId  891 non-null    int64   \n",
      " 1   Survived     891 non-null    bool    \n",
      " 2   Pclass       891 non-null    int64   \n",
      " 3   Name         891 non-null    object  \n",
      " 4   Sex          891 non-null    category\n",
      " 5   Age          714 non-null    float64 \n",
      " 6   SibSp        891 non-null    int64   \n",
      " 7   Parch        891 non-null    int64   \n",
      " 8   Ticket       891 non-null    object  \n",
      " 9   Fare         891 non-null    float64 \n",
      " 10  Cabin        204 non-null    object  \n",
      " 11  Embarked     889 non-null    category\n",
      "dtypes: bool(1), category(2), float64(2), int64(4), object(3)\n",
      "memory usage: 65.6+ KB\n"
     ]
    }
   ],
   "source": [
    "data_copy3.info()"
   ]
  },
  {
   "cell_type": "markdown",
   "id": "cb43bde6-413f-41c6-966b-e180465a036b",
   "metadata": {},
   "source": [
    "# Data Merging and Joining"
   ]
  },
  {
   "cell_type": "code",
   "execution_count": 200,
   "id": "b16075ab-ac71-4ffa-92bc-8b84463f3cd3",
   "metadata": {},
   "outputs": [
    {
     "name": "stdout",
     "output_type": "stream",
     "text": [
      "Titanic DataFrame:\n",
      "   PassengerId        Name  Pclass  Age  Survived\n",
      "0            1    John Doe       1   22         1\n",
      "1            2  Jane Smith       2   25         0\n",
      "2            3   Jim Brown       1   24         1\n",
      "3            4  Jake White       3   30         0\n",
      "4            5  Jill Green       2   28         1\n",
      "5            6      rowida       6   77         0\n",
      "\n",
      "passengers_data DataFrame:\n",
      "   PassengerId  Gender Nationality  Fare\n",
      "0            1    male         USA   100\n",
      "1            2  female          UK    50\n",
      "2            3    male         USA   120\n",
      "3            4    male      Canada    30\n",
      "4            5  female   Australia    75\n",
      "5            7  female       cairo     2\n",
      "\n",
      "Merged DataFrame:\n"
     ]
    },
    {
     "data": {
      "text/html": [
       "<div>\n",
       "<style scoped>\n",
       "    .dataframe tbody tr th:only-of-type {\n",
       "        vertical-align: middle;\n",
       "    }\n",
       "\n",
       "    .dataframe tbody tr th {\n",
       "        vertical-align: top;\n",
       "    }\n",
       "\n",
       "    .dataframe thead th {\n",
       "        text-align: right;\n",
       "    }\n",
       "</style>\n",
       "<table border=\"1\" class=\"dataframe\">\n",
       "  <thead>\n",
       "    <tr style=\"text-align: right;\">\n",
       "      <th></th>\n",
       "      <th>PassengerId</th>\n",
       "      <th>Name</th>\n",
       "      <th>Pclass</th>\n",
       "      <th>Age</th>\n",
       "      <th>Survived</th>\n",
       "      <th>Gender</th>\n",
       "      <th>Nationality</th>\n",
       "      <th>Fare</th>\n",
       "    </tr>\n",
       "  </thead>\n",
       "  <tbody>\n",
       "    <tr>\n",
       "      <th>0</th>\n",
       "      <td>1</td>\n",
       "      <td>John Doe</td>\n",
       "      <td>1</td>\n",
       "      <td>22</td>\n",
       "      <td>1</td>\n",
       "      <td>male</td>\n",
       "      <td>USA</td>\n",
       "      <td>100</td>\n",
       "    </tr>\n",
       "    <tr>\n",
       "      <th>1</th>\n",
       "      <td>2</td>\n",
       "      <td>Jane Smith</td>\n",
       "      <td>2</td>\n",
       "      <td>25</td>\n",
       "      <td>0</td>\n",
       "      <td>female</td>\n",
       "      <td>UK</td>\n",
       "      <td>50</td>\n",
       "    </tr>\n",
       "    <tr>\n",
       "      <th>2</th>\n",
       "      <td>3</td>\n",
       "      <td>Jim Brown</td>\n",
       "      <td>1</td>\n",
       "      <td>24</td>\n",
       "      <td>1</td>\n",
       "      <td>male</td>\n",
       "      <td>USA</td>\n",
       "      <td>120</td>\n",
       "    </tr>\n",
       "    <tr>\n",
       "      <th>3</th>\n",
       "      <td>4</td>\n",
       "      <td>Jake White</td>\n",
       "      <td>3</td>\n",
       "      <td>30</td>\n",
       "      <td>0</td>\n",
       "      <td>male</td>\n",
       "      <td>Canada</td>\n",
       "      <td>30</td>\n",
       "    </tr>\n",
       "    <tr>\n",
       "      <th>4</th>\n",
       "      <td>5</td>\n",
       "      <td>Jill Green</td>\n",
       "      <td>2</td>\n",
       "      <td>28</td>\n",
       "      <td>1</td>\n",
       "      <td>female</td>\n",
       "      <td>Australia</td>\n",
       "      <td>75</td>\n",
       "    </tr>\n",
       "  </tbody>\n",
       "</table>\n",
       "</div>"
      ],
      "text/plain": [
       "   PassengerId        Name  Pclass  Age  Survived  Gender Nationality  Fare\n",
       "0            1    John Doe       1   22         1    male         USA   100\n",
       "1            2  Jane Smith       2   25         0  female          UK    50\n",
       "2            3   Jim Brown       1   24         1    male         USA   120\n",
       "3            4  Jake White       3   30         0    male      Canada    30\n",
       "4            5  Jill Green       2   28         1  female   Australia    75"
      ]
     },
     "execution_count": 200,
     "metadata": {},
     "output_type": "execute_result"
    }
   ],
   "source": [
    "# Merge the DataFrames on 'PassengerId'\n",
    "titanic_data = {\n",
    "    'PassengerId': [1, 2, 3, 4, 5,6],\n",
    "    'Name': ['John Doe', 'Jane Smith', 'Jim Brown', 'Jake White', 'Jill Green',\"rowida\"],\n",
    "    'Pclass': [1, 2, 1, 3, 2,6],\n",
    "    'Age': [22, 25, 24, 30, 28,77],\n",
    "    'Survived': [1, 0, 1, 0, 1,0]\n",
    "}\n",
    "titanic_df = pd.DataFrame(titanic_data)\n",
    "\n",
    "passengers_data = {\n",
    "    'PassengerId': [1, 2, 3, 4, 5,7],\n",
    "    'Gender': ['male', 'female', 'male', 'male', 'female',\"female\"],\n",
    "    'Nationality': ['USA', 'UK', 'USA', 'Canada', 'Australia',\"cairo\"],\n",
    "    'Fare': [100, 50, 120, 30, 75,2]\n",
    "}\n",
    "passengers_data = pd.DataFrame(passengers_data)\n",
    "\n",
    "print(\"Titanic DataFrame:\")\n",
    "print(titanic_df)\n",
    "\n",
    "print(\"\\npassengers_data DataFrame:\")\n",
    "print(passengers_data)\n",
    "\n",
    "#Only the rows with PassengerId values that exist in both are included in the merged_df.\n",
    "merged_df = pd.merge(titanic_df, passengers_data, on='PassengerId', how='inner') \n",
    "\n",
    "print(\"\\nMerged DataFrame:\")\n",
    "merged_df\n"
   ]
  },
  {
   "cell_type": "markdown",
   "id": "fe5c7d4e-045f-4e52-86f8-1b3abb61a199",
   "metadata": {},
   "source": [
    "# Handling string data\n"
   ]
  },
  {
   "cell_type": "code",
   "execution_count": 7,
   "id": "4b78fe0a-d3e9-419e-bb8a-1a2300c185fa",
   "metadata": {},
   "outputs": [
    {
     "name": "stdout",
     "output_type": "stream",
     "text": [
      "                 Name        Position    Department  Hire Date   Salary\n",
      "0    Mr.Alice Johnson         Manager         Sales 2021-01-15  $50,000\n",
      "1        Mr.Bob Smith       developer   Engineering 2020-07-23  $60,000\n",
      "2   Mrs.Charlie Brown       Developer   Engineering 2019-11-12  $60,000\n",
      "3         Mr.Dana Lee  Data Scientist  Data Science 2022-02-28  $70,000\n",
      "4       Mrs.Eve White         Analyst       Finance 2018-09-05  $55,000\n"
     ]
    }
   ],
   "source": [
    "data = {\n",
    "    'Name': [' Mr.Alice Johnson',' Mr.Bob Smith',' Mrs.Charlie Brown',' Mr.Dana Lee',' Mrs.Eve White'],\n",
    "    'Position': ['Manager', 'developer', 'Developer', 'Data Scientist', 'Analyst'],\n",
    "    'Department': ['Sales', 'Engineering', 'Engineering', 'Data Science', 'Finance'],\n",
    "    'Hire Date': ['2021-01-15', '2020-07-23', '2019-11-12', '2022-02-28', '2018-09-05'],\n",
    "    'Salary': ['$50,000', '$60,000', '$60,000', '$70,000', '$55,000']\n",
    "}\n",
    "\n",
    "df = pd.DataFrame(data)\n",
    "\n",
    "# Convert 'Hire Date' to datetime\n",
    "df['Hire Date'] = pd.to_datetime(df['Hire Date'])\n",
    "print(df)\n"
   ]
  },
  {
   "cell_type": "code",
   "execution_count": 9,
   "id": "5486dd61-a310-45cd-8769-bdc62a719094",
   "metadata": {},
   "outputs": [
    {
     "name": "stdout",
     "output_type": "stream",
     "text": [
      "                 Name        Position    Department  Hire Date   Salary Title\n",
      "0    Mr.Alice Johnson         Manager         Sales 2021-01-15  $50,000    Mr\n",
      "1        Mr.Bob Smith       developer   Engineering 2020-07-23  $60,000    Mr\n",
      "2   Mrs.Charlie Brown       Developer   Engineering 2019-11-12  $60,000   Mrs\n",
      "3         Mr.Dana Lee  Data Scientist  Data Science 2022-02-28  $70,000    Mr\n",
      "4       Mrs.Eve White         Analyst       Finance 2018-09-05  $55,000   Mrs\n"
     ]
    }
   ],
   "source": [
    "# Extract title using str.extract with a regular expression\n",
    "df['Title'] = df['Name'].str.extract(r' ([A-Za-z]+)\\.', expand=False)# Extract title from name\n",
    "print(df)"
   ]
  },
  {
   "cell_type": "markdown",
   "id": "002dc127-11cf-44e3-92c8-2273d73eb3c9",
   "metadata": {},
   "source": [
    "# 1.Cleaning Whitespaces:"
   ]
  },
  {
   "cell_type": "code",
   "execution_count": 11,
   "id": "c237caf8-13a7-40e2-898e-83cfb22be3f4",
   "metadata": {},
   "outputs": [
    {
     "name": "stdout",
     "output_type": "stream",
     "text": [
      "                Name        Position    Department  Hire Date   Salary Title\n",
      "0   Mr.Alice Johnson         Manager         Sales 2021-01-15  $50,000    Mr\n",
      "1       Mr.Bob Smith       developer   Engineering 2020-07-23  $60,000    Mr\n",
      "2  Mrs.Charlie Brown       Developer   Engineering 2019-11-12  $60,000   Mrs\n",
      "3        Mr.Dana Lee  Data Scientist  Data Science 2022-02-28  $70,000    Mr\n",
      "4      Mrs.Eve White         Analyst       Finance 2018-09-05  $55,000   Mrs\n"
     ]
    }
   ],
   "source": [
    "#again to remove any leading or trailing spaces left.\n",
    "df['Name'] = df['Name'].str.strip()\n",
    "print(df)"
   ]
  },
  {
   "cell_type": "markdown",
   "id": "e3cfb82d-c0d8-41e5-894a-6dca779d6d5e",
   "metadata": {},
   "source": [
    "# 2.Converting to Lowercase"
   ]
  },
  {
   "cell_type": "code",
   "execution_count": 13,
   "id": "b0b83fde-b620-4ed6-929f-31155ab0fbd4",
   "metadata": {},
   "outputs": [
    {
     "name": "stdout",
     "output_type": "stream",
     "text": [
      "                Name        Position    Department  Hire Date   Salary Title\n",
      "0   Mr.Alice Johnson         manager         Sales 2021-01-15  $50,000    Mr\n",
      "1       Mr.Bob Smith       developer   Engineering 2020-07-23  $60,000    Mr\n",
      "2  Mrs.Charlie Brown       developer   Engineering 2019-11-12  $60,000   Mrs\n",
      "3        Mr.Dana Lee  data scientist  Data Science 2022-02-28  $70,000    Mr\n",
      "4      Mrs.Eve White         analyst       Finance 2018-09-05  $55,000   Mrs\n"
     ]
    }
   ],
   "source": [
    "df['Position'] = df['Position'].str.lower()\n",
    "print(df)"
   ]
  },
  {
   "cell_type": "markdown",
   "id": "620dc55d-adee-4915-b3f9-3ae125cd49df",
   "metadata": {},
   "source": [
    "# 3.Replacing Values:"
   ]
  },
  {
   "cell_type": "code",
   "execution_count": 19,
   "id": "95e0ca34-d7a5-4820-a65a-5eae24f7e25b",
   "metadata": {},
   "outputs": [
    {
     "name": "stdout",
     "output_type": "stream",
     "text": [
      "                Name        Position    Department  Hire Date   Salary Title\n",
      "0   Mr.Alice Johnson         manager         Sales 2021-01-15  $50,000    Mr\n",
      "1       Mr.Bob Smith       Developer   Engineering 2020-07-23  $60,000    Mr\n",
      "2  Mrs.Charlie Brown       Developer   Engineering 2019-11-12  $60,000   Mrs\n",
      "3        Mr.Dana Lee  data scientist  Data Science 2022-02-28  $70,000    Mr\n",
      "4      Mrs.Eve White         analyst       Finance 2018-09-05  $55,000   Mrs\n"
     ]
    }
   ],
   "source": [
    "df['Position'] = df['Position'].replace({'developer': 'Developer'})\n",
    "print(df)"
   ]
  },
  {
   "cell_type": "markdown",
   "id": "9e0b63ae-0806-459b-a3ce-371cefcf192f",
   "metadata": {},
   "source": [
    "# 4.Removing Special Characters"
   ]
  },
  {
   "cell_type": "code",
   "execution_count": 22,
   "id": "ae7b6a85-f950-4bc4-90ed-a5d56fa0bd19",
   "metadata": {},
   "outputs": [
    {
     "name": "stdout",
     "output_type": "stream",
     "text": [
      "                Name        Position    Department  Hire Date   Salary Title\n",
      "0   Mr.Alice Johnson         manager         Sales 2021-01-15  50000.0    Mr\n",
      "1       Mr.Bob Smith       Developer   Engineering 2020-07-23  60000.0    Mr\n",
      "2  Mrs.Charlie Brown       Developer   Engineering 2019-11-12  60000.0   Mrs\n",
      "3        Mr.Dana Lee  data scientist  Data Science 2022-02-28  70000.0    Mr\n",
      "4      Mrs.Eve White         analyst       Finance 2018-09-05  55000.0   Mrs\n"
     ]
    }
   ],
   "source": [
    "df['Salary'] = df['Salary'].str.replace(r'[\\$,]', '', regex=True).astype(float)\n",
    "print(df)"
   ]
  },
  {
   "cell_type": "markdown",
   "id": "adc8c124-ecdb-4166-bbf2-3e937b67c6aa",
   "metadata": {},
   "source": [
    "# Handling Date"
   ]
  },
  {
   "cell_type": "markdown",
   "id": "62f77cc2-b314-423c-8174-e051f354fc7f",
   "metadata": {},
   "source": [
    "# Extracting Year, Month, Day from Hire Date:"
   ]
  },
  {
   "cell_type": "code",
   "execution_count": 30,
   "id": "17856ad5-ef31-4849-b162-377be7682e05",
   "metadata": {},
   "outputs": [
    {
     "data": {
      "text/html": [
       "<div>\n",
       "<style scoped>\n",
       "    .dataframe tbody tr th:only-of-type {\n",
       "        vertical-align: middle;\n",
       "    }\n",
       "\n",
       "    .dataframe tbody tr th {\n",
       "        vertical-align: top;\n",
       "    }\n",
       "\n",
       "    .dataframe thead th {\n",
       "        text-align: right;\n",
       "    }\n",
       "</style>\n",
       "<table border=\"1\" class=\"dataframe\">\n",
       "  <thead>\n",
       "    <tr style=\"text-align: right;\">\n",
       "      <th></th>\n",
       "      <th>Name</th>\n",
       "      <th>Position</th>\n",
       "      <th>Department</th>\n",
       "      <th>Hire Date</th>\n",
       "      <th>Salary</th>\n",
       "      <th>Title</th>\n",
       "      <th>Year</th>\n",
       "      <th>Month</th>\n",
       "      <th>Day</th>\n",
       "    </tr>\n",
       "  </thead>\n",
       "  <tbody>\n",
       "    <tr>\n",
       "      <th>0</th>\n",
       "      <td>Mr.Alice Johnson</td>\n",
       "      <td>manager</td>\n",
       "      <td>Sales</td>\n",
       "      <td>2021-01-15</td>\n",
       "      <td>50000.0</td>\n",
       "      <td>Mr</td>\n",
       "      <td>2021</td>\n",
       "      <td>1</td>\n",
       "      <td>15</td>\n",
       "    </tr>\n",
       "    <tr>\n",
       "      <th>1</th>\n",
       "      <td>Mr.Bob Smith</td>\n",
       "      <td>Developer</td>\n",
       "      <td>Engineering</td>\n",
       "      <td>2020-07-23</td>\n",
       "      <td>60000.0</td>\n",
       "      <td>Mr</td>\n",
       "      <td>2020</td>\n",
       "      <td>7</td>\n",
       "      <td>23</td>\n",
       "    </tr>\n",
       "    <tr>\n",
       "      <th>2</th>\n",
       "      <td>Mrs.Charlie Brown</td>\n",
       "      <td>Developer</td>\n",
       "      <td>Engineering</td>\n",
       "      <td>2019-11-12</td>\n",
       "      <td>60000.0</td>\n",
       "      <td>Mrs</td>\n",
       "      <td>2019</td>\n",
       "      <td>11</td>\n",
       "      <td>12</td>\n",
       "    </tr>\n",
       "    <tr>\n",
       "      <th>3</th>\n",
       "      <td>Mr.Dana Lee</td>\n",
       "      <td>data scientist</td>\n",
       "      <td>Data Science</td>\n",
       "      <td>2022-02-28</td>\n",
       "      <td>70000.0</td>\n",
       "      <td>Mr</td>\n",
       "      <td>2022</td>\n",
       "      <td>2</td>\n",
       "      <td>28</td>\n",
       "    </tr>\n",
       "    <tr>\n",
       "      <th>4</th>\n",
       "      <td>Mrs.Eve White</td>\n",
       "      <td>analyst</td>\n",
       "      <td>Finance</td>\n",
       "      <td>2018-09-05</td>\n",
       "      <td>55000.0</td>\n",
       "      <td>Mrs</td>\n",
       "      <td>2018</td>\n",
       "      <td>9</td>\n",
       "      <td>5</td>\n",
       "    </tr>\n",
       "  </tbody>\n",
       "</table>\n",
       "</div>"
      ],
      "text/plain": [
       "                Name        Position    Department  Hire Date   Salary Title  \\\n",
       "0   Mr.Alice Johnson         manager         Sales 2021-01-15  50000.0    Mr   \n",
       "1       Mr.Bob Smith       Developer   Engineering 2020-07-23  60000.0    Mr   \n",
       "2  Mrs.Charlie Brown       Developer   Engineering 2019-11-12  60000.0   Mrs   \n",
       "3        Mr.Dana Lee  data scientist  Data Science 2022-02-28  70000.0    Mr   \n",
       "4      Mrs.Eve White         analyst       Finance 2018-09-05  55000.0   Mrs   \n",
       "\n",
       "   Year  Month  Day  \n",
       "0  2021      1   15  \n",
       "1  2020      7   23  \n",
       "2  2019     11   12  \n",
       "3  2022      2   28  \n",
       "4  2018      9    5  "
      ]
     },
     "execution_count": 30,
     "metadata": {},
     "output_type": "execute_result"
    }
   ],
   "source": [
    "df['Year'] = df['Hire Date'].dt.year\n",
    "df['Month'] = df['Hire Date'].dt.month\n",
    "df['Day'] = df['Hire Date'].dt.day\n",
    "df"
   ]
  },
  {
   "cell_type": "markdown",
   "id": "901a0ae9-785a-41a0-9f92-9772a6ea23eb",
   "metadata": {},
   "source": [
    "# Calculating Tenure in Days:\n",
    "the total calendar days between the hire date and today’s date"
   ]
  },
  {
   "cell_type": "markdown",
   "id": "c2146f7c-a0ea-4890-9e23-284ba90f0bef",
   "metadata": {},
   "source": [
    "# filter data by date range:"
   ]
  },
  {
   "cell_type": "code",
   "execution_count": 34,
   "id": "2753e4aa-0cc5-4b8f-b97e-7bbd8182f951",
   "metadata": {},
   "outputs": [
    {
     "data": {
      "text/html": [
       "<div>\n",
       "<style scoped>\n",
       "    .dataframe tbody tr th:only-of-type {\n",
       "        vertical-align: middle;\n",
       "    }\n",
       "\n",
       "    .dataframe tbody tr th {\n",
       "        vertical-align: top;\n",
       "    }\n",
       "\n",
       "    .dataframe thead th {\n",
       "        text-align: right;\n",
       "    }\n",
       "</style>\n",
       "<table border=\"1\" class=\"dataframe\">\n",
       "  <thead>\n",
       "    <tr style=\"text-align: right;\">\n",
       "      <th></th>\n",
       "      <th>Name</th>\n",
       "      <th>Position</th>\n",
       "      <th>Department</th>\n",
       "      <th>Hire Date</th>\n",
       "      <th>Salary</th>\n",
       "      <th>Title</th>\n",
       "      <th>Year</th>\n",
       "      <th>Month</th>\n",
       "      <th>Day</th>\n",
       "    </tr>\n",
       "  </thead>\n",
       "  <tbody>\n",
       "    <tr>\n",
       "      <th>0</th>\n",
       "      <td>Mr.Alice Johnson</td>\n",
       "      <td>manager</td>\n",
       "      <td>Sales</td>\n",
       "      <td>2021-01-15</td>\n",
       "      <td>50000.0</td>\n",
       "      <td>Mr</td>\n",
       "      <td>2021</td>\n",
       "      <td>1</td>\n",
       "      <td>15</td>\n",
       "    </tr>\n",
       "    <tr>\n",
       "      <th>1</th>\n",
       "      <td>Mr.Bob Smith</td>\n",
       "      <td>Developer</td>\n",
       "      <td>Engineering</td>\n",
       "      <td>2020-07-23</td>\n",
       "      <td>60000.0</td>\n",
       "      <td>Mr</td>\n",
       "      <td>2020</td>\n",
       "      <td>7</td>\n",
       "      <td>23</td>\n",
       "    </tr>\n",
       "    <tr>\n",
       "      <th>3</th>\n",
       "      <td>Mr.Dana Lee</td>\n",
       "      <td>data scientist</td>\n",
       "      <td>Data Science</td>\n",
       "      <td>2022-02-28</td>\n",
       "      <td>70000.0</td>\n",
       "      <td>Mr</td>\n",
       "      <td>2022</td>\n",
       "      <td>2</td>\n",
       "      <td>28</td>\n",
       "    </tr>\n",
       "  </tbody>\n",
       "</table>\n",
       "</div>"
      ],
      "text/plain": [
       "               Name        Position    Department  Hire Date   Salary Title  \\\n",
       "0  Mr.Alice Johnson         manager         Sales 2021-01-15  50000.0    Mr   \n",
       "1      Mr.Bob Smith       Developer   Engineering 2020-07-23  60000.0    Mr   \n",
       "3       Mr.Dana Lee  data scientist  Data Science 2022-02-28  70000.0    Mr   \n",
       "\n",
       "   Year  Month  Day  \n",
       "0  2021      1   15  \n",
       "1  2020      7   23  \n",
       "3  2022      2   28  "
      ]
     },
     "execution_count": 34,
     "metadata": {},
     "output_type": "execute_result"
    }
   ],
   "source": [
    "# Select employees hired after January 1, 2020\n",
    "df_filtered = df[df['Hire Date'] >= '2020-01-01']\n",
    "df_filtered"
   ]
  },
  {
   "cell_type": "markdown",
   "id": "611d715e-7673-4632-99b8-ade81a9b3bd1",
   "metadata": {},
   "source": [
    "# Formatting Dates:"
   ]
  },
  {
   "cell_type": "code",
   "execution_count": 37,
   "id": "b4a50d61-d203-4782-acf2-2063e8642213",
   "metadata": {},
   "outputs": [
    {
     "data": {
      "text/html": [
       "<div>\n",
       "<style scoped>\n",
       "    .dataframe tbody tr th:only-of-type {\n",
       "        vertical-align: middle;\n",
       "    }\n",
       "\n",
       "    .dataframe tbody tr th {\n",
       "        vertical-align: top;\n",
       "    }\n",
       "\n",
       "    .dataframe thead th {\n",
       "        text-align: right;\n",
       "    }\n",
       "</style>\n",
       "<table border=\"1\" class=\"dataframe\">\n",
       "  <thead>\n",
       "    <tr style=\"text-align: right;\">\n",
       "      <th></th>\n",
       "      <th>Name</th>\n",
       "      <th>Position</th>\n",
       "      <th>Department</th>\n",
       "      <th>Hire Date</th>\n",
       "      <th>Salary</th>\n",
       "      <th>Title</th>\n",
       "      <th>Year</th>\n",
       "      <th>Month</th>\n",
       "      <th>Day</th>\n",
       "      <th>Hire Date Formatted</th>\n",
       "    </tr>\n",
       "  </thead>\n",
       "  <tbody>\n",
       "    <tr>\n",
       "      <th>0</th>\n",
       "      <td>Mr.Alice Johnson</td>\n",
       "      <td>manager</td>\n",
       "      <td>Sales</td>\n",
       "      <td>2021-01-15</td>\n",
       "      <td>50000.0</td>\n",
       "      <td>Mr</td>\n",
       "      <td>2021</td>\n",
       "      <td>1</td>\n",
       "      <td>15</td>\n",
       "      <td>01-15-2021</td>\n",
       "    </tr>\n",
       "    <tr>\n",
       "      <th>1</th>\n",
       "      <td>Mr.Bob Smith</td>\n",
       "      <td>Developer</td>\n",
       "      <td>Engineering</td>\n",
       "      <td>2020-07-23</td>\n",
       "      <td>60000.0</td>\n",
       "      <td>Mr</td>\n",
       "      <td>2020</td>\n",
       "      <td>7</td>\n",
       "      <td>23</td>\n",
       "      <td>07-23-2020</td>\n",
       "    </tr>\n",
       "    <tr>\n",
       "      <th>2</th>\n",
       "      <td>Mrs.Charlie Brown</td>\n",
       "      <td>Developer</td>\n",
       "      <td>Engineering</td>\n",
       "      <td>2019-11-12</td>\n",
       "      <td>60000.0</td>\n",
       "      <td>Mrs</td>\n",
       "      <td>2019</td>\n",
       "      <td>11</td>\n",
       "      <td>12</td>\n",
       "      <td>11-12-2019</td>\n",
       "    </tr>\n",
       "    <tr>\n",
       "      <th>3</th>\n",
       "      <td>Mr.Dana Lee</td>\n",
       "      <td>data scientist</td>\n",
       "      <td>Data Science</td>\n",
       "      <td>2022-02-28</td>\n",
       "      <td>70000.0</td>\n",
       "      <td>Mr</td>\n",
       "      <td>2022</td>\n",
       "      <td>2</td>\n",
       "      <td>28</td>\n",
       "      <td>02-28-2022</td>\n",
       "    </tr>\n",
       "    <tr>\n",
       "      <th>4</th>\n",
       "      <td>Mrs.Eve White</td>\n",
       "      <td>analyst</td>\n",
       "      <td>Finance</td>\n",
       "      <td>2018-09-05</td>\n",
       "      <td>55000.0</td>\n",
       "      <td>Mrs</td>\n",
       "      <td>2018</td>\n",
       "      <td>9</td>\n",
       "      <td>5</td>\n",
       "      <td>09-05-2018</td>\n",
       "    </tr>\n",
       "  </tbody>\n",
       "</table>\n",
       "</div>"
      ],
      "text/plain": [
       "                Name        Position    Department  Hire Date   Salary Title  \\\n",
       "0   Mr.Alice Johnson         manager         Sales 2021-01-15  50000.0    Mr   \n",
       "1       Mr.Bob Smith       Developer   Engineering 2020-07-23  60000.0    Mr   \n",
       "2  Mrs.Charlie Brown       Developer   Engineering 2019-11-12  60000.0   Mrs   \n",
       "3        Mr.Dana Lee  data scientist  Data Science 2022-02-28  70000.0    Mr   \n",
       "4      Mrs.Eve White         analyst       Finance 2018-09-05  55000.0   Mrs   \n",
       "\n",
       "   Year  Month  Day Hire Date Formatted  \n",
       "0  2021      1   15          01-15-2021  \n",
       "1  2020      7   23          07-23-2020  \n",
       "2  2019     11   12          11-12-2019  \n",
       "3  2022      2   28          02-28-2022  \n",
       "4  2018      9    5          09-05-2018  "
      ]
     },
     "execution_count": 37,
     "metadata": {},
     "output_type": "execute_result"
    }
   ],
   "source": [
    "# Convert 'Hire Date' to 'Month-Day-Year' format\n",
    "df['Hire Date Formatted'] = df['Hire Date'].dt.strftime('%m-%d-%Y')\n",
    "df"
   ]
  },
  {
   "cell_type": "code",
   "execution_count": 41,
   "id": "eeb8d73e-46a3-488f-a93d-9682dfb87157",
   "metadata": {},
   "outputs": [],
   "source": [
    "# Calculate the days since hire date to today\n",
    "df['Days Since Hire'] = (pd.Timestamp('today') - df['Hire Date']).dt.days\n"
   ]
  },
  {
   "cell_type": "code",
   "execution_count": 43,
   "id": "f80b08a9-8fed-4ec5-9124-cb0c3599ebe4",
   "metadata": {},
   "outputs": [
    {
     "data": {
      "text/html": [
       "<div>\n",
       "<style scoped>\n",
       "    .dataframe tbody tr th:only-of-type {\n",
       "        vertical-align: middle;\n",
       "    }\n",
       "\n",
       "    .dataframe tbody tr th {\n",
       "        vertical-align: top;\n",
       "    }\n",
       "\n",
       "    .dataframe thead th {\n",
       "        text-align: right;\n",
       "    }\n",
       "</style>\n",
       "<table border=\"1\" class=\"dataframe\">\n",
       "  <thead>\n",
       "    <tr style=\"text-align: right;\">\n",
       "      <th></th>\n",
       "      <th>Name</th>\n",
       "      <th>Position</th>\n",
       "      <th>Department</th>\n",
       "      <th>Hire Date</th>\n",
       "      <th>Salary</th>\n",
       "      <th>Title</th>\n",
       "      <th>Year</th>\n",
       "      <th>Month</th>\n",
       "      <th>Day</th>\n",
       "      <th>Hire Date Formatted</th>\n",
       "      <th>Days Since Hire</th>\n",
       "    </tr>\n",
       "  </thead>\n",
       "  <tbody>\n",
       "    <tr>\n",
       "      <th>0</th>\n",
       "      <td>Mr.Alice Johnson</td>\n",
       "      <td>manager</td>\n",
       "      <td>Sales</td>\n",
       "      <td>2021-01-15</td>\n",
       "      <td>50000.0</td>\n",
       "      <td>Mr</td>\n",
       "      <td>2021</td>\n",
       "      <td>1</td>\n",
       "      <td>15</td>\n",
       "      <td>01-15-2021</td>\n",
       "      <td>1402</td>\n",
       "    </tr>\n",
       "    <tr>\n",
       "      <th>1</th>\n",
       "      <td>Mr.Bob Smith</td>\n",
       "      <td>Developer</td>\n",
       "      <td>Engineering</td>\n",
       "      <td>2020-07-23</td>\n",
       "      <td>60000.0</td>\n",
       "      <td>Mr</td>\n",
       "      <td>2020</td>\n",
       "      <td>7</td>\n",
       "      <td>23</td>\n",
       "      <td>07-23-2020</td>\n",
       "      <td>1578</td>\n",
       "    </tr>\n",
       "    <tr>\n",
       "      <th>2</th>\n",
       "      <td>Mrs.Charlie Brown</td>\n",
       "      <td>Developer</td>\n",
       "      <td>Engineering</td>\n",
       "      <td>2019-11-12</td>\n",
       "      <td>60000.0</td>\n",
       "      <td>Mrs</td>\n",
       "      <td>2019</td>\n",
       "      <td>11</td>\n",
       "      <td>12</td>\n",
       "      <td>11-12-2019</td>\n",
       "      <td>1832</td>\n",
       "    </tr>\n",
       "    <tr>\n",
       "      <th>3</th>\n",
       "      <td>Mr.Dana Lee</td>\n",
       "      <td>data scientist</td>\n",
       "      <td>Data Science</td>\n",
       "      <td>2022-02-28</td>\n",
       "      <td>70000.0</td>\n",
       "      <td>Mr</td>\n",
       "      <td>2022</td>\n",
       "      <td>2</td>\n",
       "      <td>28</td>\n",
       "      <td>02-28-2022</td>\n",
       "      <td>993</td>\n",
       "    </tr>\n",
       "    <tr>\n",
       "      <th>4</th>\n",
       "      <td>Mrs.Eve White</td>\n",
       "      <td>analyst</td>\n",
       "      <td>Finance</td>\n",
       "      <td>2018-09-05</td>\n",
       "      <td>55000.0</td>\n",
       "      <td>Mrs</td>\n",
       "      <td>2018</td>\n",
       "      <td>9</td>\n",
       "      <td>5</td>\n",
       "      <td>09-05-2018</td>\n",
       "      <td>2265</td>\n",
       "    </tr>\n",
       "  </tbody>\n",
       "</table>\n",
       "</div>"
      ],
      "text/plain": [
       "                Name        Position    Department  Hire Date   Salary Title  \\\n",
       "0   Mr.Alice Johnson         manager         Sales 2021-01-15  50000.0    Mr   \n",
       "1       Mr.Bob Smith       Developer   Engineering 2020-07-23  60000.0    Mr   \n",
       "2  Mrs.Charlie Brown       Developer   Engineering 2019-11-12  60000.0   Mrs   \n",
       "3        Mr.Dana Lee  data scientist  Data Science 2022-02-28  70000.0    Mr   \n",
       "4      Mrs.Eve White         analyst       Finance 2018-09-05  55000.0   Mrs   \n",
       "\n",
       "   Year  Month  Day Hire Date Formatted  Days Since Hire  \n",
       "0  2021      1   15          01-15-2021             1402  \n",
       "1  2020      7   23          07-23-2020             1578  \n",
       "2  2019     11   12          11-12-2019             1832  \n",
       "3  2022      2   28          02-28-2022              993  \n",
       "4  2018      9    5          09-05-2018             2265  "
      ]
     },
     "execution_count": 43,
     "metadata": {},
     "output_type": "execute_result"
    }
   ],
   "source": [
    "df"
   ]
  },
  {
   "cell_type": "code",
   "execution_count": null,
   "id": "df3fe288-8505-42fa-b1ab-c698f3030500",
   "metadata": {},
   "outputs": [],
   "source": []
  }
 ],
 "metadata": {
  "kernelspec": {
   "display_name": "Python 3 (ipykernel)",
   "language": "python",
   "name": "python3"
  },
  "language_info": {
   "codemirror_mode": {
    "name": "ipython",
    "version": 3
   },
   "file_extension": ".py",
   "mimetype": "text/x-python",
   "name": "python",
   "nbconvert_exporter": "python",
   "pygments_lexer": "ipython3",
   "version": "3.12.4"
  }
 },
 "nbformat": 4,
 "nbformat_minor": 5
}
