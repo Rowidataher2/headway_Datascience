{
 "cells": [
  {
   "cell_type": "code",
   "execution_count": 1,
   "id": "4593a641",
   "metadata": {},
   "outputs": [
    {
     "name": "stdout",
     "output_type": "stream",
     "text": [
      "3.11.9 | packaged by Anaconda, Inc. | (main, Apr 19 2024, 16:40:41) [MSC v.1916 64 bit (AMD64)]\n"
     ]
    }
   ],
   "source": [
    "import sys\n",
    "print(sys.version)"
   ]
  },
  {
   "cell_type": "code",
   "execution_count": 2,
   "id": "6c8f5d00",
   "metadata": {},
   "outputs": [
    {
     "name": "stdout",
     "output_type": "stream",
     "text": [
      "<class 'int'>\n"
     ]
    }
   ],
   "source": [
    "\n",
    "x=20\n",
    "print(type(x))"
   ]
  },
  {
   "cell_type": "code",
   "execution_count": 3,
   "id": "a562bdc2",
   "metadata": {},
   "outputs": [
    {
     "name": "stdout",
     "output_type": "stream",
     "text": [
      "<class 'float'>\n"
     ]
    }
   ],
   "source": [
    "y=2.44\n",
    "print(type(y))"
   ]
  },
  {
   "cell_type": "code",
   "execution_count": 4,
   "id": "9435c191",
   "metadata": {},
   "outputs": [
    {
     "name": "stdout",
     "output_type": "stream",
     "text": [
      "<class 'str'>\n"
     ]
    }
   ],
   "source": [
    "z='rowida'\n",
    "print(type(z))"
   ]
  },
  {
   "cell_type": "code",
   "execution_count": 5,
   "id": "b5e2416a",
   "metadata": {},
   "outputs": [
    {
     "name": "stdout",
     "output_type": "stream",
     "text": [
      "task number one\n"
     ]
    }
   ],
   "source": [
    "str1=\"task number one\"\n",
    "print(str1)\n"
   ]
  },
  {
   "cell_type": "code",
   "execution_count": 6,
   "id": "985e4c88",
   "metadata": {},
   "outputs": [
    {
     "name": "stdout",
     "output_type": "stream",
     "text": [
      "task n\n"
     ]
    }
   ],
   "source": [
    "#slice string by leaving out the start index\n",
    "print(str1[:6])"
   ]
  },
  {
   "cell_type": "code",
   "execution_count": 7,
   "id": "f672a8da",
   "metadata": {},
   "outputs": [
    {
     "name": "stdout",
     "output_type": "stream",
     "text": [
      "k number one\n"
     ]
    }
   ],
   "source": [
    "print(str1[3:])"
   ]
  },
  {
   "cell_type": "code",
   "execution_count": 8,
   "id": "08e6b3a8",
   "metadata": {},
   "outputs": [
    {
     "name": "stdout",
     "output_type": "stream",
     "text": [
      "r one\n"
     ]
    }
   ],
   "source": [
    "#negative indexing to start from the end\n",
    "print(str1[-5:])"
   ]
  },
  {
   "cell_type": "code",
   "execution_count": 9,
   "id": "c6f011dd",
   "metadata": {},
   "outputs": [
    {
     "name": "stdout",
     "output_type": "stream",
     "text": [
      " ROWIDA TAHER\n",
      " rowida taher\n"
     ]
    }
   ],
   "source": [
    "str2=\" Rowida Taher\"\n",
    "print(str2.upper())\n",
    "print(str2.lower())"
   ]
  },
  {
   "cell_type": "code",
   "execution_count": 10,
   "id": "68eb2566",
   "metadata": {},
   "outputs": [
    {
     "name": "stdout",
     "output_type": "stream",
     "text": [
      "Rowida Taher\n"
     ]
    }
   ],
   "source": [
    "#remove Whitespace \n",
    "print(str2.strip())"
   ]
  },
  {
   "cell_type": "code",
   "execution_count": 11,
   "id": "7525532f",
   "metadata": {},
   "outputs": [
    {
     "name": "stdout",
     "output_type": "stream",
     "text": [
      " Rewida Taher\n"
     ]
    }
   ],
   "source": [
    "#replace string with another string\n",
    "print(str2.replace(\"o\",\"e\"))"
   ]
  },
  {
   "cell_type": "code",
   "execution_count": 12,
   "id": "622a2ebc",
   "metadata": {},
   "outputs": [
    {
     "name": "stdout",
     "output_type": "stream",
     "text": [
      "['', 'Rowida', 'Taher']\n"
     ]
    }
   ],
   "source": [
    "#split string into substrings\n",
    "print(str2.split(\" \"))"
   ]
  },
  {
   "cell_type": "code",
   "execution_count": 13,
   "id": "1ab19d88",
   "metadata": {},
   "outputs": [
    {
     "name": "stdout",
     "output_type": "stream",
     "text": [
      "task number one Rowida Taher\n",
      "['task', 'number', 'one', 'Rowida', 'Taher']\n"
     ]
    }
   ],
   "source": [
    "#String Concatenation\n",
    "c=str1 + str2\n",
    "print(c)\n",
    "print(c.split(\" \"))"
   ]
  },
  {
   "cell_type": "code",
   "execution_count": 14,
   "id": "32221b87",
   "metadata": {},
   "outputs": [
    {
     "name": "stdout",
     "output_type": "stream",
     "text": [
      " Rowida Taher is 22\n"
     ]
    }
   ],
   "source": [
    "#f-strings format\n",
    "age=22\n",
    "print(f\"{str2} is {age}\")"
   ]
  },
  {
   "cell_type": "code",
   "execution_count": 15,
   "id": "766023bf",
   "metadata": {},
   "outputs": [
    {
     "name": "stdout",
     "output_type": "stream",
     "text": [
      "my age is 22.00\n"
     ]
    }
   ],
   "source": [
    "#placeholder with modifier\n",
    "print(f\"my age is {age:.2f}\")"
   ]
  },
  {
   "cell_type": "code",
   "execution_count": 16,
   "id": "935a624e",
   "metadata": {},
   "outputs": [
    {
     "name": "stdout",
     "output_type": "stream",
     "text": [
      "1\n"
     ]
    }
   ],
   "source": [
    "#count\n",
    "print(c.count(\"one\"))"
   ]
  },
  {
   "cell_type": "code",
   "execution_count": 17,
   "id": "3a4b6c91",
   "metadata": {},
   "outputs": [
    {
     "name": "stdout",
     "output_type": "stream",
     "text": [
      "5\n"
     ]
    }
   ],
   "source": [
    "#find\n",
    "print(c.find(\"number\"))"
   ]
  },
  {
   "cell_type": "code",
   "execution_count": 18,
   "id": "7636aaa4",
   "metadata": {},
   "outputs": [
    {
     "name": "stdout",
     "output_type": "stream",
     "text": [
      "28\n"
     ]
    }
   ],
   "source": [
    "print(len(c))"
   ]
  },
  {
   "cell_type": "code",
   "execution_count": 19,
   "id": "0b3110fb",
   "metadata": {},
   "outputs": [
    {
     "name": "stdout",
     "output_type": "stream",
     "text": [
      "enter a number: 20\n",
      "20 is Even number\n"
     ]
    }
   ],
   "source": [
    "num=int(input(\"enter a number: \"))\n",
    "if num%2==0:\n",
    "    print(f\"{num} is Even number\")\n",
    "else:\n",
    "    print(f\"{num} is Odd number\")"
   ]
  },
  {
   "cell_type": "code",
   "execution_count": 20,
   "id": "4832c7fe",
   "metadata": {},
   "outputs": [
    {
     "name": "stdout",
     "output_type": "stream",
     "text": [
      "1\n",
      "2\n",
      "3\n",
      "4\n",
      "6\n",
      "7\n",
      "8\n",
      "9\n",
      "10\n"
     ]
    }
   ],
   "source": [
    "num1=1\n",
    "while num1<=10:\n",
    "    if num1==5:\n",
    "        num1+=1\n",
    "        continue\n",
    "    print(num1)\n",
    "    num1+=1"
   ]
  },
  {
   "cell_type": "code",
   "execution_count": 21,
   "id": "64d5e092",
   "metadata": {},
   "outputs": [
    {
     "name": "stdout",
     "output_type": "stream",
     "text": [
      "1\n",
      "2\n",
      "3\n",
      "4\n",
      "5\n"
     ]
    }
   ],
   "source": [
    "num3=1\n",
    "while num3<=10:\n",
    "    print(num3)\n",
    "    if num3==5:\n",
    "        break\n",
    "    num3+=1\n",
    "  "
   ]
  },
  {
   "cell_type": "code",
   "execution_count": 22,
   "id": "3aea30d3",
   "metadata": {},
   "outputs": [
    {
     "name": "stdout",
     "output_type": "stream",
     "text": [
      "0\n",
      "1\n",
      "2\n",
      "3\n",
      "4\n",
      "5\n",
      "6\n"
     ]
    }
   ],
   "source": [
    "for i in range(10):\n",
    "    if i==7:\n",
    "        break\n",
    "    print(i)\n",
    "\n"
   ]
  },
  {
   "cell_type": "code",
   "execution_count": 23,
   "id": "1107bc1b",
   "metadata": {},
   "outputs": [
    {
     "name": "stdout",
     "output_type": "stream",
     "text": [
      "1\n",
      "2\n",
      "3\n",
      "4\n",
      "6\n",
      "7\n",
      "8\n",
      "9\n"
     ]
    }
   ],
   "source": [
    "numbers = [1, 2, 3, 4, 5, 6, 7, 8, 9]\n",
    "for i in numbers:\n",
    "    if i%5==0:\n",
    "        continue\n",
    "    print(i)\n"
   ]
  },
  {
   "cell_type": "code",
   "execution_count": 24,
   "id": "f0b93b82",
   "metadata": {},
   "outputs": [
    {
     "name": "stdout",
     "output_type": "stream",
     "text": [
      "yes\n",
      "['good', 'excellent']\n",
      "['G', 'E', 'F', 'verygood']\n",
      "['A', 'B', 'GG', 'C']\n",
      "['A', 'B', 'GG', 'C', 'ss']\n",
      "['A', 'B', 'GG', 'C', 'ss', 'G', 'E', 'F', 'verygood']\n",
      "['A', 'B', 'GG', 'C', 'ss', 'G', 'E', 'F']\n",
      "['G', 'E', 'verygood']\n",
      "['E', 'verygood']\n",
      "[]\n"
     ]
    },
    {
     "ename": "NameError",
     "evalue": "name 'grades' is not defined",
     "output_type": "error",
     "traceback": [
      "\u001b[1;31m---------------------------------------------------------------------------\u001b[0m",
      "\u001b[1;31mNameError\u001b[0m                                 Traceback (most recent call last)",
      "Cell \u001b[1;32mIn[24], line 42\u001b[0m\n\u001b[0;32m     40\u001b[0m \u001b[38;5;66;03m#delete list\u001b[39;00m\n\u001b[0;32m     41\u001b[0m \u001b[38;5;28;01mdel\u001b[39;00m grades\n\u001b[1;32m---> 42\u001b[0m \u001b[38;5;28mprint\u001b[39m(\u001b[43mgrades\u001b[49m)\n",
      "\u001b[1;31mNameError\u001b[0m: name 'grades' is not defined"
     ]
    }
   ],
   "source": [
    "#list indexed,mutable\n",
    "grades=[\"good\",\"excellent\",\"verygood\"]\n",
    "if \"verygood\" in grades:\n",
    "    print(\"yes\")\n",
    "print(grades[:-1])\n",
    "\n",
    "#replace values of list and insert\n",
    "grades[0:2]=[\"G\",\"E\",\"F\"]\n",
    "print(grades)\n",
    "\n",
    "#insert without replace\n",
    "classes=[\"A\",\"B\",\"C\"]\n",
    "classes.insert(2,\"GG\")\n",
    "print(classes)\n",
    "\n",
    "#add in the end of list\n",
    "classes.append(\"ss\")\n",
    "print(classes)\n",
    "\n",
    "#extend list\n",
    "classes.extend(grades)\n",
    "print(classes)\n",
    "\n",
    "#remove last item\n",
    "classes.pop()\n",
    "print(classes)\n",
    "\n",
    "#remove\n",
    "grades.remove(\"F\")\n",
    "print(grades)\n",
    "\n",
    "#del\n",
    "del grades[0]\n",
    "print(grades)\n",
    "\n",
    "#clear list\n",
    "grades.clear()\n",
    "print(grades)\n",
    "\n",
    "#delete list\n",
    "del grades\n",
    "print(grades)"
   ]
  },
  {
   "cell_type": "code",
   "execution_count": 25,
   "id": "ca0d56f8",
   "metadata": {},
   "outputs": [
    {
     "name": "stdout",
     "output_type": "stream",
     "text": [
      "['apple', 'orange', 'watermelon']\n",
      "['apple', 'orange', 'grapes']\n",
      "[10, 20, 30]\n",
      "[30, 20, 10]\n"
     ]
    }
   ],
   "source": [
    "#List comprehension>>create new list from existing list\n",
    "fruits=[\"apple\",\"orange\",\"watermelon\"]\n",
    "newlist=[x for x in fruits]\n",
    "print(newlist)\n",
    "\n",
    "newlist=[x if x!=\"watermelon\" else \n",
    "      \"grapes\" for x in fruits]\n",
    "print(newlist)\n",
    "#sort list\n",
    "lst=[10,20,30]\n",
    "lst.sort()\n",
    "print(lst)\n",
    "\n",
    "lst.sort(reverse=True)\n",
    "print(lst)"
   ]
  },
  {
   "cell_type": "code",
   "execution_count": 26,
   "id": "388c9e39",
   "metadata": {},
   "outputs": [
    {
     "name": "stdout",
     "output_type": "stream",
     "text": [
      "['apple', 'orange', 'watermelon']\n",
      "['apple', 'orange', 'watermelon']\n",
      "['apple', 'orange', 'watermelon']\n"
     ]
    }
   ],
   "source": [
    "#make copy of list\n",
    "lst2=fruits.copy()\n",
    "print(lst2)\n",
    "\n",
    "lst3=list(fruits)\n",
    "print(lst3)\n",
    "\n",
    "lst4=fruits[:]\n",
    "print(lst4)"
   ]
  },
  {
   "cell_type": "code",
   "execution_count": 27,
   "id": "c3d674a1",
   "metadata": {},
   "outputs": [
    {
     "name": "stdout",
     "output_type": "stream",
     "text": [
      "('a', 'b', 'c')\n",
      "<class 'tuple'>\n",
      "a\n"
     ]
    },
    {
     "ename": "TypeError",
     "evalue": "'tuple' object does not support item assignment",
     "output_type": "error",
     "traceback": [
      "\u001b[1;31m---------------------------------------------------------------------------\u001b[0m",
      "\u001b[1;31mTypeError\u001b[0m                                 Traceback (most recent call last)",
      "Cell \u001b[1;32mIn[27], line 11\u001b[0m\n\u001b[0;32m      8\u001b[0m newtuple\u001b[38;5;241m=\u001b[39m\u001b[38;5;28mtuple\u001b[39m\u001b[38;5;241m*\u001b[39m\u001b[38;5;241m2\u001b[39m\n\u001b[0;32m      9\u001b[0m newtuple\n\u001b[1;32m---> 11\u001b[0m \u001b[38;5;28;43mtuple\u001b[39;49m\u001b[43m[\u001b[49m\u001b[38;5;241;43m2\u001b[39;49m\u001b[43m]\u001b[49m\u001b[38;5;241m=\u001b[39m\u001b[38;5;124m\"\u001b[39m\u001b[38;5;124md\u001b[39m\u001b[38;5;124m\"\u001b[39m\n",
      "\u001b[1;31mTypeError\u001b[0m: 'tuple' object does not support item assignment"
     ]
    }
   ],
   "source": [
    "#tuples indexed,immutable\n",
    "tuple=(\"a\",\"b\",\"c\")\n",
    "print(tuple)\n",
    "print(type(tuple))\n",
    "print(tuple[0])\n",
    "tuple.index(\"c\")\n",
    "\n",
    "newtuple=tuple*2\n",
    "newtuple\n",
    "\n",
    "tuple[2]=\"d\"\n"
   ]
  },
  {
   "cell_type": "code",
   "execution_count": 28,
   "id": "648a551e",
   "metadata": {},
   "outputs": [
    {
     "name": "stdout",
     "output_type": "stream",
     "text": [
      "{'c', 'b', 'a'}\n",
      "<class 'set'>\n"
     ]
    },
    {
     "data": {
      "text/plain": [
       "{1, 2, 3, 'a', 'b', 'c'}"
      ]
     },
     "execution_count": 28,
     "metadata": {},
     "output_type": "execute_result"
    }
   ],
   "source": [
    "#sets unindexed,immutable,no duplicate\n",
    "set={\"a\",\"b\",\"c\",\"a\"}\n",
    "set1={1,2,3,4,5}\n",
    "print(set)\n",
    "print(type(set))\n",
    "\n",
    "#add item\n",
    "set.add(\"ee\")\n",
    "set\n",
    "\n",
    "#update or join\n",
    "set1.update(set)\n",
    "set1\n",
    "\n",
    "#remove item or discard()\n",
    "set1.remove(\"ee\")\n",
    "set1\n",
    "\n",
    "#join\n",
    "set2 = {\"a\", \"b\", \"c\"}\n",
    "set3 = {1, 2, 3}\n",
    "\n",
    "#union\n",
    "union_Set=set2.union(set3)\n",
    "union_Set\n",
    "\n"
   ]
  },
  {
   "cell_type": "code",
   "execution_count": 29,
   "id": "c4cc96aa",
   "metadata": {},
   "outputs": [
    {
     "name": "stdout",
     "output_type": "stream",
     "text": [
      "the first name is rowida\n"
     ]
    }
   ],
   "source": [
    "#function\n",
    "def print_first_name(name):\n",
    "    print(f\"the first name is {name}\")\n",
    "print_first_name(\"rowida\")"
   ]
  },
  {
   "cell_type": "code",
   "execution_count": 30,
   "id": "24f0f2eb",
   "metadata": {},
   "outputs": [
    {
     "name": "stdout",
     "output_type": "stream",
     "text": [
      "120\n"
     ]
    }
   ],
   "source": [
    "def factorial(n):\n",
    "    if n == 0:\n",
    "        return 1\n",
    "    else:\n",
    "        return n * factorial(n-1)\n",
    "\n",
    "print(factorial(5)) \n"
   ]
  },
  {
   "cell_type": "code",
   "execution_count": null,
   "id": "879b03cb",
   "metadata": {},
   "outputs": [],
   "source": []
  },
  {
   "cell_type": "code",
   "execution_count": null,
   "id": "0b9761e7",
   "metadata": {},
   "outputs": [],
   "source": []
  },
  {
   "cell_type": "code",
   "execution_count": null,
   "id": "cc1e7b4d",
   "metadata": {},
   "outputs": [],
   "source": []
  },
  {
   "cell_type": "code",
   "execution_count": null,
   "id": "a2f8c7e8",
   "metadata": {},
   "outputs": [],
   "source": []
  },
  {
   "cell_type": "code",
   "execution_count": null,
   "id": "22ac445d",
   "metadata": {},
   "outputs": [],
   "source": []
  }
 ],
 "metadata": {
  "kernelspec": {
   "display_name": "python311",
   "language": "python",
   "name": "python311"
  },
  "language_info": {
   "codemirror_mode": {
    "name": "ipython",
    "version": 3
   },
   "file_extension": ".py",
   "mimetype": "text/x-python",
   "name": "python",
   "nbconvert_exporter": "python",
   "pygments_lexer": "ipython3",
   "version": "3.11.9"
  }
 },
 "nbformat": 4,
 "nbformat_minor": 5
}
